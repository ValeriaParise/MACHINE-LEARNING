{
 "cells": [
  {
   "cell_type": "markdown",
   "id": "f0b8875b",
   "metadata": {},
   "source": [
    "# Notebook di introduzione a Numpy, Pandas"
   ]
  },
  {
   "cell_type": "markdown",
   "id": "8c959bf4",
   "metadata": {},
   "source": [
    "## 1. Installazione librerie"
   ]
  },
  {
   "cell_type": "code",
   "execution_count": null,
   "id": "50f1c90f",
   "metadata": {},
   "outputs": [
    {
     "name": "stdout",
     "output_type": "stream",
     "text": [
      "Requirement already satisfied: pandas in c:\\users\\pc teacher\\desktop\\davide iacopino\\esercitazioni\\lib\\site-packages (from -r requirements.txt (line 1)) (2.3.3)\n",
      "Requirement already satisfied: seaborn in c:\\users\\pc teacher\\desktop\\davide iacopino\\esercitazioni\\lib\\site-packages (from -r requirements.txt (line 2)) (0.13.2)\n",
      "Requirement already satisfied: plotly in c:\\users\\pc teacher\\desktop\\davide iacopino\\esercitazioni\\lib\\site-packages (from -r requirements.txt (line 3)) (6.3.1)\n",
      "Requirement already satisfied: ipython in c:\\users\\pc teacher\\desktop\\davide iacopino\\esercitazioni\\lib\\site-packages (from -r requirements.txt (line 4)) (9.6.0)\n",
      "Requirement already satisfied: ipykernel in c:\\users\\pc teacher\\desktop\\davide iacopino\\esercitazioni\\lib\\site-packages (from -r requirements.txt (line 5)) (7.0.1)\n",
      "Requirement already satisfied: imblearn in c:\\users\\pc teacher\\desktop\\davide iacopino\\esercitazioni\\lib\\site-packages (from -r requirements.txt (line 6)) (0.0)\n",
      "Requirement already satisfied: numpy>=1.26.0 in c:\\users\\pc teacher\\desktop\\davide iacopino\\esercitazioni\\lib\\site-packages (from pandas->-r requirements.txt (line 1)) (2.3.4)\n",
      "Requirement already satisfied: python-dateutil>=2.8.2 in c:\\users\\pc teacher\\desktop\\davide iacopino\\esercitazioni\\lib\\site-packages (from pandas->-r requirements.txt (line 1)) (2.9.0.post0)\n",
      "Requirement already satisfied: pytz>=2020.1 in c:\\users\\pc teacher\\desktop\\davide iacopino\\esercitazioni\\lib\\site-packages (from pandas->-r requirements.txt (line 1)) (2025.2)\n",
      "Requirement already satisfied: tzdata>=2022.7 in c:\\users\\pc teacher\\desktop\\davide iacopino\\esercitazioni\\lib\\site-packages (from pandas->-r requirements.txt (line 1)) (2025.2)\n",
      "Requirement already satisfied: matplotlib!=3.6.1,>=3.4 in c:\\users\\pc teacher\\desktop\\davide iacopino\\esercitazioni\\lib\\site-packages (from seaborn->-r requirements.txt (line 2)) (3.10.7)\n",
      "Requirement already satisfied: narwhals>=1.15.1 in c:\\users\\pc teacher\\desktop\\davide iacopino\\esercitazioni\\lib\\site-packages (from plotly->-r requirements.txt (line 3)) (2.9.0)\n",
      "Requirement already satisfied: packaging in c:\\users\\pc teacher\\desktop\\davide iacopino\\esercitazioni\\lib\\site-packages (from plotly->-r requirements.txt (line 3)) (25.0)\n",
      "Requirement already satisfied: colorama in c:\\users\\pc teacher\\desktop\\davide iacopino\\esercitazioni\\lib\\site-packages (from ipython->-r requirements.txt (line 4)) (0.4.6)\n",
      "Requirement already satisfied: decorator in c:\\users\\pc teacher\\desktop\\davide iacopino\\esercitazioni\\lib\\site-packages (from ipython->-r requirements.txt (line 4)) (5.2.1)\n",
      "Requirement already satisfied: ipython-pygments-lexers in c:\\users\\pc teacher\\desktop\\davide iacopino\\esercitazioni\\lib\\site-packages (from ipython->-r requirements.txt (line 4)) (1.1.1)\n",
      "Requirement already satisfied: jedi>=0.16 in c:\\users\\pc teacher\\desktop\\davide iacopino\\esercitazioni\\lib\\site-packages (from ipython->-r requirements.txt (line 4)) (0.19.2)\n",
      "Requirement already satisfied: matplotlib-inline in c:\\users\\pc teacher\\desktop\\davide iacopino\\esercitazioni\\lib\\site-packages (from ipython->-r requirements.txt (line 4)) (0.1.7)\n",
      "Requirement already satisfied: prompt_toolkit<3.1.0,>=3.0.41 in c:\\users\\pc teacher\\desktop\\davide iacopino\\esercitazioni\\lib\\site-packages (from ipython->-r requirements.txt (line 4)) (3.0.52)\n",
      "Requirement already satisfied: pygments>=2.4.0 in c:\\users\\pc teacher\\desktop\\davide iacopino\\esercitazioni\\lib\\site-packages (from ipython->-r requirements.txt (line 4)) (2.19.2)\n",
      "Requirement already satisfied: stack_data in c:\\users\\pc teacher\\desktop\\davide iacopino\\esercitazioni\\lib\\site-packages (from ipython->-r requirements.txt (line 4)) (0.6.3)\n",
      "Requirement already satisfied: traitlets>=5.13.0 in c:\\users\\pc teacher\\desktop\\davide iacopino\\esercitazioni\\lib\\site-packages (from ipython->-r requirements.txt (line 4)) (5.14.3)\n",
      "Requirement already satisfied: wcwidth in c:\\users\\pc teacher\\desktop\\davide iacopino\\esercitazioni\\lib\\site-packages (from prompt_toolkit<3.1.0,>=3.0.41->ipython->-r requirements.txt (line 4)) (0.2.14)\n",
      "Requirement already satisfied: comm>=0.1.1 in c:\\users\\pc teacher\\desktop\\davide iacopino\\esercitazioni\\lib\\site-packages (from ipykernel->-r requirements.txt (line 5)) (0.2.3)\n",
      "Requirement already satisfied: debugpy>=1.6.5 in c:\\users\\pc teacher\\desktop\\davide iacopino\\esercitazioni\\lib\\site-packages (from ipykernel->-r requirements.txt (line 5)) (1.8.17)\n",
      "Requirement already satisfied: jupyter-client>=8.0.0 in c:\\users\\pc teacher\\desktop\\davide iacopino\\esercitazioni\\lib\\site-packages (from ipykernel->-r requirements.txt (line 5)) (8.6.3)\n",
      "Requirement already satisfied: jupyter-core!=5.0.*,>=4.12 in c:\\users\\pc teacher\\desktop\\davide iacopino\\esercitazioni\\lib\\site-packages (from ipykernel->-r requirements.txt (line 5)) (5.9.1)\n",
      "Requirement already satisfied: nest-asyncio>=1.4 in c:\\users\\pc teacher\\desktop\\davide iacopino\\esercitazioni\\lib\\site-packages (from ipykernel->-r requirements.txt (line 5)) (1.6.0)\n",
      "Requirement already satisfied: psutil>=5.7 in c:\\users\\pc teacher\\desktop\\davide iacopino\\esercitazioni\\lib\\site-packages (from ipykernel->-r requirements.txt (line 5)) (7.1.1)\n",
      "Requirement already satisfied: pyzmq>=25 in c:\\users\\pc teacher\\desktop\\davide iacopino\\esercitazioni\\lib\\site-packages (from ipykernel->-r requirements.txt (line 5)) (27.1.0)\n",
      "Requirement already satisfied: tornado>=6.2 in c:\\users\\pc teacher\\desktop\\davide iacopino\\esercitazioni\\lib\\site-packages (from ipykernel->-r requirements.txt (line 5)) (6.5.2)\n",
      "Requirement already satisfied: imbalanced-learn in c:\\users\\pc teacher\\desktop\\davide iacopino\\esercitazioni\\lib\\site-packages (from imblearn->-r requirements.txt (line 6)) (0.14.0)\n",
      "Requirement already satisfied: parso<0.9.0,>=0.8.4 in c:\\users\\pc teacher\\desktop\\davide iacopino\\esercitazioni\\lib\\site-packages (from jedi>=0.16->ipython->-r requirements.txt (line 4)) (0.8.5)\n",
      "Requirement already satisfied: platformdirs>=2.5 in c:\\users\\pc teacher\\desktop\\davide iacopino\\esercitazioni\\lib\\site-packages (from jupyter-core!=5.0.*,>=4.12->ipykernel->-r requirements.txt (line 5)) (4.5.0)\n",
      "Requirement already satisfied: contourpy>=1.0.1 in c:\\users\\pc teacher\\desktop\\davide iacopino\\esercitazioni\\lib\\site-packages (from matplotlib!=3.6.1,>=3.4->seaborn->-r requirements.txt (line 2)) (1.3.3)\n",
      "Requirement already satisfied: cycler>=0.10 in c:\\users\\pc teacher\\desktop\\davide iacopino\\esercitazioni\\lib\\site-packages (from matplotlib!=3.6.1,>=3.4->seaborn->-r requirements.txt (line 2)) (0.12.1)\n",
      "Requirement already satisfied: fonttools>=4.22.0 in c:\\users\\pc teacher\\desktop\\davide iacopino\\esercitazioni\\lib\\site-packages (from matplotlib!=3.6.1,>=3.4->seaborn->-r requirements.txt (line 2)) (4.60.1)\n",
      "Requirement already satisfied: kiwisolver>=1.3.1 in c:\\users\\pc teacher\\desktop\\davide iacopino\\esercitazioni\\lib\\site-packages (from matplotlib!=3.6.1,>=3.4->seaborn->-r requirements.txt (line 2)) (1.4.9)\n",
      "Requirement already satisfied: pillow>=8 in c:\\users\\pc teacher\\desktop\\davide iacopino\\esercitazioni\\lib\\site-packages (from matplotlib!=3.6.1,>=3.4->seaborn->-r requirements.txt (line 2)) (12.0.0)\n",
      "Requirement already satisfied: pyparsing>=3 in c:\\users\\pc teacher\\desktop\\davide iacopino\\esercitazioni\\lib\\site-packages (from matplotlib!=3.6.1,>=3.4->seaborn->-r requirements.txt (line 2)) (3.2.5)\n",
      "Requirement already satisfied: six>=1.5 in c:\\users\\pc teacher\\desktop\\davide iacopino\\esercitazioni\\lib\\site-packages (from python-dateutil>=2.8.2->pandas->-r requirements.txt (line 1)) (1.17.0)\n",
      "Requirement already satisfied: scipy<2,>=1.11.4 in c:\\users\\pc teacher\\desktop\\davide iacopino\\esercitazioni\\lib\\site-packages (from imbalanced-learn->imblearn->-r requirements.txt (line 6)) (1.16.2)\n",
      "Requirement already satisfied: scikit-learn<2,>=1.4.2 in c:\\users\\pc teacher\\desktop\\davide iacopino\\esercitazioni\\lib\\site-packages (from imbalanced-learn->imblearn->-r requirements.txt (line 6)) (1.7.2)\n",
      "Requirement already satisfied: joblib<2,>=1.2.0 in c:\\users\\pc teacher\\desktop\\davide iacopino\\esercitazioni\\lib\\site-packages (from imbalanced-learn->imblearn->-r requirements.txt (line 6)) (1.5.2)\n",
      "Requirement already satisfied: threadpoolctl<4,>=2.0.0 in c:\\users\\pc teacher\\desktop\\davide iacopino\\esercitazioni\\lib\\site-packages (from imbalanced-learn->imblearn->-r requirements.txt (line 6)) (3.6.0)\n",
      "Requirement already satisfied: executing>=1.2.0 in c:\\users\\pc teacher\\desktop\\davide iacopino\\esercitazioni\\lib\\site-packages (from stack_data->ipython->-r requirements.txt (line 4)) (2.2.1)\n",
      "Requirement already satisfied: asttokens>=2.1.0 in c:\\users\\pc teacher\\desktop\\davide iacopino\\esercitazioni\\lib\\site-packages (from stack_data->ipython->-r requirements.txt (line 4)) (3.0.0)\n",
      "Requirement already satisfied: pure-eval in c:\\users\\pc teacher\\desktop\\davide iacopino\\esercitazioni\\lib\\site-packages (from stack_data->ipython->-r requirements.txt (line 4)) (0.2.3)\n"
     ]
    }
   ],
   "source": [
    "!pip install -r requirements.txt"
   ]
  },
  {
   "cell_type": "markdown",
   "id": "fc7e5561",
   "metadata": {},
   "source": [
    "## 2. Import delle librerie"
   ]
  },
  {
   "cell_type": "code",
   "execution_count": null,
   "id": "3480d73d",
   "metadata": {},
   "outputs": [
    {
     "data": {
      "text/plain": [
       "' utile per i notebook Jupyter:\\nsenza %matplotlib inline, il grafico potrebbe non apparire nel notebook (oppure aprirsi in un’altra finestra, a seconda del backend di Matplotlib).\\nCon %matplotlib inline, invece, il grafico viene renderizzato subito sotto la cella di codice, come immagine statica.\\n'"
      ]
     },
     "metadata": {},
     "output_type": "display_data"
    }
   ],
   "source": [
    "import numpy as np\n",
    "import pandas as pd\n",
    "import matplotlib.pyplot as plt\n",
    "import seaborn as sns\n",
    "import plotly \n",
    "import sklearn # scikit-learn\n",
    "from sklearn.preprocessing import LabelEncoder, OneHotEncoder\n",
    "import openpyxl\n",
    "\n",
    "# Impostiamo alcune opzioni grafiche per una visualizzazione più chiara\n",
    "sns.set_theme(style=\"whitegrid\")\n",
    "plt.rcParams['figure.figsize'] = (8, 5)\n",
    "\n",
    "%matplotlib inline\n",
    "''' utile per i notebook Jupyter:\n",
    "senza %matplotlib inline, il grafico potrebbe non apparire nel notebook (oppure aprirsi in un’altra finestra, a seconda del backend di Matplotlib).\n",
    "Con %matplotlib inline, invece, il grafico viene renderizzato subito sotto la cella di codice, come immagine statica.\n",
    "'''"
   ]
  },
  {
   "cell_type": "markdown",
   "id": "d0dd59fc",
   "metadata": {},
   "source": [
    "## Numpy"
   ]
  },
  {
   "cell_type": "code",
   "execution_count": null,
   "id": "d6a97120",
   "metadata": {},
   "outputs": [
    {
     "name": "stdout",
     "output_type": "stream",
     "text": [
      "[1 2 3 4 5]\n"
     ]
    }
   ],
   "source": [
    "# ----------------------------------------------------\n",
    "# 🧮 NUMPY: Creazione e manipolazione di array\n",
    "# ----------------------------------------------------\n",
    "\n",
    "# Creazione di array\n",
    "l = [1, 2, 3, 4, 5]\n",
    "a = np.array(l) # array 1D\n",
    "print(a)"
   ]
  },
  {
   "cell_type": "code",
   "execution_count": null,
   "id": "8416fba6",
   "metadata": {},
   "outputs": [
    {
     "data": {
      "text/plain": [
       "array([0, 2, 4, 6, 8])"
      ]
     },
     "metadata": {},
     "output_type": "display_data"
    }
   ],
   "source": [
    "b = np.arange(0, 10, 2) # array con valori da 0 a 10 con passo 2\n",
    "b"
   ]
  },
  {
   "cell_type": "code",
   "execution_count": null,
   "id": "706d0540",
   "metadata": {},
   "outputs": [
    {
     "data": {
      "text/plain": [
       "array([0.  , 0.25, 0.5 , 0.75, 1.  ])"
      ]
     },
     "metadata": {},
     "output_type": "display_data"
    }
   ],
   "source": [
    "c = np.linspace(0, 1, 5) # array con 5 valori equidistanti tra 0 e 1\n",
    "c"
   ]
  },
  {
   "cell_type": "code",
   "execution_count": null,
   "id": "9cf39b81",
   "metadata": {},
   "outputs": [
    {
     "name": "stdout",
     "output_type": "stream",
     "text": [
      "[[0 0 0]\n",
      " [0 0 0]]\n"
     ]
    }
   ],
   "source": [
    "Z = np.zeros((2, 3), dtype=\"int\") # matrice 2x3 di zeri\n",
    "print(Z)"
   ]
  },
  {
   "cell_type": "code",
   "execution_count": null,
   "id": "57bcd0d7",
   "metadata": {},
   "outputs": [
    {
     "data": {
      "text/plain": [
       "array([[1., 1., 1.],\n",
       "       [1., 1., 1.],\n",
       "       [1., 1., 1.]])"
      ]
     },
     "metadata": {},
     "output_type": "display_data"
    }
   ],
   "source": [
    "O = np.ones((3, 3)) # matrice 3x3 di uni\n",
    "O"
   ]
  },
  {
   "cell_type": "code",
   "execution_count": null,
   "id": "9cb20bc8",
   "metadata": {},
   "outputs": [
    {
     "name": "stdout",
     "output_type": "stream",
     "text": [
      "Array base: [1 2 3 4 5]\n",
      "Array + 10: [11 12 13 14 15]\n",
      "Array al quadrato: [ 1  4  9 16 25]\n"
     ]
    }
   ],
   "source": [
    "# Creazione di un array NumPy\n",
    "arr = np.array([1, 2, 3, 4, 5])\n",
    "print(\"Array base:\", arr)\n",
    "\n",
    "# Operazioni matematiche elementari (vettorizzate)\n",
    "print(\"Array + 10:\", arr + 10)\n",
    "print(\"Array al quadrato:\", arr ** 2)"
   ]
  },
  {
   "cell_type": "code",
   "execution_count": null,
   "id": "816ee372",
   "metadata": {},
   "outputs": [
    {
     "name": "stdout",
     "output_type": "stream",
     "text": [
      "Media: 3.0\n",
      "Deviazione standard: 1.4142135623730951\n",
      "Somma: 15\n",
      "Valore massimo: 5\n",
      "3.0\n",
      "1\n",
      "4\n",
      "[ 1  3  6 10 15]\n",
      "0\n"
     ]
    }
   ],
   "source": [
    "# Statistiche di base\n",
    "print(\"Media:\", np.mean(arr))\n",
    "print(\"Deviazione standard:\", np.std(arr))\n",
    "print(\"Somma:\", np.sum(a))\n",
    "print(\"Valore massimo:\", np.max(a))\n",
    "\n",
    "print(np.median(a))     # mediana\n",
    "print(np.min(a))        # minimo\n",
    "print(np.argmax(a))     # indice del massimo\n",
    "print(np.cumsum(a))     # somma cumulativa\n",
    "print(np.argmin(a))"
   ]
  },
  {
   "cell_type": "code",
   "execution_count": null,
   "id": "ca11293f",
   "metadata": {},
   "outputs": [
    {
     "data": {
      "text/plain": [
       "array([[0.16306796, 0.69198349, 0.65543461],\n",
       "       [0.70915589, 0.29968242, 0.63431029]])"
      ]
     },
     "metadata": {},
     "output_type": "display_data"
    }
   ],
   "source": [
    "R = np.random.rand(2, 3) # matrice 2x3 di valori casuali\n",
    "R"
   ]
  },
  {
   "cell_type": "code",
   "execution_count": null,
   "id": "4d5f26b0",
   "metadata": {},
   "outputs": [
    {
     "name": "stdout",
     "output_type": "stream",
     "text": [
      "Matrice 2x3:\n",
      " [[1 2 3]\n",
      " [4 5 6]]\n"
     ]
    }
   ],
   "source": [
    "# Array multidimensionale (matrice)\n",
    "mat = np.array([[1, 2, 3], [4, 5, 6]])\n",
    "print(\"Matrice 2x3:\\n\", mat)"
   ]
  },
  {
   "cell_type": "code",
   "execution_count": null,
   "id": "7e43c9ad",
   "metadata": {},
   "outputs": [
    {
     "data": {
      "text/plain": [
       "6"
      ]
     },
     "metadata": {},
     "output_type": "display_data"
    }
   ],
   "source": [
    "mat.size #numero di elementi"
   ]
  },
  {
   "cell_type": "code",
   "execution_count": null,
   "id": "861cdb2f",
   "metadata": {},
   "outputs": [
    {
     "data": {
      "text/plain": [
       "(2, 3)"
      ]
     },
     "metadata": {},
     "output_type": "display_data"
    }
   ],
   "source": [
    "mat.shape #la forma della matrice (quanti elementi sulle varie dimensioni)"
   ]
  },
  {
   "cell_type": "code",
   "execution_count": null,
   "id": "2f970cfa",
   "metadata": {},
   "outputs": [
    {
     "data": {
      "text/plain": [
       "dtype('int64')"
      ]
     },
     "metadata": {},
     "output_type": "display_data"
    }
   ],
   "source": [
    "mat.dtype #tipo di dato degli elementi della matrice"
   ]
  },
  {
   "cell_type": "code",
   "execution_count": null,
   "id": "ae29927e",
   "metadata": {},
   "outputs": [
    {
     "data": {
      "text/plain": [
       "dtype('float64')"
      ]
     },
     "metadata": {},
     "output_type": "display_data"
    }
   ],
   "source": [
    "R.dtype"
   ]
  },
  {
   "cell_type": "code",
   "execution_count": null,
   "id": "b7625285",
   "metadata": {},
   "outputs": [
    {
     "name": "stdout",
     "output_type": "stream",
     "text": [
      "Elemento (0,1): 2\n"
     ]
    }
   ],
   "source": [
    "# Selezione di elementi\n",
    "print(\"Elemento (0,1):\", mat[0, 1])  # riga 0, colonna 1"
   ]
  },
  {
   "cell_type": "code",
   "execution_count": null,
   "id": "3ee9e34d",
   "metadata": {},
   "outputs": [
    {
     "name": "stdout",
     "output_type": "stream",
     "text": [
      "\n",
      "Somma elemento per elemento: [5 7 9]\n"
     ]
    }
   ],
   "source": [
    "# Operazioni tra array\n",
    "x = np.array([1, 2, 3])\n",
    "y = np.array([4, 5, 6])\n",
    "print(\"\\nSomma elemento per elemento:\", x + y)"
   ]
  },
  {
   "cell_type": "code",
   "execution_count": null,
   "id": "93a622ea",
   "metadata": {},
   "outputs": [
    {
     "name": "stdout",
     "output_type": "stream",
     "text": [
      "Prodotto elemento per elemento: [ 4 10 18]\n"
     ]
    }
   ],
   "source": [
    "print(\"Prodotto elemento per elemento:\", x * y)"
   ]
  },
  {
   "cell_type": "code",
   "execution_count": null,
   "id": "b0d0b755",
   "metadata": {},
   "outputs": [
    {
     "name": "stdout",
     "output_type": "stream",
     "text": [
      "Prodotto scalare: 32\n"
     ]
    }
   ],
   "source": [
    "print(\"Prodotto scalare:\", np.dot(x, y))"
   ]
  },
  {
   "cell_type": "code",
   "execution_count": null,
   "id": "ef3621ba",
   "metadata": {},
   "outputs": [
    {
     "name": "stdout",
     "output_type": "stream",
     "text": [
      "\n",
      "Array originale:\n",
      " [[1 2]\n",
      " [3 4]\n",
      " [5 6]]\n",
      "Forma: (3, 2)\n",
      "Trasposto:\n",
      " [[1 3 5]\n",
      " [2 4 6]]\n",
      "Appiattito: [1 2 3 4 5 6]\n"
     ]
    }
   ],
   "source": [
    "# Manipolazione array\n",
    "M = np.array([[1, 2], [3, 4], [5, 6]])\n",
    "print(\"\\nArray originale:\\n\", M)\n",
    "print(\"Forma:\", M.shape)\n",
    "print(\"Trasposto:\\n\", M.T) # trasposta (righe ↔ colonne)\n",
    "print(\"Appiattito:\", M.flatten()) # “appiattisce” l’array in 1D"
   ]
  },
  {
   "cell_type": "code",
   "execution_count": null,
   "id": "6f43edb3",
   "metadata": {},
   "outputs": [
    {
     "name": "stdout",
     "output_type": "stream",
     "text": [
      "[[1 2 3]\n",
      " [4 5 6]]\n",
      "(2, 3)\n"
     ]
    }
   ],
   "source": [
    "M_reshaped=M.reshape(2,3)   # cambia forma (senza cambiare i dati) \n",
    "print(M_reshaped)\n",
    "print(M_reshaped.shape)"
   ]
  },
  {
   "cell_type": "code",
   "execution_count": null,
   "id": "f4f753d3",
   "metadata": {},
   "outputs": [
    {
     "data": {
      "text/plain": [
       "array([[1, 2, 3, 4, 5, 6]])"
      ]
     },
     "metadata": {},
     "output_type": "display_data"
    }
   ],
   "source": [
    "M.flatten().reshape((1,6))"
   ]
  },
  {
   "cell_type": "code",
   "execution_count": null,
   "id": "daecf55f",
   "metadata": {},
   "outputs": [
    {
     "data": {
      "text/plain": [
       "array([[2, 4, 6],\n",
       "       [1, 3, 5]])"
      ]
     },
     "metadata": {},
     "output_type": "display_data"
    }
   ],
   "source": [
    "np.rot90(M)"
   ]
  },
  {
   "cell_type": "code",
   "execution_count": null,
   "id": "36f7d689",
   "metadata": {},
   "outputs": [],
   "source": [
    "matrice_quadrata = np.concatenate((mat, y.reshape(1,3)))\n",
    "#np.linalg.inv(matrice_quadrata) dà errore perchè la matrice è singolare"
   ]
  },
  {
   "cell_type": "code",
   "execution_count": null,
   "id": "fa644649",
   "metadata": {},
   "outputs": [
    {
     "data": {
      "text/plain": [
       "np.float64(0.0)"
      ]
     },
     "metadata": {},
     "output_type": "display_data"
    }
   ],
   "source": [
    "np.linalg.det(matrice_quadrata)"
   ]
  },
  {
   "cell_type": "code",
   "execution_count": null,
   "id": "c83ce55c",
   "metadata": {},
   "outputs": [
    {
     "data": {
      "text/plain": [
       "array([[ 1.12589991e+15,  1.12589991e+15, -1.12589991e+15],\n",
       "       [-2.25179981e+15, -2.25179981e+15,  2.25179981e+15],\n",
       "       [ 1.12589991e+15,  1.12589991e+15, -1.12589991e+15]])"
      ]
     },
     "metadata": {},
     "output_type": "display_data"
    }
   ],
   "source": [
    "matrice_quadrata = np.concatenate((mat, y.reshape(1,3)+x.reshape(1,3)))\n",
    "np.linalg.inv(matrice_quadrata)"
   ]
  },
  {
   "cell_type": "code",
   "execution_count": null,
   "id": "2f5cf247",
   "metadata": {},
   "outputs": [
    {
     "data": {
      "text/plain": [
       "np.float64(2.664535259100367e-15)"
      ]
     },
     "metadata": {},
     "output_type": "display_data"
    }
   ],
   "source": [
    "np.linalg.det(matrice_quadrata)"
   ]
  },
  {
   "cell_type": "code",
   "execution_count": null,
   "id": "beb4c1b6",
   "metadata": {},
   "outputs": [
    {
     "name": "stdout",
     "output_type": "stream",
     "text": [
      "[1 2 3 4 5]\n",
      "[0 2 4 6 8]\n",
      "[1 2 3 4 5 0 2 4 6 8]\n"
     ]
    }
   ],
   "source": [
    "print(a)\n",
    "print(b)\n",
    "print(np.concatenate([a, b]))  # concatena array"
   ]
  },
  {
   "cell_type": "code",
   "execution_count": null,
   "id": "d95dda70",
   "metadata": {},
   "outputs": [
    {
     "data": {
      "text/plain": [
       "array([[0, 0, 0],\n",
       "       [0, 0, 0]])"
      ]
     },
     "metadata": {},
     "output_type": "display_data"
    }
   ],
   "source": [
    "Z"
   ]
  },
  {
   "cell_type": "code",
   "execution_count": null,
   "id": "0f56d7eb",
   "metadata": {},
   "outputs": [
    {
     "name": "stdout",
     "output_type": "stream",
     "text": [
      "[0]\n",
      "[1 2 3 4 5]\n"
     ]
    }
   ],
   "source": [
    "print(np.unique(Z))      # valori unici\n",
    "\n",
    "print(np.unique(a))      # valori unici"
   ]
  },
  {
   "cell_type": "markdown",
   "id": "5f2458ee",
   "metadata": {},
   "source": [
    "Operatori di slicing: **a[start:stop:step]**\n",
    "\n",
    "Funzionano come per np.arange, quindi start (incluso):stop(escluso):step(passo)"
   ]
  },
  {
   "cell_type": "code",
   "execution_count": null,
   "id": "c0b0a998",
   "metadata": {},
   "outputs": [
    {
     "name": "stdout",
     "output_type": "stream",
     "text": [
      "[1 2 3 4 5 0 2 4 6 8]\n"
     ]
    },
    {
     "data": {
      "text/plain": [
       "array([0, 2, 3, 4, 5, 6, 8])"
      ]
     },
     "metadata": {},
     "output_type": "display_data"
    }
   ],
   "source": [
    "c=np.concatenate([a, b])\n",
    "print(c)\n",
    "np.unique(c[2:])"
   ]
  },
  {
   "cell_type": "code",
   "execution_count": null,
   "id": "f5e29023",
   "metadata": {},
   "outputs": [
    {
     "data": {
      "text/plain": [
       "array([3, 4, 5, 0])"
      ]
     },
     "metadata": {},
     "output_type": "display_data"
    }
   ],
   "source": [
    "c[2:6]"
   ]
  },
  {
   "cell_type": "code",
   "execution_count": null,
   "id": "fd466dcd",
   "metadata": {},
   "outputs": [
    {
     "data": {
      "text/plain": [
       "array([3, 5])"
      ]
     },
     "metadata": {},
     "output_type": "display_data"
    }
   ],
   "source": [
    "c[2:6:2]"
   ]
  },
  {
   "cell_type": "markdown",
   "id": "da79a7ff",
   "metadata": {},
   "source": [
    "## Pandas"
   ]
  },
  {
   "cell_type": "markdown",
   "id": "03ef6712",
   "metadata": {},
   "source": [
    "Libreria per l'elaborazione di dati tabellari"
   ]
  },
  {
   "cell_type": "code",
   "execution_count": null,
   "id": "4e0e178e",
   "metadata": {},
   "outputs": [
    {
     "data": {
      "text/plain": [
       "{'Nome': ['Anna', 'Luca', 'Marco', 'Sara', 'Giulia'],\n",
       " 'Età': [23, 29, 31, 25, 22],\n",
       " 'Sesso': ['F', 'M', 'M', 'F', 'F'],\n",
       " 'Città': ['Roma', 'Milano', 'Torino', 'Firenze', 'Torino']}"
      ]
     },
     "metadata": {},
     "output_type": "display_data"
    }
   ],
   "source": [
    "# =============================================================================\n",
    "# PANDAS: lavorare con DataFrame e Series\n",
    "# =============================================================================\n",
    "\n",
    "# Creiamo un DataFrame di esempio\n",
    "data = {\n",
    "    \"Nome\": [\"Anna\", \"Luca\", \"Marco\", \"Sara\", \"Giulia\"],\n",
    "    \"Età\": [23, 29, 31, 25, 22],\n",
    "     \"Sesso\": [\"F\", \"M\", \"M\", \"F\", \"F\"],\n",
    "    \"Città\": [\"Roma\", \"Milano\", \"Torino\", \"Firenze\", \"Torino\"]\n",
    "}\n",
    "data"
   ]
  },
  {
   "cell_type": "code",
   "execution_count": null,
   "id": "8e4bfba8",
   "metadata": {},
   "outputs": [
    {
     "name": "stdout",
     "output_type": "stream",
     "text": [
      "             Nome  Età Sesso    Città\n",
      "Studente1    Anna   23     F     Roma\n",
      "Studente2    Luca   29     M   Milano\n",
      "Studente3   Marco   31     M   Torino\n",
      "Studente4    Sara   25     F  Firenze\n",
      "Studente5  Giulia   22     F   Torino\n"
     ]
    }
   ],
   "source": [
    "df = pd.DataFrame(data, index=[\"Studente1\", \"Studente2\", \"Studente3\", \"Studente4\", \"Studente5\"])\n",
    "print(df)"
   ]
  },
  {
   "cell_type": "code",
   "execution_count": null,
   "id": "d233055f",
   "metadata": {},
   "outputs": [
    {
     "name": "stdout",
     "output_type": "stream",
     "text": [
      "\n",
      "Info sul DataFrame:\n",
      "<class 'pandas.core.frame.DataFrame'>\n",
      "Index: 5 entries, Studente1 to Studente5\n",
      "Data columns (total 4 columns):\n",
      " #   Column  Non-Null Count  Dtype \n",
      "---  ------  --------------  ----- \n",
      " 0   Nome    5 non-null      object\n",
      " 1   Età     5 non-null      int64 \n",
      " 2   Sesso   5 non-null      object\n",
      " 3   Città   5 non-null      object\n",
      "dtypes: int64(1), object(3)\n",
      "memory usage: 200.0+ bytes\n",
      "None\n"
     ]
    }
   ],
   "source": [
    "# Informazioni di base\n",
    "print(\"\\nInfo sul DataFrame:\")\n",
    "print(df.info())"
   ]
  },
  {
   "cell_type": "code",
   "execution_count": null,
   "id": "ec08534d",
   "metadata": {},
   "outputs": [
    {
     "name": "stdout",
     "output_type": "stream",
     "text": [
      "\n",
      "Statistiche descrittive:\n"
     ]
    },
    {
     "data": {
      "text/html": [
       "<div>\n",
       "<style scoped>\n",
       "    .dataframe tbody tr th:only-of-type {\n",
       "        vertical-align: middle;\n",
       "    }\n",
       "\n",
       "    .dataframe tbody tr th {\n",
       "        vertical-align: top;\n",
       "    }\n",
       "\n",
       "    .dataframe thead th {\n",
       "        text-align: right;\n",
       "    }\n",
       "</style>\n",
       "<table border=\"1\" class=\"dataframe\">\n",
       "  <thead>\n",
       "    <tr style=\"text-align: right;\">\n",
       "      <th></th>\n",
       "      <th>Età</th>\n",
       "    </tr>\n",
       "  </thead>\n",
       "  <tbody>\n",
       "    <tr>\n",
       "      <th>count</th>\n",
       "      <td>5.000000</td>\n",
       "    </tr>\n",
       "    <tr>\n",
       "      <th>mean</th>\n",
       "      <td>26.000000</td>\n",
       "    </tr>\n",
       "    <tr>\n",
       "      <th>std</th>\n",
       "      <td>3.872983</td>\n",
       "    </tr>\n",
       "    <tr>\n",
       "      <th>min</th>\n",
       "      <td>22.000000</td>\n",
       "    </tr>\n",
       "    <tr>\n",
       "      <th>25%</th>\n",
       "      <td>23.000000</td>\n",
       "    </tr>\n",
       "    <tr>\n",
       "      <th>50%</th>\n",
       "      <td>25.000000</td>\n",
       "    </tr>\n",
       "    <tr>\n",
       "      <th>75%</th>\n",
       "      <td>29.000000</td>\n",
       "    </tr>\n",
       "    <tr>\n",
       "      <th>max</th>\n",
       "      <td>31.000000</td>\n",
       "    </tr>\n",
       "  </tbody>\n",
       "</table>\n",
       "</div>"
      ],
      "text/plain": [
       "             Età\n",
       "count   5.000000\n",
       "mean   26.000000\n",
       "std     3.872983\n",
       "min    22.000000\n",
       "25%    23.000000\n",
       "50%    25.000000\n",
       "75%    29.000000\n",
       "max    31.000000"
      ]
     },
     "metadata": {},
     "output_type": "display_data"
    }
   ],
   "source": [
    "print(\"\\nStatistiche descrittive:\")\n",
    "df.describe()"
   ]
  },
  {
   "cell_type": "code",
   "execution_count": null,
   "id": "f6dbb97d",
   "metadata": {},
   "outputs": [
    {
     "data": {
      "text/html": [
       "<div>\n",
       "<style scoped>\n",
       "    .dataframe tbody tr th:only-of-type {\n",
       "        vertical-align: middle;\n",
       "    }\n",
       "\n",
       "    .dataframe tbody tr th {\n",
       "        vertical-align: top;\n",
       "    }\n",
       "\n",
       "    .dataframe thead th {\n",
       "        text-align: right;\n",
       "    }\n",
       "</style>\n",
       "<table border=\"1\" class=\"dataframe\">\n",
       "  <thead>\n",
       "    <tr style=\"text-align: right;\">\n",
       "      <th></th>\n",
       "      <th>Nome</th>\n",
       "      <th>Sesso</th>\n",
       "      <th>Città</th>\n",
       "    </tr>\n",
       "  </thead>\n",
       "  <tbody>\n",
       "    <tr>\n",
       "      <th>count</th>\n",
       "      <td>5</td>\n",
       "      <td>5</td>\n",
       "      <td>5</td>\n",
       "    </tr>\n",
       "    <tr>\n",
       "      <th>unique</th>\n",
       "      <td>5</td>\n",
       "      <td>2</td>\n",
       "      <td>4</td>\n",
       "    </tr>\n",
       "    <tr>\n",
       "      <th>top</th>\n",
       "      <td>Anna</td>\n",
       "      <td>F</td>\n",
       "      <td>Torino</td>\n",
       "    </tr>\n",
       "    <tr>\n",
       "      <th>freq</th>\n",
       "      <td>1</td>\n",
       "      <td>3</td>\n",
       "      <td>2</td>\n",
       "    </tr>\n",
       "  </tbody>\n",
       "</table>\n",
       "</div>"
      ],
      "text/plain": [
       "        Nome Sesso   Città\n",
       "count      5     5       5\n",
       "unique     5     2       4\n",
       "top     Anna     F  Torino\n",
       "freq       1     3       2"
      ]
     },
     "metadata": {},
     "output_type": "display_data"
    }
   ],
   "source": [
    "df.describe(include=['object'])"
   ]
  },
  {
   "cell_type": "code",
   "execution_count": null,
   "id": "577848fe",
   "metadata": {},
   "outputs": [
    {
     "name": "stdout",
     "output_type": "stream",
     "text": [
      "Studente1    23\n",
      "Studente2    29\n",
      "Studente3    31\n",
      "Studente4    25\n",
      "Studente5    22\n",
      "Name: Età, dtype: int64\n"
     ]
    }
   ],
   "source": [
    "# Selezione di colonne e righe\n",
    "print(df[\"Età\"])"
   ]
  },
  {
   "cell_type": "code",
   "execution_count": null,
   "id": "05600f84",
   "metadata": {},
   "outputs": [
    {
     "data": {
      "text/plain": [
       "array([23, 29, 31, 25, 22])"
      ]
     },
     "metadata": {},
     "output_type": "display_data"
    }
   ],
   "source": [
    "df['Età'].values"
   ]
  },
  {
   "cell_type": "code",
   "execution_count": null,
   "id": "281c05c5",
   "metadata": {},
   "outputs": [
    {
     "data": {
      "text/html": [
       "<div>\n",
       "<style scoped>\n",
       "    .dataframe tbody tr th:only-of-type {\n",
       "        vertical-align: middle;\n",
       "    }\n",
       "\n",
       "    .dataframe tbody tr th {\n",
       "        vertical-align: top;\n",
       "    }\n",
       "\n",
       "    .dataframe thead th {\n",
       "        text-align: right;\n",
       "    }\n",
       "</style>\n",
       "<table border=\"1\" class=\"dataframe\">\n",
       "  <thead>\n",
       "    <tr style=\"text-align: right;\">\n",
       "      <th></th>\n",
       "      <th>Nome</th>\n",
       "      <th>Età</th>\n",
       "      <th>Sesso</th>\n",
       "      <th>Città</th>\n",
       "    </tr>\n",
       "  </thead>\n",
       "  <tbody>\n",
       "    <tr>\n",
       "      <th>Studente1</th>\n",
       "      <td>Anna</td>\n",
       "      <td>23</td>\n",
       "      <td>F</td>\n",
       "      <td>Roma</td>\n",
       "    </tr>\n",
       "    <tr>\n",
       "      <th>Studente2</th>\n",
       "      <td>Luca</td>\n",
       "      <td>29</td>\n",
       "      <td>M</td>\n",
       "      <td>Milano</td>\n",
       "    </tr>\n",
       "    <tr>\n",
       "      <th>Studente3</th>\n",
       "      <td>Marco</td>\n",
       "      <td>31</td>\n",
       "      <td>M</td>\n",
       "      <td>Torino</td>\n",
       "    </tr>\n",
       "    <tr>\n",
       "      <th>Studente4</th>\n",
       "      <td>Sara</td>\n",
       "      <td>25</td>\n",
       "      <td>F</td>\n",
       "      <td>Firenze</td>\n",
       "    </tr>\n",
       "    <tr>\n",
       "      <th>Studente5</th>\n",
       "      <td>Giulia</td>\n",
       "      <td>22</td>\n",
       "      <td>F</td>\n",
       "      <td>Torino</td>\n",
       "    </tr>\n",
       "  </tbody>\n",
       "</table>\n",
       "</div>"
      ],
      "text/plain": [
       "             Nome  Età Sesso    Città\n",
       "Studente1    Anna   23     F     Roma\n",
       "Studente2    Luca   29     M   Milano\n",
       "Studente3   Marco   31     M   Torino\n",
       "Studente4    Sara   25     F  Firenze\n",
       "Studente5  Giulia   22     F   Torino"
      ]
     },
     "metadata": {},
     "output_type": "display_data"
    }
   ],
   "source": [
    "df"
   ]
  },
  {
   "cell_type": "code",
   "execution_count": null,
   "id": "38f7a86c",
   "metadata": {},
   "outputs": [
    {
     "name": "stdout",
     "output_type": "stream",
     "text": [
      "\n",
      "Prima riga:\n",
      "Nome     Anna\n",
      "Età        23\n",
      "Sesso       F\n",
      "Città    Roma\n",
      "Name: Studente1, dtype: object\n"
     ]
    }
   ],
   "source": [
    "print(\"\\nPrima riga:\")\n",
    "print(df.iloc[0])"
   ]
  },
  {
   "cell_type": "code",
   "execution_count": null,
   "id": "7bbfe3ff",
   "metadata": {},
   "outputs": [
    {
     "data": {
      "text/plain": [
       "Nome     Giulia\n",
       "Età          22\n",
       "Sesso         F\n",
       "Città    Torino\n",
       "Name: Studente5, dtype: object"
      ]
     },
     "metadata": {},
     "output_type": "display_data"
    }
   ],
   "source": [
    "df.loc[\"Studente5\"]"
   ]
  },
  {
   "cell_type": "code",
   "execution_count": null,
   "id": "53fe8ad3",
   "metadata": {},
   "outputs": [
    {
     "name": "stdout",
     "output_type": "stream",
     "text": [
      "\n",
      "DataFrame con nuova colonna:\n",
      "             Nome  Età Sesso    Città  Età_2\n",
      "Studente1    Anna   23     F     Roma     46\n",
      "Studente2    Luca   29     M   Milano     58\n",
      "Studente3   Marco   31     M   Torino     62\n",
      "Studente4    Sara   25     F  Firenze     50\n",
      "Studente5  Giulia   22     F   Torino     44\n"
     ]
    }
   ],
   "source": [
    "# Aggiunta di una nuova colonna\n",
    "df[\"Età_2\"] = df[\"Età\"] * 2\n",
    "print(\"\\nDataFrame con nuova colonna:\")\n",
    "print(df)"
   ]
  },
  {
   "cell_type": "code",
   "execution_count": null,
   "id": "f5c94f32",
   "metadata": {},
   "outputs": [
    {
     "name": "stdout",
     "output_type": "stream",
     "text": [
      "\n",
      "Persone con età > 25:\n",
      "Studente1    False\n",
      "Studente2     True\n",
      "Studente3     True\n",
      "Studente4    False\n",
      "Studente5    False\n",
      "Name: Età, dtype: bool\n",
      "            Nome  Età Sesso   Città  Età_2\n",
      "Studente2   Luca   29     M  Milano     58\n",
      "Studente3  Marco   31     M  Torino     62\n"
     ]
    }
   ],
   "source": [
    "# Filtraggio\n",
    "print(\"\\nPersone con età > 25:\")\n",
    "print(df[\"Età\"] > 25)\n",
    "print(df[df[\"Età\"] > 25])"
   ]
  },
  {
   "cell_type": "code",
   "execution_count": null,
   "id": "1924f0e5",
   "metadata": {},
   "outputs": [
    {
     "data": {
      "text/html": [
       "<div>\n",
       "<style scoped>\n",
       "    .dataframe tbody tr th:only-of-type {\n",
       "        vertical-align: middle;\n",
       "    }\n",
       "\n",
       "    .dataframe tbody tr th {\n",
       "        vertical-align: top;\n",
       "    }\n",
       "\n",
       "    .dataframe thead th {\n",
       "        text-align: right;\n",
       "    }\n",
       "</style>\n",
       "<table border=\"1\" class=\"dataframe\">\n",
       "  <thead>\n",
       "    <tr style=\"text-align: right;\">\n",
       "      <th></th>\n",
       "      <th>Nome</th>\n",
       "      <th>Età</th>\n",
       "      <th>Sesso</th>\n",
       "      <th>Città</th>\n",
       "      <th>Età_2</th>\n",
       "    </tr>\n",
       "  </thead>\n",
       "  <tbody>\n",
       "    <tr>\n",
       "      <th>15</th>\n",
       "      <td>Anna</td>\n",
       "      <td>23</td>\n",
       "      <td>F</td>\n",
       "      <td>Roma</td>\n",
       "      <td>46</td>\n",
       "    </tr>\n",
       "    <tr>\n",
       "      <th>16</th>\n",
       "      <td>Luca</td>\n",
       "      <td>29</td>\n",
       "      <td>M</td>\n",
       "      <td>Milano</td>\n",
       "      <td>58</td>\n",
       "    </tr>\n",
       "    <tr>\n",
       "      <th>17</th>\n",
       "      <td>Marco</td>\n",
       "      <td>31</td>\n",
       "      <td>M</td>\n",
       "      <td>Torino</td>\n",
       "      <td>62</td>\n",
       "    </tr>\n",
       "    <tr>\n",
       "      <th>18</th>\n",
       "      <td>Sara</td>\n",
       "      <td>25</td>\n",
       "      <td>F</td>\n",
       "      <td>Firenze</td>\n",
       "      <td>50</td>\n",
       "    </tr>\n",
       "    <tr>\n",
       "      <th>19</th>\n",
       "      <td>Giulia</td>\n",
       "      <td>22</td>\n",
       "      <td>F</td>\n",
       "      <td>Torino</td>\n",
       "      <td>44</td>\n",
       "    </tr>\n",
       "    <tr>\n",
       "      <th>20</th>\n",
       "      <td>Anna</td>\n",
       "      <td>23</td>\n",
       "      <td>F</td>\n",
       "      <td>Roma</td>\n",
       "      <td>46</td>\n",
       "    </tr>\n",
       "    <tr>\n",
       "      <th>21</th>\n",
       "      <td>Luca</td>\n",
       "      <td>29</td>\n",
       "      <td>M</td>\n",
       "      <td>Milano</td>\n",
       "      <td>58</td>\n",
       "    </tr>\n",
       "    <tr>\n",
       "      <th>22</th>\n",
       "      <td>Marco</td>\n",
       "      <td>31</td>\n",
       "      <td>M</td>\n",
       "      <td>Torino</td>\n",
       "      <td>62</td>\n",
       "    </tr>\n",
       "    <tr>\n",
       "      <th>23</th>\n",
       "      <td>Sara</td>\n",
       "      <td>25</td>\n",
       "      <td>F</td>\n",
       "      <td>Firenze</td>\n",
       "      <td>50</td>\n",
       "    </tr>\n",
       "    <tr>\n",
       "      <th>24</th>\n",
       "      <td>Giulia</td>\n",
       "      <td>22</td>\n",
       "      <td>F</td>\n",
       "      <td>Torino</td>\n",
       "      <td>44</td>\n",
       "    </tr>\n",
       "  </tbody>\n",
       "</table>\n",
       "</div>"
      ],
      "text/plain": [
       "      Nome  Età Sesso    Città  Età_2\n",
       "15    Anna   23     F     Roma     46\n",
       "16    Luca   29     M   Milano     58\n",
       "17   Marco   31     M   Torino     62\n",
       "18    Sara   25     F  Firenze     50\n",
       "19  Giulia   22     F   Torino     44\n",
       "20    Anna   23     F     Roma     46\n",
       "21    Luca   29     M   Milano     58\n",
       "22   Marco   31     M   Torino     62\n",
       "23    Sara   25     F  Firenze     50\n",
       "24  Giulia   22     F   Torino     44"
      ]
     },
     "metadata": {},
     "output_type": "display_data"
    }
   ],
   "source": [
    "df_grande=pd.concat([df,df,df,df,df], ignore_index=True)\n",
    "df_grande.head() #testa=primi 5 (di default) elementi\n",
    "df_grande.tail(10) #coda=ultimi 10 elementi"
   ]
  },
  {
   "cell_type": "code",
   "execution_count": null,
   "id": "d4ef4afd",
   "metadata": {},
   "outputs": [
    {
     "data": {
      "text/plain": [
       "Index(['Studente1', 'Studente2', 'Studente3', 'Studente4', 'Studente5'], dtype='object')"
      ]
     },
     "metadata": {},
     "output_type": "display_data"
    }
   ],
   "source": [
    "df.index #indice del dataframe"
   ]
  },
  {
   "cell_type": "code",
   "execution_count": null,
   "id": "136c5188",
   "metadata": {},
   "outputs": [
    {
     "data": {
      "text/plain": [
       "Studente1    3000\n",
       "Studente2    4500\n",
       "Studente3    4000\n",
       "Studente4    4200\n",
       "Studente5    1800\n",
       "dtype: int64"
      ]
     },
     "metadata": {},
     "output_type": "display_data"
    }
   ],
   "source": [
    "serie=pd.Series([3000, 4500, 4000, 4200, 1800], index=df.index)\n",
    "serie"
   ]
  },
  {
   "cell_type": "code",
   "execution_count": null,
   "id": "325265df",
   "metadata": {},
   "outputs": [
    {
     "data": {
      "text/html": [
       "<div>\n",
       "<style scoped>\n",
       "    .dataframe tbody tr th:only-of-type {\n",
       "        vertical-align: middle;\n",
       "    }\n",
       "\n",
       "    .dataframe tbody tr th {\n",
       "        vertical-align: top;\n",
       "    }\n",
       "\n",
       "    .dataframe thead th {\n",
       "        text-align: right;\n",
       "    }\n",
       "</style>\n",
       "<table border=\"1\" class=\"dataframe\">\n",
       "  <thead>\n",
       "    <tr style=\"text-align: right;\">\n",
       "      <th></th>\n",
       "      <th>Nome</th>\n",
       "      <th>Età</th>\n",
       "      <th>Sesso</th>\n",
       "      <th>Città</th>\n",
       "      <th>Età_2</th>\n",
       "      <th>stipendio</th>\n",
       "    </tr>\n",
       "  </thead>\n",
       "  <tbody>\n",
       "    <tr>\n",
       "      <th>Studente1</th>\n",
       "      <td>Anna</td>\n",
       "      <td>23</td>\n",
       "      <td>F</td>\n",
       "      <td>Roma</td>\n",
       "      <td>46</td>\n",
       "      <td>3000</td>\n",
       "    </tr>\n",
       "    <tr>\n",
       "      <th>Studente2</th>\n",
       "      <td>Luca</td>\n",
       "      <td>29</td>\n",
       "      <td>M</td>\n",
       "      <td>Milano</td>\n",
       "      <td>58</td>\n",
       "      <td>4500</td>\n",
       "    </tr>\n",
       "    <tr>\n",
       "      <th>Studente3</th>\n",
       "      <td>Marco</td>\n",
       "      <td>31</td>\n",
       "      <td>M</td>\n",
       "      <td>Torino</td>\n",
       "      <td>62</td>\n",
       "      <td>4000</td>\n",
       "    </tr>\n",
       "    <tr>\n",
       "      <th>Studente4</th>\n",
       "      <td>Sara</td>\n",
       "      <td>25</td>\n",
       "      <td>F</td>\n",
       "      <td>Firenze</td>\n",
       "      <td>50</td>\n",
       "      <td>4200</td>\n",
       "    </tr>\n",
       "    <tr>\n",
       "      <th>Studente5</th>\n",
       "      <td>Giulia</td>\n",
       "      <td>22</td>\n",
       "      <td>F</td>\n",
       "      <td>Torino</td>\n",
       "      <td>44</td>\n",
       "      <td>1800</td>\n",
       "    </tr>\n",
       "  </tbody>\n",
       "</table>\n",
       "</div>"
      ],
      "text/plain": [
       "             Nome  Età Sesso    Città  Età_2  stipendio\n",
       "Studente1    Anna   23     F     Roma     46       3000\n",
       "Studente2    Luca   29     M   Milano     58       4500\n",
       "Studente3   Marco   31     M   Torino     62       4000\n",
       "Studente4    Sara   25     F  Firenze     50       4200\n",
       "Studente5  Giulia   22     F   Torino     44       1800"
      ]
     },
     "metadata": {},
     "output_type": "display_data"
    }
   ],
   "source": [
    "df['stipendio']=serie\n",
    "df.head()"
   ]
  },
  {
   "cell_type": "code",
   "execution_count": null,
   "id": "5832863f",
   "metadata": {},
   "outputs": [
    {
     "data": {
      "text/plain": [
       "Index(['Nome', 'Età', 'Sesso', 'Città', 'Età_2', 'stipendio'], dtype='object')"
      ]
     },
     "metadata": {},
     "output_type": "display_data"
    }
   ],
   "source": [
    "df.columns"
   ]
  },
  {
   "cell_type": "code",
   "execution_count": null,
   "id": "19c93b4b",
   "metadata": {},
   "outputs": [
    {
     "data": {
      "text/html": [
       "<div>\n",
       "<style scoped>\n",
       "    .dataframe tbody tr th:only-of-type {\n",
       "        vertical-align: middle;\n",
       "    }\n",
       "\n",
       "    .dataframe tbody tr th {\n",
       "        vertical-align: top;\n",
       "    }\n",
       "\n",
       "    .dataframe thead th {\n",
       "        text-align: right;\n",
       "    }\n",
       "</style>\n",
       "<table border=\"1\" class=\"dataframe\">\n",
       "  <thead>\n",
       "    <tr style=\"text-align: right;\">\n",
       "      <th></th>\n",
       "      <th>Nome</th>\n",
       "      <th>Età</th>\n",
       "      <th>Sesso</th>\n",
       "      <th>Città</th>\n",
       "      <th>Età_2</th>\n",
       "      <th>stipendio</th>\n",
       "      <th>bonus</th>\n",
       "    </tr>\n",
       "  </thead>\n",
       "  <tbody>\n",
       "    <tr>\n",
       "      <th>Studente1</th>\n",
       "      <td>Anna</td>\n",
       "      <td>23</td>\n",
       "      <td>F</td>\n",
       "      <td>Roma</td>\n",
       "      <td>46</td>\n",
       "      <td>3000</td>\n",
       "      <td>300.0</td>\n",
       "    </tr>\n",
       "    <tr>\n",
       "      <th>Studente2</th>\n",
       "      <td>Luca</td>\n",
       "      <td>29</td>\n",
       "      <td>M</td>\n",
       "      <td>Milano</td>\n",
       "      <td>58</td>\n",
       "      <td>4500</td>\n",
       "      <td>450.0</td>\n",
       "    </tr>\n",
       "    <tr>\n",
       "      <th>Studente3</th>\n",
       "      <td>Marco</td>\n",
       "      <td>31</td>\n",
       "      <td>M</td>\n",
       "      <td>Torino</td>\n",
       "      <td>62</td>\n",
       "      <td>4000</td>\n",
       "      <td>400.0</td>\n",
       "    </tr>\n",
       "    <tr>\n",
       "      <th>Studente4</th>\n",
       "      <td>Sara</td>\n",
       "      <td>25</td>\n",
       "      <td>F</td>\n",
       "      <td>Firenze</td>\n",
       "      <td>50</td>\n",
       "      <td>4200</td>\n",
       "      <td>420.0</td>\n",
       "    </tr>\n",
       "    <tr>\n",
       "      <th>Studente5</th>\n",
       "      <td>Giulia</td>\n",
       "      <td>22</td>\n",
       "      <td>F</td>\n",
       "      <td>Torino</td>\n",
       "      <td>44</td>\n",
       "      <td>1800</td>\n",
       "      <td>180.0</td>\n",
       "    </tr>\n",
       "  </tbody>\n",
       "</table>\n",
       "</div>"
      ],
      "text/plain": [
       "             Nome  Età Sesso    Città  Età_2  stipendio  bonus\n",
       "Studente1    Anna   23     F     Roma     46       3000  300.0\n",
       "Studente2    Luca   29     M   Milano     58       4500  450.0\n",
       "Studente3   Marco   31     M   Torino     62       4000  400.0\n",
       "Studente4    Sara   25     F  Firenze     50       4200  420.0\n",
       "Studente5  Giulia   22     F   Torino     44       1800  180.0"
      ]
     },
     "metadata": {},
     "output_type": "display_data"
    }
   ],
   "source": [
    "df['bonus'] = df['stipendio'] * 0.1\n",
    "df"
   ]
  },
  {
   "cell_type": "code",
   "execution_count": null,
   "id": "b13204ba",
   "metadata": {},
   "outputs": [
    {
     "name": "stdout",
     "output_type": "stream",
     "text": [
      "\n",
      "Con nuove colonne:\n",
      "              Nome  Età Sesso    Città  Età_2  stipendio  bonus nome_upper\n",
      "Studente1    Anna   23     F     Roma     46       3000  300.0       ANNA\n",
      "Studente2    Luca   29     M   Milano     58       4500  450.0       LUCA\n",
      "Studente3   Marco   31     M   Torino     62       4000  400.0      MARCO\n",
      "Studente4    Sara   25     F  Firenze     50       4200  420.0       SARA\n",
      "Studente5  Giulia   22     F   Torino     44       1800  180.0     GIULIA\n"
     ]
    }
   ],
   "source": [
    "df['nome_upper'] = df['Nome'].str.upper()\n",
    "print(\"\\nCon nuove colonne:\\n\", df)"
   ]
  },
  {
   "cell_type": "code",
   "execution_count": null,
   "id": "7755f857",
   "metadata": {},
   "outputs": [
    {
     "name": "stdout",
     "output_type": "stream",
     "text": [
      "\n",
      "Ordinato per stipendio:\n",
      "              Nome  Età Sesso    Città  Età_2  stipendio  bonus nome_upper\n",
      "Studente2    Luca   29     M   Milano     58       4500  450.0       LUCA\n",
      "Studente4    Sara   25     F  Firenze     50       4200  420.0       SARA\n",
      "Studente3   Marco   31     M   Torino     62       4000  400.0      MARCO\n",
      "Studente1    Anna   23     F     Roma     46       3000  300.0       ANNA\n",
      "Studente5  Giulia   22     F   Torino     44       1800  180.0     GIULIA\n"
     ]
    }
   ],
   "source": [
    "# Ordinamento e valori mancanti\n",
    "df_sorted = df.sort_values(by='stipendio', ascending=False)\n",
    "print(\"\\nOrdinato per stipendio:\\n\", df_sorted)"
   ]
  },
  {
   "cell_type": "code",
   "execution_count": null,
   "id": "55d3fa18",
   "metadata": {},
   "outputs": [
    {
     "data": {
      "text/plain": [
       "Studente1    3000\n",
       "Studente2    4500\n",
       "Studente3    4000\n",
       "Studente4    4200\n",
       "Studente5    1800\n",
       "dtype: int64"
      ]
     },
     "metadata": {},
     "output_type": "display_data"
    }
   ],
   "source": [
    "serie"
   ]
  },
  {
   "cell_type": "code",
   "execution_count": null,
   "id": "1dacb703",
   "metadata": {},
   "outputs": [
    {
     "data": {
      "text/html": [
       "<div>\n",
       "<style scoped>\n",
       "    .dataframe tbody tr th:only-of-type {\n",
       "        vertical-align: middle;\n",
       "    }\n",
       "\n",
       "    .dataframe tbody tr th {\n",
       "        vertical-align: top;\n",
       "    }\n",
       "\n",
       "    .dataframe thead th {\n",
       "        text-align: right;\n",
       "    }\n",
       "</style>\n",
       "<table border=\"1\" class=\"dataframe\">\n",
       "  <thead>\n",
       "    <tr style=\"text-align: right;\">\n",
       "      <th></th>\n",
       "      <th>Nome</th>\n",
       "      <th>Età</th>\n",
       "      <th>Sesso</th>\n",
       "      <th>Città</th>\n",
       "      <th>Età_2</th>\n",
       "      <th>stipendio</th>\n",
       "      <th>bonus</th>\n",
       "      <th>nome_upper</th>\n",
       "    </tr>\n",
       "  </thead>\n",
       "  <tbody>\n",
       "    <tr>\n",
       "      <th>Studente1</th>\n",
       "      <td>Anna</td>\n",
       "      <td>23</td>\n",
       "      <td>F</td>\n",
       "      <td>Roma</td>\n",
       "      <td>46</td>\n",
       "      <td>3000</td>\n",
       "      <td>300.0</td>\n",
       "      <td>ANNA</td>\n",
       "    </tr>\n",
       "    <tr>\n",
       "      <th>Studente2</th>\n",
       "      <td>Luca</td>\n",
       "      <td>29</td>\n",
       "      <td>M</td>\n",
       "      <td>Milano</td>\n",
       "      <td>58</td>\n",
       "      <td>4500</td>\n",
       "      <td>450.0</td>\n",
       "      <td>LUCA</td>\n",
       "    </tr>\n",
       "    <tr>\n",
       "      <th>Studente3</th>\n",
       "      <td>Marco</td>\n",
       "      <td>31</td>\n",
       "      <td>M</td>\n",
       "      <td>Torino</td>\n",
       "      <td>62</td>\n",
       "      <td>4000</td>\n",
       "      <td>400.0</td>\n",
       "      <td>MARCO</td>\n",
       "    </tr>\n",
       "    <tr>\n",
       "      <th>Studente4</th>\n",
       "      <td>Sara</td>\n",
       "      <td>25</td>\n",
       "      <td>F</td>\n",
       "      <td>Firenze</td>\n",
       "      <td>50</td>\n",
       "      <td>4200</td>\n",
       "      <td>420.0</td>\n",
       "      <td>SARA</td>\n",
       "    </tr>\n",
       "    <tr>\n",
       "      <th>Studente5</th>\n",
       "      <td>Giulia</td>\n",
       "      <td>22</td>\n",
       "      <td>F</td>\n",
       "      <td>Torino</td>\n",
       "      <td>44</td>\n",
       "      <td>1800</td>\n",
       "      <td>180.0</td>\n",
       "      <td>GIULIA</td>\n",
       "    </tr>\n",
       "  </tbody>\n",
       "</table>\n",
       "</div>"
      ],
      "text/plain": [
       "             Nome  Età Sesso    Città  Età_2  stipendio  bonus nome_upper\n",
       "Studente1    Anna   23     F     Roma     46       3000  300.0       ANNA\n",
       "Studente2    Luca   29     M   Milano     58       4500  450.0       LUCA\n",
       "Studente3   Marco   31     M   Torino     62       4000  400.0      MARCO\n",
       "Studente4    Sara   25     F  Firenze     50       4200  420.0       SARA\n",
       "Studente5  Giulia   22     F   Torino     44       1800  180.0     GIULIA"
      ]
     },
     "metadata": {},
     "output_type": "display_data"
    }
   ],
   "source": [
    "df"
   ]
  },
  {
   "cell_type": "code",
   "execution_count": null,
   "id": "5273d136",
   "metadata": {},
   "outputs": [],
   "source": [
    "df.loc['Studente6']=pd.Series([\"Luca\", 25, \"M\", \"Roma\", 50, 1500, 150, \"LUCA\"], index=df.columns)"
   ]
  },
  {
   "cell_type": "code",
   "execution_count": null,
   "id": "437dcc0f",
   "metadata": {},
   "outputs": [
    {
     "data": {
      "text/html": [
       "<div>\n",
       "<style scoped>\n",
       "    .dataframe tbody tr th:only-of-type {\n",
       "        vertical-align: middle;\n",
       "    }\n",
       "\n",
       "    .dataframe tbody tr th {\n",
       "        vertical-align: top;\n",
       "    }\n",
       "\n",
       "    .dataframe thead th {\n",
       "        text-align: right;\n",
       "    }\n",
       "</style>\n",
       "<table border=\"1\" class=\"dataframe\">\n",
       "  <thead>\n",
       "    <tr style=\"text-align: right;\">\n",
       "      <th></th>\n",
       "      <th>Nome</th>\n",
       "      <th>Età</th>\n",
       "      <th>Sesso</th>\n",
       "      <th>Città</th>\n",
       "      <th>Età_2</th>\n",
       "      <th>stipendio</th>\n",
       "      <th>bonus</th>\n",
       "      <th>nome_upper</th>\n",
       "    </tr>\n",
       "  </thead>\n",
       "  <tbody>\n",
       "    <tr>\n",
       "      <th>Studente1</th>\n",
       "      <td>Anna</td>\n",
       "      <td>23</td>\n",
       "      <td>F</td>\n",
       "      <td>Roma</td>\n",
       "      <td>46</td>\n",
       "      <td>3000</td>\n",
       "      <td>300.0</td>\n",
       "      <td>ANNA</td>\n",
       "    </tr>\n",
       "    <tr>\n",
       "      <th>Studente2</th>\n",
       "      <td>Luca</td>\n",
       "      <td>29</td>\n",
       "      <td>M</td>\n",
       "      <td>Milano</td>\n",
       "      <td>58</td>\n",
       "      <td>4500</td>\n",
       "      <td>450.0</td>\n",
       "      <td>LUCA</td>\n",
       "    </tr>\n",
       "    <tr>\n",
       "      <th>Studente3</th>\n",
       "      <td>Marco</td>\n",
       "      <td>31</td>\n",
       "      <td>M</td>\n",
       "      <td>Torino</td>\n",
       "      <td>62</td>\n",
       "      <td>4000</td>\n",
       "      <td>400.0</td>\n",
       "      <td>MARCO</td>\n",
       "    </tr>\n",
       "    <tr>\n",
       "      <th>Studente4</th>\n",
       "      <td>Sara</td>\n",
       "      <td>25</td>\n",
       "      <td>F</td>\n",
       "      <td>Firenze</td>\n",
       "      <td>50</td>\n",
       "      <td>4200</td>\n",
       "      <td>420.0</td>\n",
       "      <td>SARA</td>\n",
       "    </tr>\n",
       "    <tr>\n",
       "      <th>Studente5</th>\n",
       "      <td>Giulia</td>\n",
       "      <td>22</td>\n",
       "      <td>F</td>\n",
       "      <td>Torino</td>\n",
       "      <td>44</td>\n",
       "      <td>1800</td>\n",
       "      <td>180.0</td>\n",
       "      <td>GIULIA</td>\n",
       "    </tr>\n",
       "    <tr>\n",
       "      <th>Studente6</th>\n",
       "      <td>Luca</td>\n",
       "      <td>25</td>\n",
       "      <td>M</td>\n",
       "      <td>Roma</td>\n",
       "      <td>50</td>\n",
       "      <td>1500</td>\n",
       "      <td>150.0</td>\n",
       "      <td>LUCA</td>\n",
       "    </tr>\n",
       "  </tbody>\n",
       "</table>\n",
       "</div>"
      ],
      "text/plain": [
       "             Nome  Età Sesso    Città  Età_2  stipendio  bonus nome_upper\n",
       "Studente1    Anna   23     F     Roma     46       3000  300.0       ANNA\n",
       "Studente2    Luca   29     M   Milano     58       4500  450.0       LUCA\n",
       "Studente3   Marco   31     M   Torino     62       4000  400.0      MARCO\n",
       "Studente4    Sara   25     F  Firenze     50       4200  420.0       SARA\n",
       "Studente5  Giulia   22     F   Torino     44       1800  180.0     GIULIA\n",
       "Studente6    Luca   25     M     Roma     50       1500  150.0       LUCA"
      ]
     },
     "metadata": {},
     "output_type": "display_data"
    }
   ],
   "source": [
    "df"
   ]
  },
  {
   "cell_type": "code",
   "execution_count": null,
   "id": "01f21009",
   "metadata": {},
   "outputs": [
    {
     "data": {
      "text/plain": [
       "array(['Studente1', 'Studente2', 'Studente3', 'Studente4', 'Studente5'],\n",
       "      dtype=object)"
      ]
     },
     "metadata": {},
     "output_type": "display_data"
    }
   ],
   "source": [
    "df.index.values[0:5]"
   ]
  },
  {
   "cell_type": "code",
   "execution_count": null,
   "id": "04fe3120",
   "metadata": {},
   "outputs": [],
   "source": [
    "df['Anno']=pd.Series([2002, 2000, 2005, 1998, 1996], index=df.index.values[0:5])"
   ]
  },
  {
   "cell_type": "code",
   "execution_count": null,
   "id": "146bb06b",
   "metadata": {},
   "outputs": [
    {
     "data": {
      "text/html": [
       "<div>\n",
       "<style scoped>\n",
       "    .dataframe tbody tr th:only-of-type {\n",
       "        vertical-align: middle;\n",
       "    }\n",
       "\n",
       "    .dataframe tbody tr th {\n",
       "        vertical-align: top;\n",
       "    }\n",
       "\n",
       "    .dataframe thead th {\n",
       "        text-align: right;\n",
       "    }\n",
       "</style>\n",
       "<table border=\"1\" class=\"dataframe\">\n",
       "  <thead>\n",
       "    <tr style=\"text-align: right;\">\n",
       "      <th></th>\n",
       "      <th>Nome</th>\n",
       "      <th>Età</th>\n",
       "      <th>Sesso</th>\n",
       "      <th>Città</th>\n",
       "      <th>Età_2</th>\n",
       "      <th>stipendio</th>\n",
       "      <th>bonus</th>\n",
       "      <th>nome_upper</th>\n",
       "      <th>Anno</th>\n",
       "    </tr>\n",
       "  </thead>\n",
       "  <tbody>\n",
       "    <tr>\n",
       "      <th>Studente1</th>\n",
       "      <td>Anna</td>\n",
       "      <td>23</td>\n",
       "      <td>F</td>\n",
       "      <td>Roma</td>\n",
       "      <td>46</td>\n",
       "      <td>3000</td>\n",
       "      <td>300.0</td>\n",
       "      <td>ANNA</td>\n",
       "      <td>2002.0</td>\n",
       "    </tr>\n",
       "    <tr>\n",
       "      <th>Studente2</th>\n",
       "      <td>Luca</td>\n",
       "      <td>29</td>\n",
       "      <td>M</td>\n",
       "      <td>Milano</td>\n",
       "      <td>58</td>\n",
       "      <td>4500</td>\n",
       "      <td>450.0</td>\n",
       "      <td>LUCA</td>\n",
       "      <td>2000.0</td>\n",
       "    </tr>\n",
       "    <tr>\n",
       "      <th>Studente3</th>\n",
       "      <td>Marco</td>\n",
       "      <td>31</td>\n",
       "      <td>M</td>\n",
       "      <td>Torino</td>\n",
       "      <td>62</td>\n",
       "      <td>4000</td>\n",
       "      <td>400.0</td>\n",
       "      <td>MARCO</td>\n",
       "      <td>2005.0</td>\n",
       "    </tr>\n",
       "    <tr>\n",
       "      <th>Studente4</th>\n",
       "      <td>Sara</td>\n",
       "      <td>25</td>\n",
       "      <td>F</td>\n",
       "      <td>Firenze</td>\n",
       "      <td>50</td>\n",
       "      <td>4200</td>\n",
       "      <td>420.0</td>\n",
       "      <td>SARA</td>\n",
       "      <td>1998.0</td>\n",
       "    </tr>\n",
       "    <tr>\n",
       "      <th>Studente5</th>\n",
       "      <td>Giulia</td>\n",
       "      <td>22</td>\n",
       "      <td>F</td>\n",
       "      <td>Torino</td>\n",
       "      <td>44</td>\n",
       "      <td>1800</td>\n",
       "      <td>180.0</td>\n",
       "      <td>GIULIA</td>\n",
       "      <td>1996.0</td>\n",
       "    </tr>\n",
       "    <tr>\n",
       "      <th>Studente6</th>\n",
       "      <td>Luca</td>\n",
       "      <td>25</td>\n",
       "      <td>M</td>\n",
       "      <td>Roma</td>\n",
       "      <td>50</td>\n",
       "      <td>1500</td>\n",
       "      <td>150.0</td>\n",
       "      <td>LUCA</td>\n",
       "      <td>NaN</td>\n",
       "    </tr>\n",
       "  </tbody>\n",
       "</table>\n",
       "</div>"
      ],
      "text/plain": [
       "             Nome  Età Sesso    Città  Età_2  stipendio  bonus nome_upper  \\\n",
       "Studente1    Anna   23     F     Roma     46       3000  300.0       ANNA   \n",
       "Studente2    Luca   29     M   Milano     58       4500  450.0       LUCA   \n",
       "Studente3   Marco   31     M   Torino     62       4000  400.0      MARCO   \n",
       "Studente4    Sara   25     F  Firenze     50       4200  420.0       SARA   \n",
       "Studente5  Giulia   22     F   Torino     44       1800  180.0     GIULIA   \n",
       "Studente6    Luca   25     M     Roma     50       1500  150.0       LUCA   \n",
       "\n",
       "             Anno  \n",
       "Studente1  2002.0  \n",
       "Studente2  2000.0  \n",
       "Studente3  2005.0  \n",
       "Studente4  1998.0  \n",
       "Studente5  1996.0  \n",
       "Studente6     NaN  "
      ]
     },
     "metadata": {},
     "output_type": "display_data"
    }
   ],
   "source": [
    "df"
   ]
  },
  {
   "cell_type": "code",
   "execution_count": null,
   "id": "510efa3f",
   "metadata": {},
   "outputs": [
    {
     "data": {
      "text/html": [
       "<div>\n",
       "<style scoped>\n",
       "    .dataframe tbody tr th:only-of-type {\n",
       "        vertical-align: middle;\n",
       "    }\n",
       "\n",
       "    .dataframe tbody tr th {\n",
       "        vertical-align: top;\n",
       "    }\n",
       "\n",
       "    .dataframe thead th {\n",
       "        text-align: right;\n",
       "    }\n",
       "</style>\n",
       "<table border=\"1\" class=\"dataframe\">\n",
       "  <thead>\n",
       "    <tr style=\"text-align: right;\">\n",
       "      <th></th>\n",
       "      <th>Nome</th>\n",
       "      <th>Età</th>\n",
       "      <th>Sesso</th>\n",
       "      <th>Città</th>\n",
       "      <th>Età_2</th>\n",
       "      <th>stipendio</th>\n",
       "    </tr>\n",
       "  </thead>\n",
       "  <tbody>\n",
       "    <tr>\n",
       "      <th>0</th>\n",
       "      <td>Anna</td>\n",
       "      <td>23</td>\n",
       "      <td>F</td>\n",
       "      <td>Roma</td>\n",
       "      <td>46</td>\n",
       "      <td>NaN</td>\n",
       "    </tr>\n",
       "    <tr>\n",
       "      <th>1</th>\n",
       "      <td>Luca</td>\n",
       "      <td>29</td>\n",
       "      <td>M</td>\n",
       "      <td>Milano</td>\n",
       "      <td>58</td>\n",
       "      <td>NaN</td>\n",
       "    </tr>\n",
       "    <tr>\n",
       "      <th>2</th>\n",
       "      <td>Marco</td>\n",
       "      <td>31</td>\n",
       "      <td>M</td>\n",
       "      <td>Torino</td>\n",
       "      <td>62</td>\n",
       "      <td>NaN</td>\n",
       "    </tr>\n",
       "    <tr>\n",
       "      <th>3</th>\n",
       "      <td>Sara</td>\n",
       "      <td>25</td>\n",
       "      <td>F</td>\n",
       "      <td>Firenze</td>\n",
       "      <td>50</td>\n",
       "      <td>NaN</td>\n",
       "    </tr>\n",
       "    <tr>\n",
       "      <th>4</th>\n",
       "      <td>Giulia</td>\n",
       "      <td>22</td>\n",
       "      <td>F</td>\n",
       "      <td>Torino</td>\n",
       "      <td>44</td>\n",
       "      <td>NaN</td>\n",
       "    </tr>\n",
       "    <tr>\n",
       "      <th>5</th>\n",
       "      <td>Anna</td>\n",
       "      <td>23</td>\n",
       "      <td>F</td>\n",
       "      <td>Roma</td>\n",
       "      <td>46</td>\n",
       "      <td>NaN</td>\n",
       "    </tr>\n",
       "    <tr>\n",
       "      <th>6</th>\n",
       "      <td>Luca</td>\n",
       "      <td>29</td>\n",
       "      <td>M</td>\n",
       "      <td>Milano</td>\n",
       "      <td>58</td>\n",
       "      <td>NaN</td>\n",
       "    </tr>\n",
       "    <tr>\n",
       "      <th>7</th>\n",
       "      <td>Marco</td>\n",
       "      <td>31</td>\n",
       "      <td>M</td>\n",
       "      <td>Torino</td>\n",
       "      <td>62</td>\n",
       "      <td>NaN</td>\n",
       "    </tr>\n",
       "    <tr>\n",
       "      <th>8</th>\n",
       "      <td>Sara</td>\n",
       "      <td>25</td>\n",
       "      <td>F</td>\n",
       "      <td>Firenze</td>\n",
       "      <td>50</td>\n",
       "      <td>NaN</td>\n",
       "    </tr>\n",
       "    <tr>\n",
       "      <th>9</th>\n",
       "      <td>Giulia</td>\n",
       "      <td>22</td>\n",
       "      <td>F</td>\n",
       "      <td>Torino</td>\n",
       "      <td>44</td>\n",
       "      <td>NaN</td>\n",
       "    </tr>\n",
       "    <tr>\n",
       "      <th>10</th>\n",
       "      <td>Anna</td>\n",
       "      <td>23</td>\n",
       "      <td>F</td>\n",
       "      <td>Roma</td>\n",
       "      <td>46</td>\n",
       "      <td>NaN</td>\n",
       "    </tr>\n",
       "    <tr>\n",
       "      <th>11</th>\n",
       "      <td>Luca</td>\n",
       "      <td>29</td>\n",
       "      <td>M</td>\n",
       "      <td>Milano</td>\n",
       "      <td>58</td>\n",
       "      <td>NaN</td>\n",
       "    </tr>\n",
       "    <tr>\n",
       "      <th>12</th>\n",
       "      <td>Marco</td>\n",
       "      <td>31</td>\n",
       "      <td>M</td>\n",
       "      <td>Torino</td>\n",
       "      <td>62</td>\n",
       "      <td>NaN</td>\n",
       "    </tr>\n",
       "    <tr>\n",
       "      <th>13</th>\n",
       "      <td>Sara</td>\n",
       "      <td>25</td>\n",
       "      <td>F</td>\n",
       "      <td>Firenze</td>\n",
       "      <td>50</td>\n",
       "      <td>NaN</td>\n",
       "    </tr>\n",
       "    <tr>\n",
       "      <th>14</th>\n",
       "      <td>Giulia</td>\n",
       "      <td>22</td>\n",
       "      <td>F</td>\n",
       "      <td>Torino</td>\n",
       "      <td>44</td>\n",
       "      <td>NaN</td>\n",
       "    </tr>\n",
       "    <tr>\n",
       "      <th>15</th>\n",
       "      <td>Anna</td>\n",
       "      <td>23</td>\n",
       "      <td>F</td>\n",
       "      <td>Roma</td>\n",
       "      <td>46</td>\n",
       "      <td>NaN</td>\n",
       "    </tr>\n",
       "    <tr>\n",
       "      <th>16</th>\n",
       "      <td>Luca</td>\n",
       "      <td>29</td>\n",
       "      <td>M</td>\n",
       "      <td>Milano</td>\n",
       "      <td>58</td>\n",
       "      <td>NaN</td>\n",
       "    </tr>\n",
       "    <tr>\n",
       "      <th>17</th>\n",
       "      <td>Marco</td>\n",
       "      <td>31</td>\n",
       "      <td>M</td>\n",
       "      <td>Torino</td>\n",
       "      <td>62</td>\n",
       "      <td>NaN</td>\n",
       "    </tr>\n",
       "    <tr>\n",
       "      <th>18</th>\n",
       "      <td>Sara</td>\n",
       "      <td>25</td>\n",
       "      <td>F</td>\n",
       "      <td>Firenze</td>\n",
       "      <td>50</td>\n",
       "      <td>NaN</td>\n",
       "    </tr>\n",
       "    <tr>\n",
       "      <th>19</th>\n",
       "      <td>Giulia</td>\n",
       "      <td>22</td>\n",
       "      <td>F</td>\n",
       "      <td>Torino</td>\n",
       "      <td>44</td>\n",
       "      <td>NaN</td>\n",
       "    </tr>\n",
       "    <tr>\n",
       "      <th>20</th>\n",
       "      <td>Anna</td>\n",
       "      <td>23</td>\n",
       "      <td>F</td>\n",
       "      <td>Roma</td>\n",
       "      <td>46</td>\n",
       "      <td>NaN</td>\n",
       "    </tr>\n",
       "    <tr>\n",
       "      <th>21</th>\n",
       "      <td>Luca</td>\n",
       "      <td>29</td>\n",
       "      <td>M</td>\n",
       "      <td>Milano</td>\n",
       "      <td>58</td>\n",
       "      <td>NaN</td>\n",
       "    </tr>\n",
       "    <tr>\n",
       "      <th>22</th>\n",
       "      <td>Marco</td>\n",
       "      <td>31</td>\n",
       "      <td>M</td>\n",
       "      <td>Torino</td>\n",
       "      <td>62</td>\n",
       "      <td>NaN</td>\n",
       "    </tr>\n",
       "    <tr>\n",
       "      <th>23</th>\n",
       "      <td>Sara</td>\n",
       "      <td>25</td>\n",
       "      <td>F</td>\n",
       "      <td>Firenze</td>\n",
       "      <td>50</td>\n",
       "      <td>NaN</td>\n",
       "    </tr>\n",
       "    <tr>\n",
       "      <th>24</th>\n",
       "      <td>Giulia</td>\n",
       "      <td>22</td>\n",
       "      <td>F</td>\n",
       "      <td>Torino</td>\n",
       "      <td>44</td>\n",
       "      <td>NaN</td>\n",
       "    </tr>\n",
       "  </tbody>\n",
       "</table>\n",
       "</div>"
      ],
      "text/plain": [
       "      Nome  Età Sesso    Città  Età_2  stipendio\n",
       "0     Anna   23     F     Roma     46        NaN\n",
       "1     Luca   29     M   Milano     58        NaN\n",
       "2    Marco   31     M   Torino     62        NaN\n",
       "3     Sara   25     F  Firenze     50        NaN\n",
       "4   Giulia   22     F   Torino     44        NaN\n",
       "5     Anna   23     F     Roma     46        NaN\n",
       "6     Luca   29     M   Milano     58        NaN\n",
       "7    Marco   31     M   Torino     62        NaN\n",
       "8     Sara   25     F  Firenze     50        NaN\n",
       "9   Giulia   22     F   Torino     44        NaN\n",
       "10    Anna   23     F     Roma     46        NaN\n",
       "11    Luca   29     M   Milano     58        NaN\n",
       "12   Marco   31     M   Torino     62        NaN\n",
       "13    Sara   25     F  Firenze     50        NaN\n",
       "14  Giulia   22     F   Torino     44        NaN\n",
       "15    Anna   23     F     Roma     46        NaN\n",
       "16    Luca   29     M   Milano     58        NaN\n",
       "17   Marco   31     M   Torino     62        NaN\n",
       "18    Sara   25     F  Firenze     50        NaN\n",
       "19  Giulia   22     F   Torino     44        NaN\n",
       "20    Anna   23     F     Roma     46        NaN\n",
       "21    Luca   29     M   Milano     58        NaN\n",
       "22   Marco   31     M   Torino     62        NaN\n",
       "23    Sara   25     F  Firenze     50        NaN\n",
       "24  Giulia   22     F   Torino     44        NaN"
      ]
     },
     "metadata": {},
     "output_type": "display_data"
    }
   ],
   "source": [
    "df_grande['stipendio']=serie\n",
    "df_grande"
   ]
  },
  {
   "cell_type": "code",
   "execution_count": null,
   "id": "6ede6814",
   "metadata": {},
   "outputs": [
    {
     "name": "stdout",
     "output_type": "stream",
     "text": [
      "\n",
      "Raggruppamento per nome:\n",
      "          Età  stipendio\n",
      "Nome                   \n",
      "Anna    23.0       3000\n",
      "Giulia  22.0       1800\n",
      "Luca    27.0       6000\n",
      "Marco   31.0       4000\n",
      "Sara    25.0       4200\n"
     ]
    }
   ],
   "source": [
    "# Raggruppamento e aggregazione\n",
    "grouped = df.groupby('Nome').agg({'Età': 'mean', 'stipendio': 'sum'})\n",
    "print(\"\\nRaggruppamento per nome:\\n\", grouped)"
   ]
  },
  {
   "cell_type": "code",
   "execution_count": null,
   "id": "340a962b",
   "metadata": {},
   "outputs": [
    {
     "data": {
      "text/html": [
       "<div>\n",
       "<style scoped>\n",
       "    .dataframe tbody tr th:only-of-type {\n",
       "        vertical-align: middle;\n",
       "    }\n",
       "\n",
       "    .dataframe tbody tr th {\n",
       "        vertical-align: top;\n",
       "    }\n",
       "\n",
       "    .dataframe thead th {\n",
       "        text-align: right;\n",
       "    }\n",
       "</style>\n",
       "<table border=\"1\" class=\"dataframe\">\n",
       "  <thead>\n",
       "    <tr style=\"text-align: right;\">\n",
       "      <th></th>\n",
       "      <th>Nome</th>\n",
       "      <th>Età</th>\n",
       "      <th>Sesso</th>\n",
       "      <th>Città</th>\n",
       "      <th>Età_2</th>\n",
       "      <th>stipendio</th>\n",
       "      <th>bonus</th>\n",
       "      <th>nome_upper</th>\n",
       "      <th>Anno</th>\n",
       "    </tr>\n",
       "  </thead>\n",
       "  <tbody>\n",
       "    <tr>\n",
       "      <th>Studente1</th>\n",
       "      <td>Anna</td>\n",
       "      <td>23</td>\n",
       "      <td>F</td>\n",
       "      <td>Roma</td>\n",
       "      <td>46</td>\n",
       "      <td>NaN</td>\n",
       "      <td>300.0</td>\n",
       "      <td>ANNA</td>\n",
       "      <td>2002.0</td>\n",
       "    </tr>\n",
       "    <tr>\n",
       "      <th>Studente2</th>\n",
       "      <td>Luca</td>\n",
       "      <td>29</td>\n",
       "      <td>M</td>\n",
       "      <td>Milano</td>\n",
       "      <td>58</td>\n",
       "      <td>4500.0</td>\n",
       "      <td>450.0</td>\n",
       "      <td>LUCA</td>\n",
       "      <td>2000.0</td>\n",
       "    </tr>\n",
       "    <tr>\n",
       "      <th>Studente3</th>\n",
       "      <td>Marco</td>\n",
       "      <td>31</td>\n",
       "      <td>M</td>\n",
       "      <td>Torino</td>\n",
       "      <td>62</td>\n",
       "      <td>4000.0</td>\n",
       "      <td>400.0</td>\n",
       "      <td>MARCO</td>\n",
       "      <td>2005.0</td>\n",
       "    </tr>\n",
       "    <tr>\n",
       "      <th>Studente4</th>\n",
       "      <td>Sara</td>\n",
       "      <td>25</td>\n",
       "      <td>F</td>\n",
       "      <td>Firenze</td>\n",
       "      <td>50</td>\n",
       "      <td>4200.0</td>\n",
       "      <td>420.0</td>\n",
       "      <td>SARA</td>\n",
       "      <td>1998.0</td>\n",
       "    </tr>\n",
       "    <tr>\n",
       "      <th>Studente5</th>\n",
       "      <td>Giulia</td>\n",
       "      <td>22</td>\n",
       "      <td>F</td>\n",
       "      <td>Torino</td>\n",
       "      <td>44</td>\n",
       "      <td>1800.0</td>\n",
       "      <td>180.0</td>\n",
       "      <td>GIULIA</td>\n",
       "      <td>1996.0</td>\n",
       "    </tr>\n",
       "    <tr>\n",
       "      <th>Studente6</th>\n",
       "      <td>Luca</td>\n",
       "      <td>25</td>\n",
       "      <td>M</td>\n",
       "      <td>Roma</td>\n",
       "      <td>50</td>\n",
       "      <td>1500.0</td>\n",
       "      <td>150.0</td>\n",
       "      <td>LUCA</td>\n",
       "      <td>NaN</td>\n",
       "    </tr>\n",
       "  </tbody>\n",
       "</table>\n",
       "</div>"
      ],
      "text/plain": [
       "             Nome  Età Sesso    Città  Età_2  stipendio  bonus nome_upper  \\\n",
       "Studente1    Anna   23     F     Roma     46        NaN  300.0       ANNA   \n",
       "Studente2    Luca   29     M   Milano     58     4500.0  450.0       LUCA   \n",
       "Studente3   Marco   31     M   Torino     62     4000.0  400.0      MARCO   \n",
       "Studente4    Sara   25     F  Firenze     50     4200.0  420.0       SARA   \n",
       "Studente5  Giulia   22     F   Torino     44     1800.0  180.0     GIULIA   \n",
       "Studente6    Luca   25     M     Roma     50     1500.0  150.0       LUCA   \n",
       "\n",
       "             Anno  \n",
       "Studente1  2002.0  \n",
       "Studente2  2000.0  \n",
       "Studente3  2005.0  \n",
       "Studente4  1998.0  \n",
       "Studente5  1996.0  \n",
       "Studente6     NaN  "
      ]
     },
     "metadata": {},
     "output_type": "display_data"
    }
   ],
   "source": [
    "# Simuliamo un valore mancante\n",
    "df.loc[\"Studente1\", 'stipendio'] = np.nan\n",
    "df"
   ]
  },
  {
   "cell_type": "code",
   "execution_count": null,
   "id": "83d03218",
   "metadata": {},
   "outputs": [
    {
     "data": {
      "text/plain": [
       "Nome          0\n",
       "Età           0\n",
       "Sesso         0\n",
       "Città         0\n",
       "Età_2         0\n",
       "stipendio     1\n",
       "bonus         0\n",
       "nome_upper    0\n",
       "Anno          1\n",
       "dtype: int64"
      ]
     },
     "metadata": {},
     "output_type": "display_data"
    }
   ],
   "source": [
    "df.isnull().sum() #conteggio valori null"
   ]
  },
  {
   "cell_type": "code",
   "execution_count": null,
   "id": "ca126369",
   "metadata": {},
   "outputs": [
    {
     "name": "stdout",
     "output_type": "stream",
     "text": [
      "<class 'pandas.core.frame.DataFrame'>\n",
      "Index: 6 entries, Studente1 to Studente6\n",
      "Data columns (total 9 columns):\n",
      " #   Column      Non-Null Count  Dtype  \n",
      "---  ------      --------------  -----  \n",
      " 0   Nome        6 non-null      object \n",
      " 1   Età         6 non-null      int64  \n",
      " 2   Sesso       6 non-null      object \n",
      " 3   Città       6 non-null      object \n",
      " 4   Età_2       6 non-null      int64  \n",
      " 5   stipendio   5 non-null      float64\n",
      " 6   bonus       6 non-null      float64\n",
      " 7   nome_upper  6 non-null      object \n",
      " 8   Anno        5 non-null      float64\n",
      "dtypes: float64(3), int64(2), object(4)\n",
      "memory usage: 652.0+ bytes\n"
     ]
    }
   ],
   "source": [
    "df.info()"
   ]
  },
  {
   "cell_type": "code",
   "execution_count": null,
   "id": "9e9260aa",
   "metadata": {},
   "outputs": [
    {
     "data": {
      "text/html": [
       "<div>\n",
       "<style scoped>\n",
       "    .dataframe tbody tr th:only-of-type {\n",
       "        vertical-align: middle;\n",
       "    }\n",
       "\n",
       "    .dataframe tbody tr th {\n",
       "        vertical-align: top;\n",
       "    }\n",
       "\n",
       "    .dataframe thead th {\n",
       "        text-align: right;\n",
       "    }\n",
       "</style>\n",
       "<table border=\"1\" class=\"dataframe\">\n",
       "  <thead>\n",
       "    <tr style=\"text-align: right;\">\n",
       "      <th></th>\n",
       "      <th>Nome</th>\n",
       "      <th>Età</th>\n",
       "      <th>Sesso</th>\n",
       "      <th>Città</th>\n",
       "      <th>Età_2</th>\n",
       "      <th>stipendio</th>\n",
       "      <th>bonus</th>\n",
       "      <th>nome_upper</th>\n",
       "    </tr>\n",
       "  </thead>\n",
       "  <tbody>\n",
       "    <tr>\n",
       "      <th>Studente1</th>\n",
       "      <td>Anna</td>\n",
       "      <td>23</td>\n",
       "      <td>F</td>\n",
       "      <td>Roma</td>\n",
       "      <td>46</td>\n",
       "      <td>NaN</td>\n",
       "      <td>300.0</td>\n",
       "      <td>ANNA</td>\n",
       "    </tr>\n",
       "    <tr>\n",
       "      <th>Studente2</th>\n",
       "      <td>Luca</td>\n",
       "      <td>29</td>\n",
       "      <td>M</td>\n",
       "      <td>Milano</td>\n",
       "      <td>58</td>\n",
       "      <td>4500.0</td>\n",
       "      <td>450.0</td>\n",
       "      <td>LUCA</td>\n",
       "    </tr>\n",
       "    <tr>\n",
       "      <th>Studente3</th>\n",
       "      <td>Marco</td>\n",
       "      <td>31</td>\n",
       "      <td>M</td>\n",
       "      <td>Torino</td>\n",
       "      <td>62</td>\n",
       "      <td>4000.0</td>\n",
       "      <td>400.0</td>\n",
       "      <td>MARCO</td>\n",
       "    </tr>\n",
       "    <tr>\n",
       "      <th>Studente4</th>\n",
       "      <td>Sara</td>\n",
       "      <td>25</td>\n",
       "      <td>F</td>\n",
       "      <td>Firenze</td>\n",
       "      <td>50</td>\n",
       "      <td>4200.0</td>\n",
       "      <td>420.0</td>\n",
       "      <td>SARA</td>\n",
       "    </tr>\n",
       "    <tr>\n",
       "      <th>Studente5</th>\n",
       "      <td>Giulia</td>\n",
       "      <td>22</td>\n",
       "      <td>F</td>\n",
       "      <td>Torino</td>\n",
       "      <td>44</td>\n",
       "      <td>1800.0</td>\n",
       "      <td>180.0</td>\n",
       "      <td>GIULIA</td>\n",
       "    </tr>\n",
       "    <tr>\n",
       "      <th>Studente6</th>\n",
       "      <td>Luca</td>\n",
       "      <td>25</td>\n",
       "      <td>M</td>\n",
       "      <td>Roma</td>\n",
       "      <td>50</td>\n",
       "      <td>1500.0</td>\n",
       "      <td>150.0</td>\n",
       "      <td>LUCA</td>\n",
       "    </tr>\n",
       "  </tbody>\n",
       "</table>\n",
       "</div>"
      ],
      "text/plain": [
       "             Nome  Età Sesso    Città  Età_2  stipendio  bonus nome_upper\n",
       "Studente1    Anna   23     F     Roma     46        NaN  300.0       ANNA\n",
       "Studente2    Luca   29     M   Milano     58     4500.0  450.0       LUCA\n",
       "Studente3   Marco   31     M   Torino     62     4000.0  400.0      MARCO\n",
       "Studente4    Sara   25     F  Firenze     50     4200.0  420.0       SARA\n",
       "Studente5  Giulia   22     F   Torino     44     1800.0  180.0     GIULIA\n",
       "Studente6    Luca   25     M     Roma     50     1500.0  150.0       LUCA"
      ]
     },
     "metadata": {},
     "output_type": "display_data"
    }
   ],
   "source": [
    "df.drop(\"Anno\", axis=1, inplace=True)\n",
    "df"
   ]
  },
  {
   "cell_type": "code",
   "execution_count": null,
   "id": "82ae4996",
   "metadata": {},
   "outputs": [
    {
     "data": {
      "text/html": [
       "<div>\n",
       "<style scoped>\n",
       "    .dataframe tbody tr th:only-of-type {\n",
       "        vertical-align: middle;\n",
       "    }\n",
       "\n",
       "    .dataframe tbody tr th {\n",
       "        vertical-align: top;\n",
       "    }\n",
       "\n",
       "    .dataframe thead th {\n",
       "        text-align: right;\n",
       "    }\n",
       "</style>\n",
       "<table border=\"1\" class=\"dataframe\">\n",
       "  <thead>\n",
       "    <tr style=\"text-align: right;\">\n",
       "      <th></th>\n",
       "      <th>Nome</th>\n",
       "      <th>Età</th>\n",
       "      <th>Sesso</th>\n",
       "      <th>Città</th>\n",
       "      <th>Età_2</th>\n",
       "      <th>stipendio</th>\n",
       "      <th>bonus</th>\n",
       "      <th>nome_upper</th>\n",
       "    </tr>\n",
       "  </thead>\n",
       "  <tbody>\n",
       "    <tr>\n",
       "      <th>Studente1</th>\n",
       "      <td>Anna</td>\n",
       "      <td>23</td>\n",
       "      <td>F</td>\n",
       "      <td>Roma</td>\n",
       "      <td>46</td>\n",
       "      <td>NaN</td>\n",
       "      <td>300.0</td>\n",
       "      <td>ANNA</td>\n",
       "    </tr>\n",
       "    <tr>\n",
       "      <th>Studente3</th>\n",
       "      <td>Marco</td>\n",
       "      <td>31</td>\n",
       "      <td>M</td>\n",
       "      <td>Torino</td>\n",
       "      <td>62</td>\n",
       "      <td>4000.0</td>\n",
       "      <td>400.0</td>\n",
       "      <td>MARCO</td>\n",
       "    </tr>\n",
       "    <tr>\n",
       "      <th>Studente4</th>\n",
       "      <td>Sara</td>\n",
       "      <td>25</td>\n",
       "      <td>F</td>\n",
       "      <td>Firenze</td>\n",
       "      <td>50</td>\n",
       "      <td>4200.0</td>\n",
       "      <td>420.0</td>\n",
       "      <td>SARA</td>\n",
       "    </tr>\n",
       "    <tr>\n",
       "      <th>Studente5</th>\n",
       "      <td>Giulia</td>\n",
       "      <td>22</td>\n",
       "      <td>F</td>\n",
       "      <td>Torino</td>\n",
       "      <td>44</td>\n",
       "      <td>1800.0</td>\n",
       "      <td>180.0</td>\n",
       "      <td>GIULIA</td>\n",
       "    </tr>\n",
       "    <tr>\n",
       "      <th>Studente6</th>\n",
       "      <td>Luca</td>\n",
       "      <td>25</td>\n",
       "      <td>M</td>\n",
       "      <td>Roma</td>\n",
       "      <td>50</td>\n",
       "      <td>1500.0</td>\n",
       "      <td>150.0</td>\n",
       "      <td>LUCA</td>\n",
       "    </tr>\n",
       "  </tbody>\n",
       "</table>\n",
       "</div>"
      ],
      "text/plain": [
       "             Nome  Età Sesso    Città  Età_2  stipendio  bonus nome_upper\n",
       "Studente1    Anna   23     F     Roma     46        NaN  300.0       ANNA\n",
       "Studente3   Marco   31     M   Torino     62     4000.0  400.0      MARCO\n",
       "Studente4    Sara   25     F  Firenze     50     4200.0  420.0       SARA\n",
       "Studente5  Giulia   22     F   Torino     44     1800.0  180.0     GIULIA\n",
       "Studente6    Luca   25     M     Roma     50     1500.0  150.0       LUCA"
      ]
     },
     "metadata": {},
     "output_type": "display_data"
    }
   ],
   "source": [
    "df.drop(\"Studente2\", inplace=True)\n",
    "df"
   ]
  },
  {
   "cell_type": "code",
   "execution_count": null,
   "id": "f9d7b95d",
   "metadata": {},
   "outputs": [
    {
     "name": "stdout",
     "output_type": "stream",
     "text": [
      "\n",
      "Dopo fillna(0):\n",
      "              Nome  Età Sesso    Città  Età_2  stipendio  bonus nome_upper\n",
      "Studente1    Anna   23     F     Roma     46        0.0  300.0       ANNA\n",
      "Studente3   Marco   31     M   Torino     62     4000.0  400.0      MARCO\n",
      "Studente4    Sara   25     F  Firenze     50     4200.0  420.0       SARA\n",
      "Studente5  Giulia   22     F   Torino     44     1800.0  180.0     GIULIA\n",
      "Studente6    Luca   25     M     Roma     50     1500.0  150.0       LUCA\n"
     ]
    }
   ],
   "source": [
    "df_filled = df.fillna(0)\n",
    "print(\"\\nDopo fillna(0):\\n\", df_filled)"
   ]
  },
  {
   "cell_type": "code",
   "execution_count": null,
   "id": "e147cbdc",
   "metadata": {},
   "outputs": [
    {
     "data": {
      "text/html": [
       "<div>\n",
       "<style scoped>\n",
       "    .dataframe tbody tr th:only-of-type {\n",
       "        vertical-align: middle;\n",
       "    }\n",
       "\n",
       "    .dataframe tbody tr th {\n",
       "        vertical-align: top;\n",
       "    }\n",
       "\n",
       "    .dataframe thead th {\n",
       "        text-align: right;\n",
       "    }\n",
       "</style>\n",
       "<table border=\"1\" class=\"dataframe\">\n",
       "  <thead>\n",
       "    <tr style=\"text-align: right;\">\n",
       "      <th></th>\n",
       "      <th>Nome</th>\n",
       "      <th>Età</th>\n",
       "      <th>Sesso</th>\n",
       "      <th>Città</th>\n",
       "      <th>Età_2</th>\n",
       "      <th>stipendio</th>\n",
       "      <th>bonus</th>\n",
       "      <th>nome_upper</th>\n",
       "    </tr>\n",
       "  </thead>\n",
       "  <tbody>\n",
       "    <tr>\n",
       "      <th>Studente1</th>\n",
       "      <td>Anna</td>\n",
       "      <td>23</td>\n",
       "      <td>F</td>\n",
       "      <td>Roma</td>\n",
       "      <td>46</td>\n",
       "      <td>2875.0</td>\n",
       "      <td>300.0</td>\n",
       "      <td>ANNA</td>\n",
       "    </tr>\n",
       "    <tr>\n",
       "      <th>Studente3</th>\n",
       "      <td>Marco</td>\n",
       "      <td>31</td>\n",
       "      <td>M</td>\n",
       "      <td>Torino</td>\n",
       "      <td>62</td>\n",
       "      <td>4000.0</td>\n",
       "      <td>400.0</td>\n",
       "      <td>MARCO</td>\n",
       "    </tr>\n",
       "    <tr>\n",
       "      <th>Studente4</th>\n",
       "      <td>Sara</td>\n",
       "      <td>25</td>\n",
       "      <td>F</td>\n",
       "      <td>Firenze</td>\n",
       "      <td>50</td>\n",
       "      <td>4200.0</td>\n",
       "      <td>420.0</td>\n",
       "      <td>SARA</td>\n",
       "    </tr>\n",
       "    <tr>\n",
       "      <th>Studente5</th>\n",
       "      <td>Giulia</td>\n",
       "      <td>22</td>\n",
       "      <td>F</td>\n",
       "      <td>Torino</td>\n",
       "      <td>44</td>\n",
       "      <td>1800.0</td>\n",
       "      <td>180.0</td>\n",
       "      <td>GIULIA</td>\n",
       "    </tr>\n",
       "    <tr>\n",
       "      <th>Studente6</th>\n",
       "      <td>Luca</td>\n",
       "      <td>25</td>\n",
       "      <td>M</td>\n",
       "      <td>Roma</td>\n",
       "      <td>50</td>\n",
       "      <td>1500.0</td>\n",
       "      <td>150.0</td>\n",
       "      <td>LUCA</td>\n",
       "    </tr>\n",
       "  </tbody>\n",
       "</table>\n",
       "</div>"
      ],
      "text/plain": [
       "             Nome  Età Sesso    Città  Età_2  stipendio  bonus nome_upper\n",
       "Studente1    Anna   23     F     Roma     46     2875.0  300.0       ANNA\n",
       "Studente3   Marco   31     M   Torino     62     4000.0  400.0      MARCO\n",
       "Studente4    Sara   25     F  Firenze     50     4200.0  420.0       SARA\n",
       "Studente5  Giulia   22     F   Torino     44     1800.0  180.0     GIULIA\n",
       "Studente6    Luca   25     M     Roma     50     1500.0  150.0       LUCA"
      ]
     },
     "metadata": {},
     "output_type": "display_data"
    }
   ],
   "source": [
    "df.loc[\"Studente1\", 'stipendio'] = np.nan\n",
    "df.fillna(df['stipendio'].mean(), inplace=True)\n",
    "df"
   ]
  },
  {
   "cell_type": "code",
   "execution_count": null,
   "id": "5243f82b",
   "metadata": {},
   "outputs": [
    {
     "data": {
      "text/html": [
       "<div>\n",
       "<style scoped>\n",
       "    .dataframe tbody tr th:only-of-type {\n",
       "        vertical-align: middle;\n",
       "    }\n",
       "\n",
       "    .dataframe tbody tr th {\n",
       "        vertical-align: top;\n",
       "    }\n",
       "\n",
       "    .dataframe thead th {\n",
       "        text-align: right;\n",
       "    }\n",
       "</style>\n",
       "<table border=\"1\" class=\"dataframe\">\n",
       "  <thead>\n",
       "    <tr style=\"text-align: right;\">\n",
       "      <th></th>\n",
       "      <th>Nome</th>\n",
       "      <th>Età</th>\n",
       "      <th>Sesso</th>\n",
       "      <th>Città</th>\n",
       "      <th>Età_2</th>\n",
       "      <th>stipendio</th>\n",
       "      <th>bonus</th>\n",
       "      <th>nome_upper</th>\n",
       "      <th>sesso_numerico</th>\n",
       "      <th>citta_num</th>\n",
       "    </tr>\n",
       "  </thead>\n",
       "  <tbody>\n",
       "    <tr>\n",
       "      <th>Studente1</th>\n",
       "      <td>Anna</td>\n",
       "      <td>23</td>\n",
       "      <td>F</td>\n",
       "      <td>Roma</td>\n",
       "      <td>46</td>\n",
       "      <td>2875.0</td>\n",
       "      <td>300.0</td>\n",
       "      <td>ANNA</td>\n",
       "      <td>0</td>\n",
       "      <td>1</td>\n",
       "    </tr>\n",
       "    <tr>\n",
       "      <th>Studente3</th>\n",
       "      <td>Marco</td>\n",
       "      <td>31</td>\n",
       "      <td>M</td>\n",
       "      <td>Torino</td>\n",
       "      <td>62</td>\n",
       "      <td>4000.0</td>\n",
       "      <td>400.0</td>\n",
       "      <td>MARCO</td>\n",
       "      <td>1</td>\n",
       "      <td>2</td>\n",
       "    </tr>\n",
       "    <tr>\n",
       "      <th>Studente4</th>\n",
       "      <td>Sara</td>\n",
       "      <td>25</td>\n",
       "      <td>F</td>\n",
       "      <td>Firenze</td>\n",
       "      <td>50</td>\n",
       "      <td>4200.0</td>\n",
       "      <td>420.0</td>\n",
       "      <td>SARA</td>\n",
       "      <td>0</td>\n",
       "      <td>0</td>\n",
       "    </tr>\n",
       "    <tr>\n",
       "      <th>Studente5</th>\n",
       "      <td>Giulia</td>\n",
       "      <td>22</td>\n",
       "      <td>F</td>\n",
       "      <td>Torino</td>\n",
       "      <td>44</td>\n",
       "      <td>1800.0</td>\n",
       "      <td>180.0</td>\n",
       "      <td>GIULIA</td>\n",
       "      <td>0</td>\n",
       "      <td>2</td>\n",
       "    </tr>\n",
       "    <tr>\n",
       "      <th>Studente6</th>\n",
       "      <td>Luca</td>\n",
       "      <td>25</td>\n",
       "      <td>M</td>\n",
       "      <td>Roma</td>\n",
       "      <td>50</td>\n",
       "      <td>1500.0</td>\n",
       "      <td>150.0</td>\n",
       "      <td>LUCA</td>\n",
       "      <td>1</td>\n",
       "      <td>1</td>\n",
       "    </tr>\n",
       "  </tbody>\n",
       "</table>\n",
       "</div>"
      ],
      "text/plain": [
       "             Nome  Età Sesso    Città  Età_2  stipendio  bonus nome_upper  \\\n",
       "Studente1    Anna   23     F     Roma     46     2875.0  300.0       ANNA   \n",
       "Studente3   Marco   31     M   Torino     62     4000.0  400.0      MARCO   \n",
       "Studente4    Sara   25     F  Firenze     50     4200.0  420.0       SARA   \n",
       "Studente5  Giulia   22     F   Torino     44     1800.0  180.0     GIULIA   \n",
       "Studente6    Luca   25     M     Roma     50     1500.0  150.0       LUCA   \n",
       "\n",
       "           sesso_numerico  citta_num  \n",
       "Studente1               0          1  \n",
       "Studente3               1          2  \n",
       "Studente4               0          0  \n",
       "Studente5               0          2  \n",
       "Studente6               1          1  "
      ]
     },
     "metadata": {},
     "output_type": "display_data"
    }
   ],
   "source": [
    "le = LabelEncoder()\n",
    "df[\"sesso_numerico\"] = le.fit_transform(df[\"Sesso\"])\n",
    "df[\"citta_num\"] = le.fit_transform(df[\"Città\"])\n",
    "df"
   ]
  },
  {
   "cell_type": "code",
   "execution_count": null,
   "id": "37450df0",
   "metadata": {},
   "outputs": [
    {
     "name": "stdout",
     "output_type": "stream",
     "text": [
      "\n",
      "✅ DataFrame dopo One-Hot Encoding (pandas.get_dummies):\n",
      "             Nome  Età Sesso  Età_2  stipendio  bonus nome_upper  \\\n",
      "Studente1    Anna   23     F     46     2875.0  300.0       ANNA   \n",
      "Studente3   Marco   31     M     62     4000.0  400.0      MARCO   \n",
      "Studente4    Sara   25     F     50     4200.0  420.0       SARA   \n",
      "Studente5  Giulia   22     F     44     1800.0  180.0     GIULIA   \n",
      "Studente6    Luca   25     M     50     1500.0  150.0       LUCA   \n",
      "\n",
      "           sesso_numerico  citta_num  Città_Firenze  Città_Roma  Città_Torino  \n",
      "Studente1               0          1          False        True         False  \n",
      "Studente3               1          2          False       False          True  \n",
      "Studente4               0          0           True       False         False  \n",
      "Studente5               0          2          False       False          True  \n",
      "Studente6               1          1          False        True         False  \n"
     ]
    }
   ],
   "source": [
    "df_encoded = pd.get_dummies(df, columns=[\"Città\"])\n",
    "\n",
    "print(\"\\n✅ DataFrame dopo One-Hot Encoding (pandas.get_dummies):\")\n",
    "print(df_encoded)"
   ]
  },
  {
   "cell_type": "code",
   "execution_count": null,
   "id": "fdda4d55",
   "metadata": {},
   "outputs": [],
   "source": [
    "# Con sklearn\n",
    "encoder = OneHotEncoder(sparse_output=False)  # ritorna un array denso\n",
    "\n",
    "# Applichiamo l'encoder solo alle colonne categoriche\n",
    "encoded_array = encoder.fit_transform(df[[\"Città\"]])\n",
    "\n",
    "# Recuperiamo i nomi delle nuove colonne\n",
    "encoded_columns = encoder.get_feature_names_out([\"Città\"])\n",
    "\n",
    "# Creiamo un DataFrame con i risultati\n",
    "df_encoded_sklearn = pd.DataFrame(encoded_array, columns=encoded_columns, index=df.index)"
   ]
  },
  {
   "cell_type": "code",
   "execution_count": null,
   "id": "a7f35c13",
   "metadata": {},
   "outputs": [
    {
     "data": {
      "text/plain": [
       "array([[0., 1., 0.],\n",
       "       [0., 0., 1.],\n",
       "       [1., 0., 0.],\n",
       "       [0., 0., 1.],\n",
       "       [0., 1., 0.]])"
      ]
     },
     "metadata": {},
     "output_type": "display_data"
    }
   ],
   "source": [
    "encoded_array"
   ]
  },
  {
   "cell_type": "code",
   "execution_count": null,
   "id": "d97626d9",
   "metadata": {},
   "outputs": [
    {
     "data": {
      "text/plain": [
       "array(['Città_Firenze', 'Città_Roma', 'Città_Torino'], dtype=object)"
      ]
     },
     "metadata": {},
     "output_type": "display_data"
    }
   ],
   "source": [
    "encoded_columns"
   ]
  },
  {
   "cell_type": "code",
   "execution_count": null,
   "id": "2bd28837",
   "metadata": {},
   "outputs": [
    {
     "data": {
      "text/html": [
       "<div>\n",
       "<style scoped>\n",
       "    .dataframe tbody tr th:only-of-type {\n",
       "        vertical-align: middle;\n",
       "    }\n",
       "\n",
       "    .dataframe tbody tr th {\n",
       "        vertical-align: top;\n",
       "    }\n",
       "\n",
       "    .dataframe thead th {\n",
       "        text-align: right;\n",
       "    }\n",
       "</style>\n",
       "<table border=\"1\" class=\"dataframe\">\n",
       "  <thead>\n",
       "    <tr style=\"text-align: right;\">\n",
       "      <th></th>\n",
       "      <th>Città_Firenze</th>\n",
       "      <th>Città_Roma</th>\n",
       "      <th>Città_Torino</th>\n",
       "    </tr>\n",
       "  </thead>\n",
       "  <tbody>\n",
       "    <tr>\n",
       "      <th>Studente1</th>\n",
       "      <td>0.0</td>\n",
       "      <td>1.0</td>\n",
       "      <td>0.0</td>\n",
       "    </tr>\n",
       "    <tr>\n",
       "      <th>Studente3</th>\n",
       "      <td>0.0</td>\n",
       "      <td>0.0</td>\n",
       "      <td>1.0</td>\n",
       "    </tr>\n",
       "    <tr>\n",
       "      <th>Studente4</th>\n",
       "      <td>1.0</td>\n",
       "      <td>0.0</td>\n",
       "      <td>0.0</td>\n",
       "    </tr>\n",
       "    <tr>\n",
       "      <th>Studente5</th>\n",
       "      <td>0.0</td>\n",
       "      <td>0.0</td>\n",
       "      <td>1.0</td>\n",
       "    </tr>\n",
       "    <tr>\n",
       "      <th>Studente6</th>\n",
       "      <td>0.0</td>\n",
       "      <td>1.0</td>\n",
       "      <td>0.0</td>\n",
       "    </tr>\n",
       "  </tbody>\n",
       "</table>\n",
       "</div>"
      ],
      "text/plain": [
       "           Città_Firenze  Città_Roma  Città_Torino\n",
       "Studente1            0.0         1.0           0.0\n",
       "Studente3            0.0         0.0           1.0\n",
       "Studente4            1.0         0.0           0.0\n",
       "Studente5            0.0         0.0           1.0\n",
       "Studente6            0.0         1.0           0.0"
      ]
     },
     "metadata": {},
     "output_type": "display_data"
    }
   ],
   "source": [
    "df_encoded_sklearn"
   ]
  },
  {
   "cell_type": "code",
   "execution_count": null,
   "id": "e9feb34b",
   "metadata": {},
   "outputs": [
    {
     "name": "stdout",
     "output_type": "stream",
     "text": [
      "\n",
      "✅ DataFrame dopo One-Hot Encoding (sklearn.OneHotEncoder):\n",
      "             Nome  Età Sesso    Città  Età_2  stipendio  bonus nome_upper  \\\n",
      "Studente1    Anna   23     F     Roma     46     2875.0  300.0       ANNA   \n",
      "Studente3   Marco   31     M   Torino     62     4000.0  400.0      MARCO   \n",
      "Studente4    Sara   25     F  Firenze     50     4200.0  420.0       SARA   \n",
      "Studente5  Giulia   22     F   Torino     44     1800.0  180.0     GIULIA   \n",
      "Studente6    Luca   25     M     Roma     50     1500.0  150.0       LUCA   \n",
      "\n",
      "           sesso_numerico  citta_num  Città_Firenze  Città_Roma  Città_Torino  \n",
      "Studente1               0          1            0.0         1.0           0.0  \n",
      "Studente3               1          2            0.0         0.0           1.0  \n",
      "Studente4               0          0            1.0         0.0           0.0  \n",
      "Studente5               0          2            0.0         0.0           1.0  \n",
      "Studente6               1          1            0.0         1.0           0.0  \n"
     ]
    }
   ],
   "source": [
    "# Uniamo le colonne numeriche originali\n",
    "df_final = pd.concat([df, df_encoded_sklearn], axis=1)\n",
    "\n",
    "print(\"\\n✅ DataFrame dopo One-Hot Encoding (sklearn.OneHotEncoder):\")\n",
    "print(df_final)\n"
   ]
  },
  {
   "cell_type": "code",
   "execution_count": null,
   "id": "0a038942",
   "metadata": {},
   "outputs": [
    {
     "data": {
      "text/plain": [
       "(5, 10)"
      ]
     },
     "metadata": {},
     "output_type": "display_data"
    }
   ],
   "source": [
    "df.shape         # dimensione (righe, colonne)"
   ]
  },
  {
   "cell_type": "code",
   "execution_count": null,
   "id": "6399c7dd",
   "metadata": {},
   "outputs": [
    {
     "data": {
      "text/plain": [
       "Nome               object\n",
       "Età                 int64\n",
       "Sesso              object\n",
       "Città              object\n",
       "Età_2               int64\n",
       "stipendio         float64\n",
       "bonus             float64\n",
       "nome_upper         object\n",
       "sesso_numerico      int64\n",
       "citta_num           int64\n",
       "dtype: object"
      ]
     },
     "metadata": {},
     "output_type": "display_data"
    }
   ],
   "source": [
    "df.dtypes       # tipi di dati delle colonne"
   ]
  },
  {
   "cell_type": "code",
   "execution_count": null,
   "id": "63acac0e",
   "metadata": {},
   "outputs": [],
   "source": [
    "df.rename(columns={'nome_upper': 'nome maiuscolo'}, inplace=True)\n",
    "df.rename(index={'Studente6': 'Studente2'}, inplace=True)\n",
    "#df.rename(mapper={'Studente6': 'Studente2'}, axis=0, inplace=True)\n",
    "#df.rename(mapper={'nome_upper': 'nome maiuscolo'}, axis=1, inplace=True)"
   ]
  },
  {
   "cell_type": "code",
   "execution_count": null,
   "id": "49b0d03c",
   "metadata": {},
   "outputs": [
    {
     "data": {
      "text/html": [
       "<div>\n",
       "<style scoped>\n",
       "    .dataframe tbody tr th:only-of-type {\n",
       "        vertical-align: middle;\n",
       "    }\n",
       "\n",
       "    .dataframe tbody tr th {\n",
       "        vertical-align: top;\n",
       "    }\n",
       "\n",
       "    .dataframe thead th {\n",
       "        text-align: right;\n",
       "    }\n",
       "</style>\n",
       "<table border=\"1\" class=\"dataframe\">\n",
       "  <thead>\n",
       "    <tr style=\"text-align: right;\">\n",
       "      <th></th>\n",
       "      <th>Nome</th>\n",
       "      <th>Età</th>\n",
       "      <th>Sesso</th>\n",
       "      <th>Città</th>\n",
       "      <th>Età_2</th>\n",
       "      <th>stipendio</th>\n",
       "      <th>bonus</th>\n",
       "      <th>nome maiuscolo</th>\n",
       "      <th>sesso_numerico</th>\n",
       "      <th>citta_num</th>\n",
       "    </tr>\n",
       "  </thead>\n",
       "  <tbody>\n",
       "    <tr>\n",
       "      <th>Studente1</th>\n",
       "      <td>Anna</td>\n",
       "      <td>23</td>\n",
       "      <td>F</td>\n",
       "      <td>Roma</td>\n",
       "      <td>46</td>\n",
       "      <td>2875.0</td>\n",
       "      <td>300.0</td>\n",
       "      <td>ANNA</td>\n",
       "      <td>0</td>\n",
       "      <td>1</td>\n",
       "    </tr>\n",
       "    <tr>\n",
       "      <th>Studente3</th>\n",
       "      <td>Marco</td>\n",
       "      <td>31</td>\n",
       "      <td>M</td>\n",
       "      <td>Torino</td>\n",
       "      <td>62</td>\n",
       "      <td>4000.0</td>\n",
       "      <td>400.0</td>\n",
       "      <td>MARCO</td>\n",
       "      <td>1</td>\n",
       "      <td>2</td>\n",
       "    </tr>\n",
       "    <tr>\n",
       "      <th>Studente4</th>\n",
       "      <td>Sara</td>\n",
       "      <td>25</td>\n",
       "      <td>F</td>\n",
       "      <td>Firenze</td>\n",
       "      <td>50</td>\n",
       "      <td>4200.0</td>\n",
       "      <td>420.0</td>\n",
       "      <td>SARA</td>\n",
       "      <td>0</td>\n",
       "      <td>0</td>\n",
       "    </tr>\n",
       "    <tr>\n",
       "      <th>Studente5</th>\n",
       "      <td>Giulia</td>\n",
       "      <td>22</td>\n",
       "      <td>F</td>\n",
       "      <td>Torino</td>\n",
       "      <td>44</td>\n",
       "      <td>1800.0</td>\n",
       "      <td>180.0</td>\n",
       "      <td>GIULIA</td>\n",
       "      <td>0</td>\n",
       "      <td>2</td>\n",
       "    </tr>\n",
       "    <tr>\n",
       "      <th>Studente2</th>\n",
       "      <td>Luca</td>\n",
       "      <td>25</td>\n",
       "      <td>M</td>\n",
       "      <td>Roma</td>\n",
       "      <td>50</td>\n",
       "      <td>1500.0</td>\n",
       "      <td>150.0</td>\n",
       "      <td>LUCA</td>\n",
       "      <td>1</td>\n",
       "      <td>1</td>\n",
       "    </tr>\n",
       "  </tbody>\n",
       "</table>\n",
       "</div>"
      ],
      "text/plain": [
       "             Nome  Età Sesso    Città  Età_2  stipendio  bonus nome maiuscolo  \\\n",
       "Studente1    Anna   23     F     Roma     46     2875.0  300.0           ANNA   \n",
       "Studente3   Marco   31     M   Torino     62     4000.0  400.0          MARCO   \n",
       "Studente4    Sara   25     F  Firenze     50     4200.0  420.0           SARA   \n",
       "Studente5  Giulia   22     F   Torino     44     1800.0  180.0         GIULIA   \n",
       "Studente2    Luca   25     M     Roma     50     1500.0  150.0           LUCA   \n",
       "\n",
       "           sesso_numerico  citta_num  \n",
       "Studente1               0          1  \n",
       "Studente3               1          2  \n",
       "Studente4               0          0  \n",
       "Studente5               0          2  \n",
       "Studente2               1          1  "
      ]
     },
     "metadata": {},
     "output_type": "display_data"
    }
   ],
   "source": [
    "df"
   ]
  },
  {
   "cell_type": "code",
   "execution_count": null,
   "id": "dffb18cc",
   "metadata": {},
   "outputs": [
    {
     "data": {
      "text/html": [
       "<div>\n",
       "<style scoped>\n",
       "    .dataframe tbody tr th:only-of-type {\n",
       "        vertical-align: middle;\n",
       "    }\n",
       "\n",
       "    .dataframe tbody tr th {\n",
       "        vertical-align: top;\n",
       "    }\n",
       "\n",
       "    .dataframe thead th {\n",
       "        text-align: right;\n",
       "    }\n",
       "</style>\n",
       "<table border=\"1\" class=\"dataframe\">\n",
       "  <thead>\n",
       "    <tr style=\"text-align: right;\">\n",
       "      <th></th>\n",
       "      <th>Nome</th>\n",
       "      <th>Età_x</th>\n",
       "      <th>Sesso_x</th>\n",
       "      <th>Città_x</th>\n",
       "      <th>Età_2_x</th>\n",
       "      <th>stipendio_x</th>\n",
       "      <th>bonus_x</th>\n",
       "      <th>nome maiuscolo_x</th>\n",
       "      <th>sesso_numerico_x</th>\n",
       "      <th>citta_num_x</th>\n",
       "      <th>Età_y</th>\n",
       "      <th>Sesso_y</th>\n",
       "      <th>Città_y</th>\n",
       "      <th>Età_2_y</th>\n",
       "      <th>stipendio_y</th>\n",
       "      <th>bonus_y</th>\n",
       "      <th>nome maiuscolo_y</th>\n",
       "      <th>sesso_numerico_y</th>\n",
       "      <th>citta_num_y</th>\n",
       "    </tr>\n",
       "  </thead>\n",
       "  <tbody>\n",
       "    <tr>\n",
       "      <th>0</th>\n",
       "      <td>Anna</td>\n",
       "      <td>23</td>\n",
       "      <td>F</td>\n",
       "      <td>Roma</td>\n",
       "      <td>46</td>\n",
       "      <td>2875.0</td>\n",
       "      <td>300.0</td>\n",
       "      <td>ANNA</td>\n",
       "      <td>0</td>\n",
       "      <td>1</td>\n",
       "      <td>23</td>\n",
       "      <td>F</td>\n",
       "      <td>Roma</td>\n",
       "      <td>46</td>\n",
       "      <td>2875.0</td>\n",
       "      <td>300.0</td>\n",
       "      <td>ANNA</td>\n",
       "      <td>0</td>\n",
       "      <td>1</td>\n",
       "    </tr>\n",
       "    <tr>\n",
       "      <th>1</th>\n",
       "      <td>Marco</td>\n",
       "      <td>31</td>\n",
       "      <td>M</td>\n",
       "      <td>Torino</td>\n",
       "      <td>62</td>\n",
       "      <td>4000.0</td>\n",
       "      <td>400.0</td>\n",
       "      <td>MARCO</td>\n",
       "      <td>1</td>\n",
       "      <td>2</td>\n",
       "      <td>31</td>\n",
       "      <td>M</td>\n",
       "      <td>Torino</td>\n",
       "      <td>62</td>\n",
       "      <td>4000.0</td>\n",
       "      <td>400.0</td>\n",
       "      <td>MARCO</td>\n",
       "      <td>1</td>\n",
       "      <td>2</td>\n",
       "    </tr>\n",
       "    <tr>\n",
       "      <th>2</th>\n",
       "      <td>Sara</td>\n",
       "      <td>25</td>\n",
       "      <td>F</td>\n",
       "      <td>Firenze</td>\n",
       "      <td>50</td>\n",
       "      <td>4200.0</td>\n",
       "      <td>420.0</td>\n",
       "      <td>SARA</td>\n",
       "      <td>0</td>\n",
       "      <td>0</td>\n",
       "      <td>25</td>\n",
       "      <td>F</td>\n",
       "      <td>Firenze</td>\n",
       "      <td>50</td>\n",
       "      <td>4200.0</td>\n",
       "      <td>420.0</td>\n",
       "      <td>SARA</td>\n",
       "      <td>0</td>\n",
       "      <td>0</td>\n",
       "    </tr>\n",
       "    <tr>\n",
       "      <th>3</th>\n",
       "      <td>Giulia</td>\n",
       "      <td>22</td>\n",
       "      <td>F</td>\n",
       "      <td>Torino</td>\n",
       "      <td>44</td>\n",
       "      <td>1800.0</td>\n",
       "      <td>180.0</td>\n",
       "      <td>GIULIA</td>\n",
       "      <td>0</td>\n",
       "      <td>2</td>\n",
       "      <td>22</td>\n",
       "      <td>F</td>\n",
       "      <td>Torino</td>\n",
       "      <td>44</td>\n",
       "      <td>1800.0</td>\n",
       "      <td>180.0</td>\n",
       "      <td>GIULIA</td>\n",
       "      <td>0</td>\n",
       "      <td>2</td>\n",
       "    </tr>\n",
       "    <tr>\n",
       "      <th>4</th>\n",
       "      <td>Luca</td>\n",
       "      <td>25</td>\n",
       "      <td>M</td>\n",
       "      <td>Roma</td>\n",
       "      <td>50</td>\n",
       "      <td>1500.0</td>\n",
       "      <td>150.0</td>\n",
       "      <td>LUCA</td>\n",
       "      <td>1</td>\n",
       "      <td>1</td>\n",
       "      <td>25</td>\n",
       "      <td>M</td>\n",
       "      <td>Roma</td>\n",
       "      <td>50</td>\n",
       "      <td>1500.0</td>\n",
       "      <td>150.0</td>\n",
       "      <td>LUCA</td>\n",
       "      <td>1</td>\n",
       "      <td>1</td>\n",
       "    </tr>\n",
       "  </tbody>\n",
       "</table>\n",
       "</div>"
      ],
      "text/plain": [
       "     Nome  Età_x Sesso_x  Città_x  Età_2_x  stipendio_x  bonus_x  \\\n",
       "0    Anna     23       F     Roma       46       2875.0    300.0   \n",
       "1   Marco     31       M   Torino       62       4000.0    400.0   \n",
       "2    Sara     25       F  Firenze       50       4200.0    420.0   \n",
       "3  Giulia     22       F   Torino       44       1800.0    180.0   \n",
       "4    Luca     25       M     Roma       50       1500.0    150.0   \n",
       "\n",
       "  nome maiuscolo_x  sesso_numerico_x  citta_num_x  Età_y Sesso_y  Città_y  \\\n",
       "0             ANNA                 0            1     23       F     Roma   \n",
       "1            MARCO                 1            2     31       M   Torino   \n",
       "2             SARA                 0            0     25       F  Firenze   \n",
       "3           GIULIA                 0            2     22       F   Torino   \n",
       "4             LUCA                 1            1     25       M     Roma   \n",
       "\n",
       "   Età_2_y  stipendio_y  bonus_y nome maiuscolo_y  sesso_numerico_y  \\\n",
       "0       46       2875.0    300.0             ANNA                 0   \n",
       "1       62       4000.0    400.0            MARCO                 1   \n",
       "2       50       4200.0    420.0             SARA                 0   \n",
       "3       44       1800.0    180.0           GIULIA                 0   \n",
       "4       50       1500.0    150.0             LUCA                 1   \n",
       "\n",
       "   citta_num_y  \n",
       "0            1  \n",
       "1            2  \n",
       "2            0  \n",
       "3            2  \n",
       "4            1  "
      ]
     },
     "metadata": {},
     "output_type": "display_data"
    }
   ],
   "source": [
    "df2=df.copy()  # esempio di secondo DataFrame\n",
    "pd.merge(df, df2, on='Nome')          # join classico"
   ]
  },
  {
   "cell_type": "code",
   "execution_count": null,
   "id": "82737b17",
   "metadata": {},
   "outputs": [
    {
     "data": {
      "text/html": [
       "<div>\n",
       "<style scoped>\n",
       "    .dataframe tbody tr th:only-of-type {\n",
       "        vertical-align: middle;\n",
       "    }\n",
       "\n",
       "    .dataframe tbody tr th {\n",
       "        vertical-align: top;\n",
       "    }\n",
       "\n",
       "    .dataframe thead th {\n",
       "        text-align: right;\n",
       "    }\n",
       "</style>\n",
       "<table border=\"1\" class=\"dataframe\">\n",
       "  <thead>\n",
       "    <tr style=\"text-align: right;\">\n",
       "      <th></th>\n",
       "      <th>Età</th>\n",
       "      <th>Età_2</th>\n",
       "      <th>stipendio</th>\n",
       "      <th>bonus</th>\n",
       "      <th>sesso_numerico</th>\n",
       "      <th>citta_num</th>\n",
       "    </tr>\n",
       "  </thead>\n",
       "  <tbody>\n",
       "    <tr>\n",
       "      <th>Età</th>\n",
       "      <td>1.000000</td>\n",
       "      <td>1.000000</td>\n",
       "      <td>0.579693</td>\n",
       "      <td>0.563132</td>\n",
       "      <td>0.731792</td>\n",
       "      <td>0.239535</td>\n",
       "    </tr>\n",
       "    <tr>\n",
       "      <th>Età_2</th>\n",
       "      <td>1.000000</td>\n",
       "      <td>1.000000</td>\n",
       "      <td>0.579693</td>\n",
       "      <td>0.563132</td>\n",
       "      <td>0.731792</td>\n",
       "      <td>0.239535</td>\n",
       "    </tr>\n",
       "    <tr>\n",
       "      <th>stipendio</th>\n",
       "      <td>0.579693</td>\n",
       "      <td>0.579693</td>\n",
       "      <td>1.000000</td>\n",
       "      <td>0.998972</td>\n",
       "      <td>-0.092650</td>\n",
       "      <td>-0.309333</td>\n",
       "    </tr>\n",
       "    <tr>\n",
       "      <th>bonus</th>\n",
       "      <td>0.563132</td>\n",
       "      <td>0.563132</td>\n",
       "      <td>0.998972</td>\n",
       "      <td>1.000000</td>\n",
       "      <td>-0.111065</td>\n",
       "      <td>-0.315074</td>\n",
       "    </tr>\n",
       "    <tr>\n",
       "      <th>sesso_numerico</th>\n",
       "      <td>0.731792</td>\n",
       "      <td>0.731792</td>\n",
       "      <td>-0.092650</td>\n",
       "      <td>-0.111065</td>\n",
       "      <td>1.000000</td>\n",
       "      <td>0.327327</td>\n",
       "    </tr>\n",
       "    <tr>\n",
       "      <th>citta_num</th>\n",
       "      <td>0.239535</td>\n",
       "      <td>0.239535</td>\n",
       "      <td>-0.309333</td>\n",
       "      <td>-0.315074</td>\n",
       "      <td>0.327327</td>\n",
       "      <td>1.000000</td>\n",
       "    </tr>\n",
       "  </tbody>\n",
       "</table>\n",
       "</div>"
      ],
      "text/plain": [
       "                     Età     Età_2  stipendio     bonus  sesso_numerico  \\\n",
       "Età             1.000000  1.000000   0.579693  0.563132        0.731792   \n",
       "Età_2           1.000000  1.000000   0.579693  0.563132        0.731792   \n",
       "stipendio       0.579693  0.579693   1.000000  0.998972       -0.092650   \n",
       "bonus           0.563132  0.563132   0.998972  1.000000       -0.111065   \n",
       "sesso_numerico  0.731792  0.731792  -0.092650 -0.111065        1.000000   \n",
       "citta_num       0.239535  0.239535  -0.309333 -0.315074        0.327327   \n",
       "\n",
       "                citta_num  \n",
       "Età              0.239535  \n",
       "Età_2            0.239535  \n",
       "stipendio       -0.309333  \n",
       "bonus           -0.315074  \n",
       "sesso_numerico   0.327327  \n",
       "citta_num        1.000000  "
      ]
     },
     "metadata": {},
     "output_type": "display_data"
    }
   ],
   "source": [
    "# correlazione solo tra colonne numeriche\n",
    "numeric_corr = df.select_dtypes(include='number').corr()\n",
    "numeric_corr"
   ]
  },
  {
   "cell_type": "code",
   "execution_count": null,
   "id": "0d5559ab",
   "metadata": {},
   "outputs": [
    {
     "data": {
      "text/html": [
       "<div>\n",
       "<style scoped>\n",
       "    .dataframe tbody tr th:only-of-type {\n",
       "        vertical-align: middle;\n",
       "    }\n",
       "\n",
       "    .dataframe tbody tr th {\n",
       "        vertical-align: top;\n",
       "    }\n",
       "\n",
       "    .dataframe thead th {\n",
       "        text-align: right;\n",
       "    }\n",
       "</style>\n",
       "<table border=\"1\" class=\"dataframe\">\n",
       "  <thead>\n",
       "    <tr style=\"text-align: right;\">\n",
       "      <th></th>\n",
       "      <th>Nome</th>\n",
       "      <th>Età</th>\n",
       "      <th>Sesso</th>\n",
       "      <th>Città</th>\n",
       "      <th>Età_2</th>\n",
       "      <th>stipendio</th>\n",
       "      <th>bonus</th>\n",
       "      <th>nome maiuscolo</th>\n",
       "      <th>sesso_numerico</th>\n",
       "      <th>citta_num</th>\n",
       "    </tr>\n",
       "  </thead>\n",
       "  <tbody>\n",
       "    <tr>\n",
       "      <th>Studente1</th>\n",
       "      <td>Anna</td>\n",
       "      <td>23</td>\n",
       "      <td>F</td>\n",
       "      <td>Roma</td>\n",
       "      <td>46</td>\n",
       "      <td>2875.0</td>\n",
       "      <td>300.0</td>\n",
       "      <td>ANNA</td>\n",
       "      <td>0</td>\n",
       "      <td>1</td>\n",
       "    </tr>\n",
       "    <tr>\n",
       "      <th>Studente3</th>\n",
       "      <td>Marco</td>\n",
       "      <td>31</td>\n",
       "      <td>M</td>\n",
       "      <td>Torino</td>\n",
       "      <td>62</td>\n",
       "      <td>4000.0</td>\n",
       "      <td>400.0</td>\n",
       "      <td>MARCO</td>\n",
       "      <td>1</td>\n",
       "      <td>2</td>\n",
       "    </tr>\n",
       "    <tr>\n",
       "      <th>Studente4</th>\n",
       "      <td>Sara</td>\n",
       "      <td>25</td>\n",
       "      <td>F</td>\n",
       "      <td>Firenze</td>\n",
       "      <td>50</td>\n",
       "      <td>4200.0</td>\n",
       "      <td>420.0</td>\n",
       "      <td>SARA</td>\n",
       "      <td>0</td>\n",
       "      <td>0</td>\n",
       "    </tr>\n",
       "    <tr>\n",
       "      <th>Studente5</th>\n",
       "      <td>Giulia</td>\n",
       "      <td>22</td>\n",
       "      <td>F</td>\n",
       "      <td>Torino</td>\n",
       "      <td>44</td>\n",
       "      <td>1800.0</td>\n",
       "      <td>180.0</td>\n",
       "      <td>GIULIA</td>\n",
       "      <td>0</td>\n",
       "      <td>2</td>\n",
       "    </tr>\n",
       "    <tr>\n",
       "      <th>Studente2</th>\n",
       "      <td>Luca</td>\n",
       "      <td>25</td>\n",
       "      <td>M</td>\n",
       "      <td>Roma</td>\n",
       "      <td>50</td>\n",
       "      <td>1500.0</td>\n",
       "      <td>150.0</td>\n",
       "      <td>LUCA</td>\n",
       "      <td>1</td>\n",
       "      <td>1</td>\n",
       "    </tr>\n",
       "  </tbody>\n",
       "</table>\n",
       "</div>"
      ],
      "text/plain": [
       "             Nome  Età Sesso    Città  Età_2  stipendio  bonus nome maiuscolo  \\\n",
       "Studente1    Anna   23     F     Roma     46     2875.0  300.0           ANNA   \n",
       "Studente3   Marco   31     M   Torino     62     4000.0  400.0          MARCO   \n",
       "Studente4    Sara   25     F  Firenze     50     4200.0  420.0           SARA   \n",
       "Studente5  Giulia   22     F   Torino     44     1800.0  180.0         GIULIA   \n",
       "Studente2    Luca   25     M     Roma     50     1500.0  150.0           LUCA   \n",
       "\n",
       "           sesso_numerico  citta_num  \n",
       "Studente1               0          1  \n",
       "Studente3               1          2  \n",
       "Studente4               0          0  \n",
       "Studente5               0          2  \n",
       "Studente2               1          1  "
      ]
     },
     "metadata": {},
     "output_type": "display_data"
    }
   ],
   "source": [
    "df"
   ]
  },
  {
   "cell_type": "code",
   "execution_count": null,
   "id": "ff3c17f0",
   "metadata": {},
   "outputs": [],
   "source": [
    "output_path = \"dati_elaborati_senzaindice.csv\"\n",
    "df.to_csv(output_path, index=False) #salvataggio in csv\n",
    "\n",
    "output_path = \"dati_elaborati_conindice.xlsx\"\n",
    "df.to_excel(output_path) #salvataggio in excel"
   ]
  }
 ],
 "metadata": {
  "language_info": {
   "name": "python"
  }
 },
 "nbformat": 4,
 "nbformat_minor": 5
}
