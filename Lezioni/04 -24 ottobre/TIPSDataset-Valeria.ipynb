{
 "cells": [
  {
   "cell_type": "code",
   "execution_count": 16,
   "id": "e2d2385c",
   "metadata": {},
   "outputs": [
    {
     "name": "stdout",
     "output_type": "stream",
     "text": [
      "Requirement already satisfied: pandas in c:\\users\\valeria-ws\\appdata\\local\\programs\\python\\python313\\lib\\site-packages (from -r requirements.txt (line 1)) (2.3.3)\n",
      "Requirement already satisfied: seaborn in c:\\users\\valeria-ws\\appdata\\local\\programs\\python\\python313\\lib\\site-packages (from -r requirements.txt (line 2)) (0.13.2)\n",
      "Requirement already satisfied: plotly in c:\\users\\valeria-ws\\appdata\\local\\programs\\python\\python313\\lib\\site-packages (from -r requirements.txt (line 3)) (6.3.1)\n",
      "Requirement already satisfied: ipython in c:\\users\\valeria-ws\\appdata\\roaming\\python\\python313\\site-packages (from -r requirements.txt (line 4)) (9.2.0)\n",
      "Requirement already satisfied: ipykernel in c:\\users\\valeria-ws\\appdata\\roaming\\python\\python313\\site-packages (from -r requirements.txt (line 5)) (6.29.5)\n",
      "Requirement already satisfied: imblearn in c:\\users\\valeria-ws\\appdata\\local\\programs\\python\\python313\\lib\\site-packages (from -r requirements.txt (line 6)) (0.0)\n",
      "Requirement already satisfied: scikit-learn in c:\\users\\valeria-ws\\appdata\\local\\programs\\python\\python313\\lib\\site-packages (from -r requirements.txt (line 7)) (1.7.2)\n",
      "Requirement already satisfied: openpyxl in c:\\users\\valeria-ws\\appdata\\local\\programs\\python\\python313\\lib\\site-packages (from -r requirements.txt (line 8)) (3.1.5)\n",
      "Requirement already satisfied: numpy>=1.26.0 in c:\\users\\valeria-ws\\appdata\\local\\programs\\python\\python313\\lib\\site-packages (from pandas->-r requirements.txt (line 1)) (2.3.4)\n",
      "Requirement already satisfied: python-dateutil>=2.8.2 in c:\\users\\valeria-ws\\appdata\\roaming\\python\\python313\\site-packages (from pandas->-r requirements.txt (line 1)) (2.9.0.post0)\n",
      "Requirement already satisfied: pytz>=2020.1 in c:\\users\\valeria-ws\\appdata\\local\\programs\\python\\python313\\lib\\site-packages (from pandas->-r requirements.txt (line 1)) (2025.2)\n",
      "Requirement already satisfied: tzdata>=2022.7 in c:\\users\\valeria-ws\\appdata\\local\\programs\\python\\python313\\lib\\site-packages (from pandas->-r requirements.txt (line 1)) (2025.2)\n",
      "Requirement already satisfied: matplotlib!=3.6.1,>=3.4 in c:\\users\\valeria-ws\\appdata\\local\\programs\\python\\python313\\lib\\site-packages (from seaborn->-r requirements.txt (line 2)) (3.10.7)\n",
      "Requirement already satisfied: narwhals>=1.15.1 in c:\\users\\valeria-ws\\appdata\\local\\programs\\python\\python313\\lib\\site-packages (from plotly->-r requirements.txt (line 3)) (2.9.0)\n",
      "Requirement already satisfied: packaging in c:\\users\\valeria-ws\\appdata\\roaming\\python\\python313\\site-packages (from plotly->-r requirements.txt (line 3)) (25.0)\n",
      "Requirement already satisfied: colorama in c:\\users\\valeria-ws\\appdata\\roaming\\python\\python313\\site-packages (from ipython->-r requirements.txt (line 4)) (0.4.6)\n",
      "Requirement already satisfied: decorator in c:\\users\\valeria-ws\\appdata\\roaming\\python\\python313\\site-packages (from ipython->-r requirements.txt (line 4)) (5.2.1)\n",
      "Requirement already satisfied: ipython-pygments-lexers in c:\\users\\valeria-ws\\appdata\\roaming\\python\\python313\\site-packages (from ipython->-r requirements.txt (line 4)) (1.1.1)\n",
      "Requirement already satisfied: jedi>=0.16 in c:\\users\\valeria-ws\\appdata\\roaming\\python\\python313\\site-packages (from ipython->-r requirements.txt (line 4)) (0.19.2)\n",
      "Requirement already satisfied: matplotlib-inline in c:\\users\\valeria-ws\\appdata\\roaming\\python\\python313\\site-packages (from ipython->-r requirements.txt (line 4)) (0.1.7)\n",
      "Requirement already satisfied: prompt_toolkit<3.1.0,>=3.0.41 in c:\\users\\valeria-ws\\appdata\\roaming\\python\\python313\\site-packages (from ipython->-r requirements.txt (line 4)) (3.0.51)\n",
      "Requirement already satisfied: pygments>=2.4.0 in c:\\users\\valeria-ws\\appdata\\roaming\\python\\python313\\site-packages (from ipython->-r requirements.txt (line 4)) (2.19.1)\n",
      "Requirement already satisfied: stack_data in c:\\users\\valeria-ws\\appdata\\roaming\\python\\python313\\site-packages (from ipython->-r requirements.txt (line 4)) (0.6.3)\n",
      "Requirement already satisfied: traitlets>=5.13.0 in c:\\users\\valeria-ws\\appdata\\roaming\\python\\python313\\site-packages (from ipython->-r requirements.txt (line 4)) (5.14.3)\n",
      "Requirement already satisfied: comm>=0.1.1 in c:\\users\\valeria-ws\\appdata\\roaming\\python\\python313\\site-packages (from ipykernel->-r requirements.txt (line 5)) (0.2.2)\n",
      "Requirement already satisfied: debugpy>=1.6.5 in c:\\users\\valeria-ws\\appdata\\roaming\\python\\python313\\site-packages (from ipykernel->-r requirements.txt (line 5)) (1.8.14)\n",
      "Requirement already satisfied: jupyter-client>=6.1.12 in c:\\users\\valeria-ws\\appdata\\roaming\\python\\python313\\site-packages (from ipykernel->-r requirements.txt (line 5)) (8.6.3)\n",
      "Requirement already satisfied: jupyter-core!=5.0.*,>=4.12 in c:\\users\\valeria-ws\\appdata\\roaming\\python\\python313\\site-packages (from ipykernel->-r requirements.txt (line 5)) (5.7.2)\n",
      "Requirement already satisfied: nest-asyncio in c:\\users\\valeria-ws\\appdata\\roaming\\python\\python313\\site-packages (from ipykernel->-r requirements.txt (line 5)) (1.6.0)\n",
      "Requirement already satisfied: psutil in c:\\users\\valeria-ws\\appdata\\roaming\\python\\python313\\site-packages (from ipykernel->-r requirements.txt (line 5)) (7.0.0)\n",
      "Requirement already satisfied: pyzmq>=24 in c:\\users\\valeria-ws\\appdata\\roaming\\python\\python313\\site-packages (from ipykernel->-r requirements.txt (line 5)) (26.4.0)\n",
      "Requirement already satisfied: tornado>=6.1 in c:\\users\\valeria-ws\\appdata\\roaming\\python\\python313\\site-packages (from ipykernel->-r requirements.txt (line 5)) (6.4.2)\n",
      "Requirement already satisfied: imbalanced-learn in c:\\users\\valeria-ws\\appdata\\local\\programs\\python\\python313\\lib\\site-packages (from imblearn->-r requirements.txt (line 6)) (0.14.0)\n",
      "Requirement already satisfied: scipy>=1.8.0 in c:\\users\\valeria-ws\\appdata\\local\\programs\\python\\python313\\lib\\site-packages (from scikit-learn->-r requirements.txt (line 7)) (1.16.2)\n",
      "Requirement already satisfied: joblib>=1.2.0 in c:\\users\\valeria-ws\\appdata\\local\\programs\\python\\python313\\lib\\site-packages (from scikit-learn->-r requirements.txt (line 7)) (1.5.2)\n",
      "Requirement already satisfied: threadpoolctl>=3.1.0 in c:\\users\\valeria-ws\\appdata\\local\\programs\\python\\python313\\lib\\site-packages (from scikit-learn->-r requirements.txt (line 7)) (3.6.0)\n",
      "Requirement already satisfied: et-xmlfile in c:\\users\\valeria-ws\\appdata\\local\\programs\\python\\python313\\lib\\site-packages (from openpyxl->-r requirements.txt (line 8)) (2.0.0)\n",
      "Requirement already satisfied: parso<0.9.0,>=0.8.4 in c:\\users\\valeria-ws\\appdata\\roaming\\python\\python313\\site-packages (from jedi>=0.16->ipython->-r requirements.txt (line 4)) (0.8.4)\n",
      "Requirement already satisfied: platformdirs>=2.5 in c:\\users\\valeria-ws\\appdata\\roaming\\python\\python313\\site-packages (from jupyter-core!=5.0.*,>=4.12->ipykernel->-r requirements.txt (line 5)) (4.3.7)\n",
      "Requirement already satisfied: pywin32>=300 in c:\\users\\valeria-ws\\appdata\\roaming\\python\\python313\\site-packages (from jupyter-core!=5.0.*,>=4.12->ipykernel->-r requirements.txt (line 5)) (310)\n",
      "Requirement already satisfied: contourpy>=1.0.1 in c:\\users\\valeria-ws\\appdata\\local\\programs\\python\\python313\\lib\\site-packages (from matplotlib!=3.6.1,>=3.4->seaborn->-r requirements.txt (line 2)) (1.3.3)\n",
      "Requirement already satisfied: cycler>=0.10 in c:\\users\\valeria-ws\\appdata\\local\\programs\\python\\python313\\lib\\site-packages (from matplotlib!=3.6.1,>=3.4->seaborn->-r requirements.txt (line 2)) (0.12.1)\n",
      "Requirement already satisfied: fonttools>=4.22.0 in c:\\users\\valeria-ws\\appdata\\local\\programs\\python\\python313\\lib\\site-packages (from matplotlib!=3.6.1,>=3.4->seaborn->-r requirements.txt (line 2)) (4.60.1)\n",
      "Requirement already satisfied: kiwisolver>=1.3.1 in c:\\users\\valeria-ws\\appdata\\local\\programs\\python\\python313\\lib\\site-packages (from matplotlib!=3.6.1,>=3.4->seaborn->-r requirements.txt (line 2)) (1.4.9)\n",
      "Requirement already satisfied: pillow>=8 in c:\\users\\valeria-ws\\appdata\\local\\programs\\python\\python313\\lib\\site-packages (from matplotlib!=3.6.1,>=3.4->seaborn->-r requirements.txt (line 2)) (12.0.0)\n",
      "Requirement already satisfied: pyparsing>=3 in c:\\users\\valeria-ws\\appdata\\local\\programs\\python\\python313\\lib\\site-packages (from matplotlib!=3.6.1,>=3.4->seaborn->-r requirements.txt (line 2)) (3.2.5)\n",
      "Requirement already satisfied: wcwidth in c:\\users\\valeria-ws\\appdata\\roaming\\python\\python313\\site-packages (from prompt_toolkit<3.1.0,>=3.0.41->ipython->-r requirements.txt (line 4)) (0.2.13)\n",
      "Requirement already satisfied: six>=1.5 in c:\\users\\valeria-ws\\appdata\\roaming\\python\\python313\\site-packages (from python-dateutil>=2.8.2->pandas->-r requirements.txt (line 1)) (1.17.0)\n",
      "Requirement already satisfied: executing>=1.2.0 in c:\\users\\valeria-ws\\appdata\\roaming\\python\\python313\\site-packages (from stack_data->ipython->-r requirements.txt (line 4)) (2.2.0)\n",
      "Requirement already satisfied: asttokens>=2.1.0 in c:\\users\\valeria-ws\\appdata\\roaming\\python\\python313\\site-packages (from stack_data->ipython->-r requirements.txt (line 4)) (3.0.0)\n",
      "Requirement already satisfied: pure-eval in c:\\users\\valeria-ws\\appdata\\roaming\\python\\python313\\site-packages (from stack_data->ipython->-r requirements.txt (line 4)) (0.2.3)\n",
      "Note: you may need to restart the kernel to use updated packages.\n"
     ]
    },
    {
     "name": "stderr",
     "output_type": "stream",
     "text": [
      "\n",
      "[notice] A new release of pip is available: 24.3.1 -> 25.3\n",
      "[notice] To update, run: python.exe -m pip install --upgrade pip\n"
     ]
    }
   ],
   "source": [
    "pip install -r requirements.txt"
   ]
  },
  {
   "cell_type": "code",
   "execution_count": 17,
   "id": "2bee963d",
   "metadata": {},
   "outputs": [
    {
     "data": {
      "text/plain": [
       "' utile per i notebook Jupyter:\\nsenza %matplotlib inline, il grafico potrebbe non apparire nel notebook (oppure aprirsi in un’altra finestra, a seconda del backend di Matplotlib).\\nCon %matplotlib inline, invece, il grafico viene renderizzato subito sotto la cella di codice, come immagine statica.\\n'"
      ]
     },
     "execution_count": 17,
     "metadata": {},
     "output_type": "execute_result"
    }
   ],
   "source": [
    "import numpy as np\n",
    "import pandas as pd\n",
    "import matplotlib.pyplot as plt\n",
    "import seaborn as sns\n",
    "import plotly \n",
    "import plotly.express as px\n",
    "import plotly.graph_objects as go\n",
    "from imblearn.over_sampling import SMOTE\n",
    "import sklearn # scikit-learn\n",
    "from sklearn.preprocessing import LabelEncoder, OneHotEncoder\n",
    "from sklearn.preprocessing import MinMaxScaler, StandardScaler\n",
    "import openpyxl\n",
    "\n",
    "# Impostiamo alcune opzioni grafiche per una visualizzazione più chiara\n",
    "sns.set_theme(style=\"whitegrid\")\n",
    "plt.rcParams['figure.figsize'] = (8, 5)\n",
    "\n",
    "%matplotlib inline\n",
    "''' utile per i notebook Jupyter:\n",
    "senza %matplotlib inline, il grafico potrebbe non apparire nel notebook (oppure aprirsi in un’altra finestra, a seconda del backend di Matplotlib).\n",
    "Con %matplotlib inline, invece, il grafico viene renderizzato subito sotto la cella di codice, come immagine statica.\n",
    "'''"
   ]
  },
  {
   "cell_type": "markdown",
   "id": "03f1f1e1",
   "metadata": {},
   "source": [
    "### **Esercizio**: Dataset di esempio: \"tips\" (mance nei ristoranti)"
   ]
  },
  {
   "cell_type": "markdown",
   "id": "1e2be016",
   "metadata": {},
   "source": [
    "Fare un'analisi di esplorazione del dataset riportato di seguito ed effettuare la pulizia e le altre operazioni di preprocessing viste a lezione."
   ]
  },
  {
   "cell_type": "markdown",
   "id": "281003d6",
   "metadata": {},
   "source": [
    "| Colonna        | Tipo     | Descrizione                                           |\n",
    "| -------------- | -------- | ----------------------------------------------------- |\n",
    "| **total_bill** | float64  | Totale del conto del tavolo (in dollari).             |\n",
    "| **tip**        | float64  | Importo della mancia data al cameriere (in dollari).  |\n",
    "| **sex**        | category | Sesso del cliente che ha pagato (`Male`, `Female`).   |\n",
    "| **smoker**     | category | Indica se nel gruppo c’erano fumatori (`Yes`, `No`).  |\n",
    "| **day**        | category | Giorno della settimana (`Thur`, `Fri`, `Sat`, `Sun`). |\n",
    "| **time**       | category | Momento del pasto (`Lunch` o `Dinner`).               |\n",
    "| **size**       | int64    | Numero di persone al tavolo.                          |"
   ]
  },
  {
   "cell_type": "code",
   "execution_count": 18,
   "id": "537be869",
   "metadata": {},
   "outputs": [
    {
     "name": "stdout",
     "output_type": "stream",
     "text": [
      "Prime righe del dataset:\n",
      "   total_bill   tip     sex smoker  day    time  size\n",
      "0       16.99  1.01  Female     No  Sun  Dinner     2\n",
      "1       10.34  1.66    Male     No  Sun  Dinner     3\n",
      "2       21.01  3.50    Male     No  Sun  Dinner     3\n",
      "3       23.68  3.31    Male     No  Sun  Dinner     2\n",
      "4       24.59  3.61  Female     No  Sun  Dinner     4\n"
     ]
    }
   ],
   "source": [
    "# =============================================================================\n",
    "# Dataset di esempio: \"tips\" (mance nei ristoranti)\n",
    "# =============================================================================\n",
    "\n",
    "tips = sns.load_dataset(\"tips\")  # dataset integrato in seaborn\n",
    "print(\"Prime righe del dataset:\")\n",
    "print(tips.head())"
   ]
  },
  {
   "cell_type": "code",
   "execution_count": 19,
   "id": "ad2cd719",
   "metadata": {},
   "outputs": [
    {
     "name": "stdout",
     "output_type": "stream",
     "text": [
      "\n",
      "Info:\n",
      "<class 'pandas.core.frame.DataFrame'>\n",
      "RangeIndex: 244 entries, 0 to 243\n",
      "Data columns (total 7 columns):\n",
      " #   Column      Non-Null Count  Dtype   \n",
      "---  ------      --------------  -----   \n",
      " 0   total_bill  244 non-null    float64 \n",
      " 1   tip         244 non-null    float64 \n",
      " 2   sex         244 non-null    category\n",
      " 3   smoker      244 non-null    category\n",
      " 4   day         244 non-null    category\n",
      " 5   time        244 non-null    category\n",
      " 6   size        244 non-null    int64   \n",
      "dtypes: category(4), float64(2), int64(1)\n",
      "memory usage: 7.4 KB\n",
      "None\n"
     ]
    }
   ],
   "source": [
    "# Informazioni generali\n",
    "print(\"\\nInfo:\")\n",
    "print(tips.info())"
   ]
  },
  {
   "cell_type": "code",
   "execution_count": 20,
   "id": "487e848b",
   "metadata": {},
   "outputs": [
    {
     "name": "stdout",
     "output_type": "stream",
     "text": [
      "\n",
      "Statistiche numeriche:\n"
     ]
    },
    {
     "data": {
      "text/html": [
       "<div>\n",
       "<style scoped>\n",
       "    .dataframe tbody tr th:only-of-type {\n",
       "        vertical-align: middle;\n",
       "    }\n",
       "\n",
       "    .dataframe tbody tr th {\n",
       "        vertical-align: top;\n",
       "    }\n",
       "\n",
       "    .dataframe thead th {\n",
       "        text-align: right;\n",
       "    }\n",
       "</style>\n",
       "<table border=\"1\" class=\"dataframe\">\n",
       "  <thead>\n",
       "    <tr style=\"text-align: right;\">\n",
       "      <th></th>\n",
       "      <th>total_bill</th>\n",
       "      <th>tip</th>\n",
       "      <th>size</th>\n",
       "    </tr>\n",
       "  </thead>\n",
       "  <tbody>\n",
       "    <tr>\n",
       "      <th>count</th>\n",
       "      <td>244.000000</td>\n",
       "      <td>244.000000</td>\n",
       "      <td>244.000000</td>\n",
       "    </tr>\n",
       "    <tr>\n",
       "      <th>mean</th>\n",
       "      <td>19.785943</td>\n",
       "      <td>2.998279</td>\n",
       "      <td>2.569672</td>\n",
       "    </tr>\n",
       "    <tr>\n",
       "      <th>std</th>\n",
       "      <td>8.902412</td>\n",
       "      <td>1.383638</td>\n",
       "      <td>0.951100</td>\n",
       "    </tr>\n",
       "    <tr>\n",
       "      <th>min</th>\n",
       "      <td>3.070000</td>\n",
       "      <td>1.000000</td>\n",
       "      <td>1.000000</td>\n",
       "    </tr>\n",
       "    <tr>\n",
       "      <th>25%</th>\n",
       "      <td>13.347500</td>\n",
       "      <td>2.000000</td>\n",
       "      <td>2.000000</td>\n",
       "    </tr>\n",
       "    <tr>\n",
       "      <th>50%</th>\n",
       "      <td>17.795000</td>\n",
       "      <td>2.900000</td>\n",
       "      <td>2.000000</td>\n",
       "    </tr>\n",
       "    <tr>\n",
       "      <th>75%</th>\n",
       "      <td>24.127500</td>\n",
       "      <td>3.562500</td>\n",
       "      <td>3.000000</td>\n",
       "    </tr>\n",
       "    <tr>\n",
       "      <th>max</th>\n",
       "      <td>50.810000</td>\n",
       "      <td>10.000000</td>\n",
       "      <td>6.000000</td>\n",
       "    </tr>\n",
       "  </tbody>\n",
       "</table>\n",
       "</div>"
      ],
      "text/plain": [
       "       total_bill         tip        size\n",
       "count  244.000000  244.000000  244.000000\n",
       "mean    19.785943    2.998279    2.569672\n",
       "std      8.902412    1.383638    0.951100\n",
       "min      3.070000    1.000000    1.000000\n",
       "25%     13.347500    2.000000    2.000000\n",
       "50%     17.795000    2.900000    2.000000\n",
       "75%     24.127500    3.562500    3.000000\n",
       "max     50.810000   10.000000    6.000000"
      ]
     },
     "execution_count": 20,
     "metadata": {},
     "output_type": "execute_result"
    }
   ],
   "source": [
    "# Statistiche\n",
    "print(\"\\nStatistiche numeriche:\")\n",
    "tips.describe()"
   ]
  },
  {
   "cell_type": "code",
   "execution_count": 21,
   "id": "072a97ca",
   "metadata": {},
   "outputs": [
    {
     "name": "stdout",
     "output_type": "stream",
     "text": [
      "\n",
      "Valori mancanti per colonna:\n",
      "total_bill    0\n",
      "tip           0\n",
      "sex           0\n",
      "smoker        0\n",
      "day           0\n",
      "time          0\n",
      "size          0\n",
      "dtype: int64\n",
      "1\n"
     ]
    }
   ],
   "source": [
    "# Controllo valori mancanti\n",
    "print(\"\\nValori mancanti per colonna:\")\n",
    "print(tips.isna().sum())\n",
    "print(tips.duplicated().sum())  # controllo duplicati"
   ]
  },
  {
   "cell_type": "code",
   "execution_count": 22,
   "id": "ab346365",
   "metadata": {},
   "outputs": [],
   "source": [
    "# Eliminazione colonne con informazioni ridondanti o non utili - smoker non utile ai fini della mia analisi\n",
    "\n",
    "# Possibili studi: 1. rapporto totale/mancia, 2. incidenza del sesso del pagante, 3. mancia in base al giorno della settimana, 4. mancia in base all orario, eventalmente rapportandolo anche al giorno, 5. in base al numero di persone sedute a tavolo(size)\n",
    "tips.drop([\"smoker\"], axis=1, inplace=True)"
   ]
  },
  {
   "cell_type": "code",
   "execution_count": 23,
   "id": "15712d75",
   "metadata": {},
   "outputs": [
    {
     "data": {
      "image/png": "[encoded data removed]",
      "text/plain": [
       "<Figure size 800x500 with 1 Axes>"
      ]
     },
     "metadata": {},
     "output_type": "display_data"
    },
    {
     "data": {
      "image/png": "[encoded data removed]",
      "text/plain": [
       "<Figure size 800x500 with 1 Axes>"
      ]
     },
     "metadata": {},
     "output_type": "display_data"
    }
   ],
   "source": [
    "#Esplorazione dati con grafici\n",
    "\n",
    "sns.histplot(tips['total_bill'], kde=True)      #kde curva di densità\n",
    "plt.title(\"Distribuzione del conto totale\") \n",
    "plt.show()\n",
    "\n",
    "sns.histplot(tips['tip'], kde=True, color='orange')\n",
    "plt.title(\"Distribuzione della mancia\")\n",
    "plt.show()"
   ]
  },
  {
   "cell_type": "code",
   "execution_count": 36,
   "id": "149a23e1",
   "metadata": {},
   "outputs": [
    {
     "data": {
      "image/png": "[encoded data removed]",
      "text/plain": [
       "<Figure size 800x500 with 1 Axes>"
      ]
     },
     "metadata": {},
     "output_type": "display_data"
    },
    {
     "name": "stderr",
     "output_type": "stream",
     "text": [
      "C:\\Users\\Valeria-WS\\AppData\\Local\\Temp\\ipykernel_5136\\2272422664.py:7: FutureWarning: The default of observed=False is deprecated and will be changed to True in a future version of pandas. Pass observed=False to retain current behavior or observed=True to adopt the future default and silence this warning.\n",
      "  tips.groupby('day')['total_bill'].mean()\n"
     ]
    },
    {
     "data": {
      "image/png": "[encoded data removed]",
      "text/plain": [
       "<Figure size 800x500 with 1 Axes>"
      ]
     },
     "metadata": {},
     "output_type": "display_data"
    },
    {
     "name": "stderr",
     "output_type": "stream",
     "text": [
      "C:\\Users\\Valeria-WS\\AppData\\Local\\Temp\\ipykernel_5136\\2272422664.py:16: FutureWarning: The default of observed=False is deprecated and will be changed to True in a future version of pandas. Pass observed=False to retain current behavior or observed=True to adopt the future default and silence this warning.\n",
      "  tips.groupby('day')['tip'].mean()\n"
     ]
    },
    {
     "data": {
      "text/plain": [
       "day\n",
       "Thur    2.771452\n",
       "Fri     2.734737\n",
       "Sat     2.993103\n",
       "Sun     3.255132\n",
       "Name: tip, dtype: float64"
      ]
     },
     "execution_count": 36,
     "metadata": {},
     "output_type": "execute_result"
    }
   ],
   "source": [
    "# Boxplot per categoria\n",
    "sns.boxplot(data=tips, x='day', y='total_bill')\n",
    "plt.title(\"Totale conto per giorno\")\n",
    "plt.show()\n",
    "\n",
    "# Studio differenze comportamentali tra giorni della settimana\n",
    "tips.groupby('day')['total_bill'].mean()\n",
    "\n",
    "\n",
    "# Boxplot per categoria\n",
    "sns.boxplot(data=tips, x='day', y='tip')\n",
    "plt.title(\"Mancia per giorno della settimana\")\n",
    "plt.show()\n",
    "\n",
    "# Studio differenze comportamentali tra giorni della settimana\n",
    "tips.groupby('day')['tip'].mean()\n",
    "\n",
    "# Il conto medio è più alto nel weekend (sabato e domenica)\n",
    "# Si osserva un conto medio piu alto nel weekend"
   ]
  },
  {
   "cell_type": "code",
   "execution_count": 26,
   "id": "0b444951",
   "metadata": {},
   "outputs": [
    {
     "data": {
      "image/png": "[encoded data removed]",
      "text/plain": [
       "<Figure size 800x500 with 1 Axes>"
      ]
     },
     "metadata": {},
     "output_type": "display_data"
    },
    {
     "name": "stderr",
     "output_type": "stream",
     "text": [
      "C:\\Users\\Valeria-WS\\AppData\\Local\\Temp\\ipykernel_5136\\2128559223.py:6: FutureWarning: The default of observed=False is deprecated and will be changed to True in a future version of pandas. Pass observed=False to retain current behavior or observed=True to adopt the future default and silence this warning.\n",
      "  tips.groupby('sex')['tip'].mean()\n"
     ]
    },
    {
     "data": {
      "text/plain": [
       "sex\n",
       "Male      3.089618\n",
       "Female    2.833448\n",
       "Name: tip, dtype: float64"
      ]
     },
     "execution_count": 26,
     "metadata": {},
     "output_type": "execute_result"
    }
   ],
   "source": [
    "# Boxplot per categoria\n",
    "sns.boxplot(data=tips, x='sex', y='tip')\n",
    "plt.title(\"Mancia per sesso del pagante\")\n",
    "plt.show()\n",
    "# Studio differenze comportamentali tra maschi e femmine\n",
    "tips.groupby('sex')['tip'].mean()\n",
    "\n",
    "# Le donne lasciano mance leggermente inferiori - in media - rispetto agli uomini"
   ]
  },
  {
   "cell_type": "code",
   "execution_count": 25,
   "id": "6d2b0739",
   "metadata": {},
   "outputs": [
    {
     "data": {
      "image/png": "[encoded data removed]",
      "text/plain": [
       "<Figure size 800x500 with 2 Axes>"
      ]
     },
     "metadata": {},
     "output_type": "display_data"
    }
   ],
   "source": [
    "# Correlazione tra variabili numeriche t_bill tip e size del tavolo\n",
    "corr_matrix = tips.select_dtypes(include=['float64', 'int64']).corr()\n",
    "sns.heatmap(corr_matrix.corr(), annot=True, cmap=\"coolwarm\")\n",
    "plt.title(\"Matrice di correlazione\")\n",
    "plt.show()\n",
    "\n",
    "# tra total_bill e tip c'è una corr quasi nulla (0.028)  - tip non aumenta all'aumentare di t_bill\n",
    "# tra total_bill e size c'è una correlazione negativa forte (-0.48) - il totale del conto diminuisce leggermente all'aumentare del numero di persone al tavolo\n",
    "# tra tip e size c'è una correlazione negativa molto forte(-0.89)    - tip diminuisce repentinamente all'aumentare del numero di persone al tavolo"
   ]
  },
  {
   "cell_type": "code",
   "execution_count": 27,
   "id": "bfaa6a11",
   "metadata": {},
   "outputs": [
    {
     "data": {
      "image/png": "[encoded data removed]",
      "text/plain": [
       "<Figure size 600x400 with 1 Axes>"
      ]
     },
     "metadata": {},
     "output_type": "display_data"
    }
   ],
   "source": [
    "# Boxplot\n",
    "plt.figure(figsize=(6,4))\n",
    "sns.boxplot(data=tips, x=\"total_bill\")\n",
    "plt.title(\"Distribuzione mance nei ristoranti (outlier inclusi)\")\n",
    "plt.show()"
   ]
  },
  {
   "cell_type": "code",
   "execution_count": 28,
   "id": "f337e0d8",
   "metadata": {},
   "outputs": [
    {
     "name": "stdout",
     "output_type": "stream",
     "text": [
      "Righe originali: 244, dopo rimozione outlier: 235\n"
     ]
    }
   ],
   "source": [
    "# Rilevamento outlier tramite IQR (InterQuartile Range)\n",
    "Q1 = tips[\"total_bill\"].quantile(0.25)\n",
    "Q3 = tips[\"total_bill\"].quantile(0.75)\n",
    "IQR = Q3 - Q1\n",
    "# Definiamo i limiti per gli outlier\n",
    "lower_limit = Q1 - 1.5 * IQR\n",
    "upper_limit = Q3 + 1.5 * IQR\n",
    "\n",
    "# Filtriamo i valori validi\n",
    "tips_clean = tips[(tips[\"total_bill\"] >= lower_limit) & (tips[\"total_bill\"] <= upper_limit)]\n",
    "\n",
    "print(f\"Righe originali: {len(tips)}, dopo rimozione outlier: {len(tips_clean)}\")"
   ]
  },
  {
   "cell_type": "code",
   "execution_count": 29,
   "id": "4530a48c",
   "metadata": {},
   "outputs": [
    {
     "name": "stderr",
     "output_type": "stream",
     "text": [
      "C:\\Users\\Valeria-WS\\AppData\\Local\\Temp\\ipykernel_5136\\2986504858.py:2: SettingWithCopyWarning: \n",
      "A value is trying to be set on a copy of a slice from a DataFrame.\n",
      "Try using .loc[row_indexer,col_indexer] = value instead\n",
      "\n",
      "See the caveats in the documentation: https://pandas.pydata.org/pandas-docs/stable/user_guide/indexing.html#returning-a-view-versus-a-copy\n",
      "  tips_clean[\"tip_to_bill_ratio\"] = tips_clean[\"tip\"] / tips_clean[\"total_bill\"]\n"
     ]
    },
    {
     "data": {
      "text/html": [
       "<div>\n",
       "<style scoped>\n",
       "    .dataframe tbody tr th:only-of-type {\n",
       "        vertical-align: middle;\n",
       "    }\n",
       "\n",
       "    .dataframe tbody tr th {\n",
       "        vertical-align: top;\n",
       "    }\n",
       "\n",
       "    .dataframe thead th {\n",
       "        text-align: right;\n",
       "    }\n",
       "</style>\n",
       "<table border=\"1\" class=\"dataframe\">\n",
       "  <thead>\n",
       "    <tr style=\"text-align: right;\">\n",
       "      <th></th>\n",
       "      <th>total_bill</th>\n",
       "      <th>tip</th>\n",
       "      <th>sex</th>\n",
       "      <th>day</th>\n",
       "      <th>time</th>\n",
       "      <th>size</th>\n",
       "      <th>tip_to_bill_ratio</th>\n",
       "    </tr>\n",
       "  </thead>\n",
       "  <tbody>\n",
       "    <tr>\n",
       "      <th>0</th>\n",
       "      <td>16.99</td>\n",
       "      <td>1.01</td>\n",
       "      <td>Female</td>\n",
       "      <td>Sun</td>\n",
       "      <td>Dinner</td>\n",
       "      <td>2</td>\n",
       "      <td>0.059447</td>\n",
       "    </tr>\n",
       "    <tr>\n",
       "      <th>1</th>\n",
       "      <td>10.34</td>\n",
       "      <td>1.66</td>\n",
       "      <td>Male</td>\n",
       "      <td>Sun</td>\n",
       "      <td>Dinner</td>\n",
       "      <td>3</td>\n",
       "      <td>0.160542</td>\n",
       "    </tr>\n",
       "    <tr>\n",
       "      <th>2</th>\n",
       "      <td>21.01</td>\n",
       "      <td>3.50</td>\n",
       "      <td>Male</td>\n",
       "      <td>Sun</td>\n",
       "      <td>Dinner</td>\n",
       "      <td>3</td>\n",
       "      <td>0.166587</td>\n",
       "    </tr>\n",
       "    <tr>\n",
       "      <th>3</th>\n",
       "      <td>23.68</td>\n",
       "      <td>3.31</td>\n",
       "      <td>Male</td>\n",
       "      <td>Sun</td>\n",
       "      <td>Dinner</td>\n",
       "      <td>2</td>\n",
       "      <td>0.139780</td>\n",
       "    </tr>\n",
       "    <tr>\n",
       "      <th>4</th>\n",
       "      <td>24.59</td>\n",
       "      <td>3.61</td>\n",
       "      <td>Female</td>\n",
       "      <td>Sun</td>\n",
       "      <td>Dinner</td>\n",
       "      <td>4</td>\n",
       "      <td>0.146808</td>\n",
       "    </tr>\n",
       "  </tbody>\n",
       "</table>\n",
       "</div>"
      ],
      "text/plain": [
       "   total_bill   tip     sex  day    time  size  tip_to_bill_ratio\n",
       "0       16.99  1.01  Female  Sun  Dinner     2           0.059447\n",
       "1       10.34  1.66    Male  Sun  Dinner     3           0.160542\n",
       "2       21.01  3.50    Male  Sun  Dinner     3           0.166587\n",
       "3       23.68  3.31    Male  Sun  Dinner     2           0.139780\n",
       "4       24.59  3.61  Female  Sun  Dinner     4           0.146808"
      ]
     },
     "execution_count": 29,
     "metadata": {},
     "output_type": "execute_result"
    }
   ],
   "source": [
    "# Nuova feature: rapporto mancia/conto\n",
    "tips_clean[\"tip_to_bill_ratio\"] = tips_clean[\"tip\"] / tips_clean[\"total_bill\"]\n",
    "tips_clean.head()"
   ]
  },
  {
   "cell_type": "code",
   "execution_count": 30,
   "id": "5f5e8624",
   "metadata": {},
   "outputs": [
    {
     "data": {
      "image/png": "[encoded data removed]",
      "text/plain": [
       "<Figure size 800x500 with 1 Axes>"
      ]
     },
     "metadata": {},
     "output_type": "display_data"
    }
   ],
   "source": [
    "# Boxplot della percentuale della mancia per sesso\n",
    "sns.boxplot(data=tips_clean, x='sex', y='tip_to_bill_ratio')\n",
    "plt.title(\"Percentuale della mancia per sesso\")\n",
    "plt.show()\n"
   ]
  },
  {
   "cell_type": "code",
   "execution_count": 38,
   "id": "954b4446",
   "metadata": {},
   "outputs": [
    {
     "name": "stderr",
     "output_type": "stream",
     "text": [
      "C:\\Users\\Valeria-WS\\AppData\\Local\\Temp\\ipykernel_5136\\2039027565.py:2: FutureWarning: The default of observed=False is deprecated and will be changed to True in a future version of pandas. Pass observed=False to retain current behavior or observed=True to adopt the future default and silence this warning.\n",
      "  tips_clean.groupby('day')['tip_to_bill_ratio'].mean()\n"
     ]
    },
    {
     "data": {
      "text/plain": [
       "day\n",
       "Thur    0.162695\n",
       "Fri     0.169913\n",
       "Sat     0.153558\n",
       "Sun     0.170263\n",
       "Name: tip_to_bill_ratio, dtype: float64"
      ]
     },
     "execution_count": 38,
     "metadata": {},
     "output_type": "execute_result"
    }
   ],
   "source": [
    "# Media tip_to_bill_ratio per giorno\n",
    "tips_clean.groupby('day')['tip_to_bill_ratio'].mean()"
   ]
  },
  {
   "cell_type": "code",
   "execution_count": 39,
   "id": "80505336",
   "metadata": {},
   "outputs": [
    {
     "name": "stderr",
     "output_type": "stream",
     "text": [
      "C:\\Users\\Valeria-WS\\AppData\\Local\\Temp\\ipykernel_5136\\2574718875.py:2: SettingWithCopyWarning: \n",
      "A value is trying to be set on a copy of a slice from a DataFrame.\n",
      "Try using .loc[row_indexer,col_indexer] = value instead\n",
      "\n",
      "See the caveats in the documentation: https://pandas.pydata.org/pandas-docs/stable/user_guide/indexing.html#returning-a-view-versus-a-copy\n",
      "  tips_clean['large_table'] = tips_clean['size'] >= 5 #true se size >=5, false altrimenti false\n"
     ]
    },
    {
     "data": {
      "text/html": [
       "<div>\n",
       "<style scoped>\n",
       "    .dataframe tbody tr th:only-of-type {\n",
       "        vertical-align: middle;\n",
       "    }\n",
       "\n",
       "    .dataframe tbody tr th {\n",
       "        vertical-align: top;\n",
       "    }\n",
       "\n",
       "    .dataframe thead th {\n",
       "        text-align: right;\n",
       "    }\n",
       "</style>\n",
       "<table border=\"1\" class=\"dataframe\">\n",
       "  <thead>\n",
       "    <tr style=\"text-align: right;\">\n",
       "      <th></th>\n",
       "      <th>size</th>\n",
       "      <th>large_table</th>\n",
       "    </tr>\n",
       "  </thead>\n",
       "  <tbody>\n",
       "    <tr>\n",
       "      <th>0</th>\n",
       "      <td>2</td>\n",
       "      <td>False</td>\n",
       "    </tr>\n",
       "    <tr>\n",
       "      <th>1</th>\n",
       "      <td>3</td>\n",
       "      <td>False</td>\n",
       "    </tr>\n",
       "    <tr>\n",
       "      <th>2</th>\n",
       "      <td>3</td>\n",
       "      <td>False</td>\n",
       "    </tr>\n",
       "    <tr>\n",
       "      <th>3</th>\n",
       "      <td>2</td>\n",
       "      <td>False</td>\n",
       "    </tr>\n",
       "    <tr>\n",
       "      <th>4</th>\n",
       "      <td>4</td>\n",
       "      <td>False</td>\n",
       "    </tr>\n",
       "  </tbody>\n",
       "</table>\n",
       "</div>"
      ],
      "text/plain": [
       "   size  large_table\n",
       "0     2        False\n",
       "1     3        False\n",
       "2     3        False\n",
       "3     2        False\n",
       "4     4        False"
      ]
     },
     "execution_count": 39,
     "metadata": {},
     "output_type": "execute_result"
    }
   ],
   "source": [
    "# Feature per grandi tavoli\n",
    "tips_clean['large_table'] = tips_clean['size'] >= 5 #true se size >=5, false altrimenti false\n",
    "tips_clean[['size', 'large_table']].head()"
   ]
  },
  {
   "cell_type": "code",
   "execution_count": 40,
   "id": "eaecc651",
   "metadata": {},
   "outputs": [
    {
     "data": {
      "image/png": "[encoded data removed]",
      "text/plain": [
       "<Figure size 800x500 with 1 Axes>"
      ]
     },
     "metadata": {},
     "output_type": "display_data"
    }
   ],
   "source": [
    "sns.boxplot(data=tips_clean, x='large_table', y='tip')\n",
    "plt.title(\"Distribuzione delle mance per grandezza tavolo\")\n",
    "plt.xlabel(\"tavolo grande (>=5 persone)\")\n",
    "plt.ylabel(\"Mancia\")\n",
    "plt.show()"
   ]
  },
  {
   "cell_type": "code",
   "execution_count": 41,
   "id": "33a70733",
   "metadata": {},
   "outputs": [
    {
     "name": "stderr",
     "output_type": "stream",
     "text": [
      "C:\\Users\\Valeria-WS\\AppData\\Local\\Temp\\ipykernel_5136\\1450977431.py:2: SettingWithCopyWarning: \n",
      "A value is trying to be set on a copy of a slice from a DataFrame.\n",
      "Try using .loc[row_indexer,col_indexer] = value instead\n",
      "\n",
      "See the caveats in the documentation: https://pandas.pydata.org/pandas-docs/stable/user_guide/indexing.html#returning-a-view-versus-a-copy\n",
      "  tips_clean['is_weekend'] = tips_clean['day'].isin(['Sat', 'Sun'])\n"
     ]
    },
    {
     "data": {
      "text/html": [
       "<div>\n",
       "<style scoped>\n",
       "    .dataframe tbody tr th:only-of-type {\n",
       "        vertical-align: middle;\n",
       "    }\n",
       "\n",
       "    .dataframe tbody tr th {\n",
       "        vertical-align: top;\n",
       "    }\n",
       "\n",
       "    .dataframe thead th {\n",
       "        text-align: right;\n",
       "    }\n",
       "</style>\n",
       "<table border=\"1\" class=\"dataframe\">\n",
       "  <thead>\n",
       "    <tr style=\"text-align: right;\">\n",
       "      <th></th>\n",
       "      <th>day</th>\n",
       "      <th>is_weekend</th>\n",
       "    </tr>\n",
       "  </thead>\n",
       "  <tbody>\n",
       "    <tr>\n",
       "      <th>0</th>\n",
       "      <td>Sun</td>\n",
       "      <td>True</td>\n",
       "    </tr>\n",
       "    <tr>\n",
       "      <th>1</th>\n",
       "      <td>Sun</td>\n",
       "      <td>True</td>\n",
       "    </tr>\n",
       "    <tr>\n",
       "      <th>2</th>\n",
       "      <td>Sun</td>\n",
       "      <td>True</td>\n",
       "    </tr>\n",
       "    <tr>\n",
       "      <th>3</th>\n",
       "      <td>Sun</td>\n",
       "      <td>True</td>\n",
       "    </tr>\n",
       "    <tr>\n",
       "      <th>4</th>\n",
       "      <td>Sun</td>\n",
       "      <td>True</td>\n",
       "    </tr>\n",
       "  </tbody>\n",
       "</table>\n",
       "</div>"
      ],
      "text/plain": [
       "   day  is_weekend\n",
       "0  Sun        True\n",
       "1  Sun        True\n",
       "2  Sun        True\n",
       "3  Sun        True\n",
       "4  Sun        True"
      ]
     },
     "execution_count": 41,
     "metadata": {},
     "output_type": "execute_result"
    }
   ],
   "source": [
    "# Feature weekend\n",
    "tips_clean['is_weekend'] = tips_clean['day'].isin(['Sat', 'Sun'])\n",
    "tips_clean[['day', 'is_weekend']].head()"
   ]
  },
  {
   "cell_type": "code",
   "execution_count": 42,
   "id": "cbe05bdc",
   "metadata": {},
   "outputs": [
    {
     "data": {
      "image/png": "[encoded data removed]",
      "text/plain": [
       "<Figure size 800x500 with 1 Axes>"
      ]
     },
     "metadata": {},
     "output_type": "display_data"
    }
   ],
   "source": [
    "# Statistiche per weekend vs feriali\n",
    "sns.boxplot(data=tips_clean, x='is_weekend', y='total_bill')\n",
    "plt.title(\"Distribuzione del totale del conto: weekend vs feriali\")\n",
    "plt.xlabel(\"Weekend\")\n",
    "plt.ylabel(\"Totale conto\" )\n",
    "plt.show()"
   ]
  },
  {
   "cell_type": "code",
   "execution_count": 43,
   "id": "f68415ca",
   "metadata": {},
   "outputs": [
    {
     "data": {
      "image/png": "[encoded data removed]",
      "text/plain": [
       "<Figure size 800x500 with 1 Axes>"
      ]
     },
     "metadata": {},
     "output_type": "display_data"
    }
   ],
   "source": [
    "# Statistiche per weekend vs feriali - mance\n",
    "sns.boxplot(data=tips_clean, x='is_weekend', y='tip')\n",
    "plt.title(\"Distribuzione delle mance:\")\n",
    "plt.xlabel(\"Weekend\")\n",
    "plt.ylabel(\"Mancia\")\n",
    "plt.show()"
   ]
  },
  {
   "cell_type": "code",
   "execution_count": 44,
   "id": "e49f63a4",
   "metadata": {},
   "outputs": [
    {
     "name": "stderr",
     "output_type": "stream",
     "text": [
      "C:\\Users\\Valeria-WS\\AppData\\Local\\Temp\\ipykernel_5136\\2893372302.py:5: SettingWithCopyWarning: \n",
      "A value is trying to be set on a copy of a slice from a DataFrame.\n",
      "Try using .loc[row_indexer,col_indexer] = value instead\n",
      "\n",
      "See the caveats in the documentation: https://pandas.pydata.org/pandas-docs/stable/user_guide/indexing.html#returning-a-view-versus-a-copy\n",
      "  tips_clean['sex_ecoded'] = le.fit_transform(tips_clean['sex'])\n",
      "C:\\Users\\Valeria-WS\\AppData\\Local\\Temp\\ipykernel_5136\\2893372302.py:6: SettingWithCopyWarning: \n",
      "A value is trying to be set on a copy of a slice from a DataFrame.\n",
      "Try using .loc[row_indexer,col_indexer] = value instead\n",
      "\n",
      "See the caveats in the documentation: https://pandas.pydata.org/pandas-docs/stable/user_guide/indexing.html#returning-a-view-versus-a-copy\n",
      "  tips_clean['time_encoded'] = le.fit_transform(tips_clean['time'])\n"
     ]
    },
    {
     "data": {
      "text/html": [
       "<div>\n",
       "<style scoped>\n",
       "    .dataframe tbody tr th:only-of-type {\n",
       "        vertical-align: middle;\n",
       "    }\n",
       "\n",
       "    .dataframe tbody tr th {\n",
       "        vertical-align: top;\n",
       "    }\n",
       "\n",
       "    .dataframe thead th {\n",
       "        text-align: right;\n",
       "    }\n",
       "</style>\n",
       "<table border=\"1\" class=\"dataframe\">\n",
       "  <thead>\n",
       "    <tr style=\"text-align: right;\">\n",
       "      <th></th>\n",
       "      <th>total_bill</th>\n",
       "      <th>tip</th>\n",
       "      <th>sex</th>\n",
       "      <th>day</th>\n",
       "      <th>time</th>\n",
       "      <th>size</th>\n",
       "      <th>tip_to_bill_ratio</th>\n",
       "      <th>large_table</th>\n",
       "      <th>is_weekend</th>\n",
       "      <th>sex_ecoded</th>\n",
       "      <th>time_encoded</th>\n",
       "    </tr>\n",
       "  </thead>\n",
       "  <tbody>\n",
       "    <tr>\n",
       "      <th>0</th>\n",
       "      <td>16.99</td>\n",
       "      <td>1.01</td>\n",
       "      <td>Female</td>\n",
       "      <td>Sun</td>\n",
       "      <td>Dinner</td>\n",
       "      <td>2</td>\n",
       "      <td>0.059447</td>\n",
       "      <td>False</td>\n",
       "      <td>True</td>\n",
       "      <td>0</td>\n",
       "      <td>0</td>\n",
       "    </tr>\n",
       "    <tr>\n",
       "      <th>1</th>\n",
       "      <td>10.34</td>\n",
       "      <td>1.66</td>\n",
       "      <td>Male</td>\n",
       "      <td>Sun</td>\n",
       "      <td>Dinner</td>\n",
       "      <td>3</td>\n",
       "      <td>0.160542</td>\n",
       "      <td>False</td>\n",
       "      <td>True</td>\n",
       "      <td>1</td>\n",
       "      <td>0</td>\n",
       "    </tr>\n",
       "    <tr>\n",
       "      <th>2</th>\n",
       "      <td>21.01</td>\n",
       "      <td>3.50</td>\n",
       "      <td>Male</td>\n",
       "      <td>Sun</td>\n",
       "      <td>Dinner</td>\n",
       "      <td>3</td>\n",
       "      <td>0.166587</td>\n",
       "      <td>False</td>\n",
       "      <td>True</td>\n",
       "      <td>1</td>\n",
       "      <td>0</td>\n",
       "    </tr>\n",
       "    <tr>\n",
       "      <th>3</th>\n",
       "      <td>23.68</td>\n",
       "      <td>3.31</td>\n",
       "      <td>Male</td>\n",
       "      <td>Sun</td>\n",
       "      <td>Dinner</td>\n",
       "      <td>2</td>\n",
       "      <td>0.139780</td>\n",
       "      <td>False</td>\n",
       "      <td>True</td>\n",
       "      <td>1</td>\n",
       "      <td>0</td>\n",
       "    </tr>\n",
       "    <tr>\n",
       "      <th>4</th>\n",
       "      <td>24.59</td>\n",
       "      <td>3.61</td>\n",
       "      <td>Female</td>\n",
       "      <td>Sun</td>\n",
       "      <td>Dinner</td>\n",
       "      <td>4</td>\n",
       "      <td>0.146808</td>\n",
       "      <td>False</td>\n",
       "      <td>True</td>\n",
       "      <td>0</td>\n",
       "      <td>0</td>\n",
       "    </tr>\n",
       "  </tbody>\n",
       "</table>\n",
       "</div>"
      ],
      "text/plain": [
       "   total_bill   tip     sex  day    time  size  tip_to_bill_ratio  \\\n",
       "0       16.99  1.01  Female  Sun  Dinner     2           0.059447   \n",
       "1       10.34  1.66    Male  Sun  Dinner     3           0.160542   \n",
       "2       21.01  3.50    Male  Sun  Dinner     3           0.166587   \n",
       "3       23.68  3.31    Male  Sun  Dinner     2           0.139780   \n",
       "4       24.59  3.61  Female  Sun  Dinner     4           0.146808   \n",
       "\n",
       "   large_table  is_weekend  sex_ecoded  time_encoded  \n",
       "0        False        True           0             0  \n",
       "1        False        True           1             0  \n",
       "2        False        True           1             0  \n",
       "3        False        True           1             0  \n",
       "4        False        True           0             0  "
      ]
     },
     "execution_count": 44,
     "metadata": {},
     "output_type": "execute_result"
    }
   ],
   "source": [
    "# Trransformazione di variabili categoriche - potevo farle prima ma vabbe\n",
    "\n",
    "#Lablel Encoding\n",
    "le = LabelEncoder()\n",
    "tips_clean['sex_ecoded'] = le.fit_transform(tips_clean['sex'])\n",
    "tips_clean['time_encoded'] = le.fit_transform(tips_clean['time'])\n",
    "tips_clean.head()"
   ]
  },
  {
   "cell_type": "code",
   "execution_count": 45,
   "id": "91f6c872",
   "metadata": {},
   "outputs": [
    {
     "data": {
      "text/html": [
       "<div>\n",
       "<style scoped>\n",
       "    .dataframe tbody tr th:only-of-type {\n",
       "        vertical-align: middle;\n",
       "    }\n",
       "\n",
       "    .dataframe tbody tr th {\n",
       "        vertical-align: top;\n",
       "    }\n",
       "\n",
       "    .dataframe thead th {\n",
       "        text-align: right;\n",
       "    }\n",
       "</style>\n",
       "<table border=\"1\" class=\"dataframe\">\n",
       "  <thead>\n",
       "    <tr style=\"text-align: right;\">\n",
       "      <th></th>\n",
       "      <th>total_bill</th>\n",
       "      <th>tip</th>\n",
       "      <th>sex</th>\n",
       "      <th>time</th>\n",
       "      <th>size</th>\n",
       "      <th>tip_to_bill_ratio</th>\n",
       "      <th>large_table</th>\n",
       "      <th>is_weekend</th>\n",
       "      <th>sex_ecoded</th>\n",
       "      <th>time_encoded</th>\n",
       "      <th>day_Thur</th>\n",
       "      <th>day_Fri</th>\n",
       "      <th>day_Sat</th>\n",
       "      <th>day_Sun</th>\n",
       "    </tr>\n",
       "  </thead>\n",
       "  <tbody>\n",
       "    <tr>\n",
       "      <th>0</th>\n",
       "      <td>16.99</td>\n",
       "      <td>1.01</td>\n",
       "      <td>Female</td>\n",
       "      <td>Dinner</td>\n",
       "      <td>2</td>\n",
       "      <td>0.059447</td>\n",
       "      <td>False</td>\n",
       "      <td>True</td>\n",
       "      <td>0</td>\n",
       "      <td>0</td>\n",
       "      <td>False</td>\n",
       "      <td>False</td>\n",
       "      <td>False</td>\n",
       "      <td>True</td>\n",
       "    </tr>\n",
       "    <tr>\n",
       "      <th>1</th>\n",
       "      <td>10.34</td>\n",
       "      <td>1.66</td>\n",
       "      <td>Male</td>\n",
       "      <td>Dinner</td>\n",
       "      <td>3</td>\n",
       "      <td>0.160542</td>\n",
       "      <td>False</td>\n",
       "      <td>True</td>\n",
       "      <td>1</td>\n",
       "      <td>0</td>\n",
       "      <td>False</td>\n",
       "      <td>False</td>\n",
       "      <td>False</td>\n",
       "      <td>True</td>\n",
       "    </tr>\n",
       "    <tr>\n",
       "      <th>2</th>\n",
       "      <td>21.01</td>\n",
       "      <td>3.50</td>\n",
       "      <td>Male</td>\n",
       "      <td>Dinner</td>\n",
       "      <td>3</td>\n",
       "      <td>0.166587</td>\n",
       "      <td>False</td>\n",
       "      <td>True</td>\n",
       "      <td>1</td>\n",
       "      <td>0</td>\n",
       "      <td>False</td>\n",
       "      <td>False</td>\n",
       "      <td>False</td>\n",
       "      <td>True</td>\n",
       "    </tr>\n",
       "    <tr>\n",
       "      <th>3</th>\n",
       "      <td>23.68</td>\n",
       "      <td>3.31</td>\n",
       "      <td>Male</td>\n",
       "      <td>Dinner</td>\n",
       "      <td>2</td>\n",
       "      <td>0.139780</td>\n",
       "      <td>False</td>\n",
       "      <td>True</td>\n",
       "      <td>1</td>\n",
       "      <td>0</td>\n",
       "      <td>False</td>\n",
       "      <td>False</td>\n",
       "      <td>False</td>\n",
       "      <td>True</td>\n",
       "    </tr>\n",
       "    <tr>\n",
       "      <th>4</th>\n",
       "      <td>24.59</td>\n",
       "      <td>3.61</td>\n",
       "      <td>Female</td>\n",
       "      <td>Dinner</td>\n",
       "      <td>4</td>\n",
       "      <td>0.146808</td>\n",
       "      <td>False</td>\n",
       "      <td>True</td>\n",
       "      <td>0</td>\n",
       "      <td>0</td>\n",
       "      <td>False</td>\n",
       "      <td>False</td>\n",
       "      <td>False</td>\n",
       "      <td>True</td>\n",
       "    </tr>\n",
       "  </tbody>\n",
       "</table>\n",
       "</div>"
      ],
      "text/plain": [
       "   total_bill   tip     sex    time  size  tip_to_bill_ratio  large_table  \\\n",
       "0       16.99  1.01  Female  Dinner     2           0.059447        False   \n",
       "1       10.34  1.66    Male  Dinner     3           0.160542        False   \n",
       "2       21.01  3.50    Male  Dinner     3           0.166587        False   \n",
       "3       23.68  3.31    Male  Dinner     2           0.139780        False   \n",
       "4       24.59  3.61  Female  Dinner     4           0.146808        False   \n",
       "\n",
       "   is_weekend  sex_ecoded  time_encoded  day_Thur  day_Fri  day_Sat  day_Sun  \n",
       "0        True           0             0     False    False    False     True  \n",
       "1        True           1             0     False    False    False     True  \n",
       "2        True           1             0     False    False    False     True  \n",
       "3        True           1             0     False    False    False     True  \n",
       "4        True           0             0     False    False    False     True  "
      ]
     },
     "execution_count": 45,
     "metadata": {},
     "output_type": "execute_result"
    }
   ],
   "source": [
    "#One-Hot Encoding\n",
    "tips_encoded = pd.get_dummies(tips_clean, columns=['day'])\n",
    "tips_encoded.head()"
   ]
  },
  {
   "cell_type": "code",
   "execution_count": 46,
   "id": "c1c7a9c7",
   "metadata": {},
   "outputs": [
    {
     "data": {
      "text/html": [
       "<div>\n",
       "<style scoped>\n",
       "    .dataframe tbody tr th:only-of-type {\n",
       "        vertical-align: middle;\n",
       "    }\n",
       "\n",
       "    .dataframe tbody tr th {\n",
       "        vertical-align: top;\n",
       "    }\n",
       "\n",
       "    .dataframe thead th {\n",
       "        text-align: right;\n",
       "    }\n",
       "</style>\n",
       "<table border=\"1\" class=\"dataframe\">\n",
       "  <thead>\n",
       "    <tr style=\"text-align: right;\">\n",
       "      <th></th>\n",
       "      <th>total_bill</th>\n",
       "      <th>tip</th>\n",
       "      <th>sex</th>\n",
       "      <th>time</th>\n",
       "      <th>size</th>\n",
       "      <th>tip_to_bill_ratio</th>\n",
       "      <th>large_table</th>\n",
       "      <th>is_weekend</th>\n",
       "      <th>sex_ecoded</th>\n",
       "      <th>time_encoded</th>\n",
       "      <th>day_Thur</th>\n",
       "      <th>day_Fri</th>\n",
       "      <th>day_Sat</th>\n",
       "      <th>day_Sun</th>\n",
       "      <th>size_category</th>\n",
       "      <th>size_ordinal</th>\n",
       "    </tr>\n",
       "  </thead>\n",
       "  <tbody>\n",
       "    <tr>\n",
       "      <th>0</th>\n",
       "      <td>16.99</td>\n",
       "      <td>1.01</td>\n",
       "      <td>Female</td>\n",
       "      <td>Dinner</td>\n",
       "      <td>2</td>\n",
       "      <td>0.059447</td>\n",
       "      <td>False</td>\n",
       "      <td>True</td>\n",
       "      <td>0</td>\n",
       "      <td>0</td>\n",
       "      <td>False</td>\n",
       "      <td>False</td>\n",
       "      <td>False</td>\n",
       "      <td>True</td>\n",
       "      <td>small</td>\n",
       "      <td>1</td>\n",
       "    </tr>\n",
       "    <tr>\n",
       "      <th>1</th>\n",
       "      <td>10.34</td>\n",
       "      <td>1.66</td>\n",
       "      <td>Male</td>\n",
       "      <td>Dinner</td>\n",
       "      <td>3</td>\n",
       "      <td>0.160542</td>\n",
       "      <td>False</td>\n",
       "      <td>True</td>\n",
       "      <td>1</td>\n",
       "      <td>0</td>\n",
       "      <td>False</td>\n",
       "      <td>False</td>\n",
       "      <td>False</td>\n",
       "      <td>True</td>\n",
       "      <td>medium</td>\n",
       "      <td>2</td>\n",
       "    </tr>\n",
       "    <tr>\n",
       "      <th>2</th>\n",
       "      <td>21.01</td>\n",
       "      <td>3.50</td>\n",
       "      <td>Male</td>\n",
       "      <td>Dinner</td>\n",
       "      <td>3</td>\n",
       "      <td>0.166587</td>\n",
       "      <td>False</td>\n",
       "      <td>True</td>\n",
       "      <td>1</td>\n",
       "      <td>0</td>\n",
       "      <td>False</td>\n",
       "      <td>False</td>\n",
       "      <td>False</td>\n",
       "      <td>True</td>\n",
       "      <td>medium</td>\n",
       "      <td>2</td>\n",
       "    </tr>\n",
       "    <tr>\n",
       "      <th>3</th>\n",
       "      <td>23.68</td>\n",
       "      <td>3.31</td>\n",
       "      <td>Male</td>\n",
       "      <td>Dinner</td>\n",
       "      <td>2</td>\n",
       "      <td>0.139780</td>\n",
       "      <td>False</td>\n",
       "      <td>True</td>\n",
       "      <td>1</td>\n",
       "      <td>0</td>\n",
       "      <td>False</td>\n",
       "      <td>False</td>\n",
       "      <td>False</td>\n",
       "      <td>True</td>\n",
       "      <td>small</td>\n",
       "      <td>1</td>\n",
       "    </tr>\n",
       "    <tr>\n",
       "      <th>4</th>\n",
       "      <td>24.59</td>\n",
       "      <td>3.61</td>\n",
       "      <td>Female</td>\n",
       "      <td>Dinner</td>\n",
       "      <td>4</td>\n",
       "      <td>0.146808</td>\n",
       "      <td>False</td>\n",
       "      <td>True</td>\n",
       "      <td>0</td>\n",
       "      <td>0</td>\n",
       "      <td>False</td>\n",
       "      <td>False</td>\n",
       "      <td>False</td>\n",
       "      <td>True</td>\n",
       "      <td>medium</td>\n",
       "      <td>2</td>\n",
       "    </tr>\n",
       "  </tbody>\n",
       "</table>\n",
       "</div>"
      ],
      "text/plain": [
       "   total_bill   tip     sex    time  size  tip_to_bill_ratio  large_table  \\\n",
       "0       16.99  1.01  Female  Dinner     2           0.059447        False   \n",
       "1       10.34  1.66    Male  Dinner     3           0.160542        False   \n",
       "2       21.01  3.50    Male  Dinner     3           0.166587        False   \n",
       "3       23.68  3.31    Male  Dinner     2           0.139780        False   \n",
       "4       24.59  3.61  Female  Dinner     4           0.146808        False   \n",
       "\n",
       "   is_weekend  sex_ecoded  time_encoded  day_Thur  day_Fri  day_Sat  day_Sun  \\\n",
       "0        True           0             0     False    False    False     True   \n",
       "1        True           1             0     False    False    False     True   \n",
       "2        True           1             0     False    False    False     True   \n",
       "3        True           1             0     False    False    False     True   \n",
       "4        True           0             0     False    False    False     True   \n",
       "\n",
       "  size_category  size_ordinal  \n",
       "0         small             1  \n",
       "1        medium             2  \n",
       "2        medium             2  \n",
       "3         small             1  \n",
       "4        medium             2  "
      ]
     },
     "execution_count": 46,
     "metadata": {},
     "output_type": "execute_result"
    }
   ],
   "source": [
    "#Ordinal Encoding - non ha senso farlo qui ma lo mostro comunque\n",
    "\n",
    "def size_to_ordinal(size):\n",
    "    if size <= 2:\n",
    "        return 'small'\n",
    "    elif 2 < size <= 4:\n",
    "        return 'medium'\n",
    "    elif 5 <= size <= 7:\n",
    "        return 'large'\n",
    "    else:\n",
    "        return 'extra large'\n",
    "\n",
    "tips_encoded['size_category'] = tips_encoded['size'].apply(size_to_ordinal)\n",
    "ordinal_mapping = {'small': 1, 'medium': 2, 'large': 3, 'extra large': 4}\n",
    "tips_encoded['size_ordinal'] = tips_encoded['size_category'].map(ordinal_mapping)\n",
    "tips_encoded.head()"
   ]
  },
  {
   "cell_type": "code",
   "execution_count": 47,
   "id": "06e11804",
   "metadata": {},
   "outputs": [
    {
     "data": {
      "text/html": [
       "<div>\n",
       "<style scoped>\n",
       "    .dataframe tbody tr th:only-of-type {\n",
       "        vertical-align: middle;\n",
       "    }\n",
       "\n",
       "    .dataframe tbody tr th {\n",
       "        vertical-align: top;\n",
       "    }\n",
       "\n",
       "    .dataframe thead th {\n",
       "        text-align: right;\n",
       "    }\n",
       "</style>\n",
       "<table border=\"1\" class=\"dataframe\">\n",
       "  <thead>\n",
       "    <tr style=\"text-align: right;\">\n",
       "      <th></th>\n",
       "      <th>total_bill</th>\n",
       "      <th>tip</th>\n",
       "      <th>tip_to_bill_ratio</th>\n",
       "      <th>large_table</th>\n",
       "      <th>is_weekend</th>\n",
       "      <th>sex_ecoded</th>\n",
       "      <th>time_encoded</th>\n",
       "      <th>size_category</th>\n",
       "    </tr>\n",
       "  </thead>\n",
       "  <tbody>\n",
       "    <tr>\n",
       "      <th>0</th>\n",
       "      <td>16.99</td>\n",
       "      <td>1.01</td>\n",
       "      <td>0.059447</td>\n",
       "      <td>False</td>\n",
       "      <td>True</td>\n",
       "      <td>0</td>\n",
       "      <td>0</td>\n",
       "      <td>small</td>\n",
       "    </tr>\n",
       "    <tr>\n",
       "      <th>1</th>\n",
       "      <td>10.34</td>\n",
       "      <td>1.66</td>\n",
       "      <td>0.160542</td>\n",
       "      <td>False</td>\n",
       "      <td>True</td>\n",
       "      <td>1</td>\n",
       "      <td>0</td>\n",
       "      <td>medium</td>\n",
       "    </tr>\n",
       "    <tr>\n",
       "      <th>2</th>\n",
       "      <td>21.01</td>\n",
       "      <td>3.50</td>\n",
       "      <td>0.166587</td>\n",
       "      <td>False</td>\n",
       "      <td>True</td>\n",
       "      <td>1</td>\n",
       "      <td>0</td>\n",
       "      <td>medium</td>\n",
       "    </tr>\n",
       "    <tr>\n",
       "      <th>3</th>\n",
       "      <td>23.68</td>\n",
       "      <td>3.31</td>\n",
       "      <td>0.139780</td>\n",
       "      <td>False</td>\n",
       "      <td>True</td>\n",
       "      <td>1</td>\n",
       "      <td>0</td>\n",
       "      <td>small</td>\n",
       "    </tr>\n",
       "    <tr>\n",
       "      <th>4</th>\n",
       "      <td>24.59</td>\n",
       "      <td>3.61</td>\n",
       "      <td>0.146808</td>\n",
       "      <td>False</td>\n",
       "      <td>True</td>\n",
       "      <td>0</td>\n",
       "      <td>0</td>\n",
       "      <td>medium</td>\n",
       "    </tr>\n",
       "  </tbody>\n",
       "</table>\n",
       "</div>"
      ],
      "text/plain": [
       "   total_bill   tip  tip_to_bill_ratio  large_table  is_weekend  sex_ecoded  \\\n",
       "0       16.99  1.01           0.059447        False        True           0   \n",
       "1       10.34  1.66           0.160542        False        True           1   \n",
       "2       21.01  3.50           0.166587        False        True           1   \n",
       "3       23.68  3.31           0.139780        False        True           1   \n",
       "4       24.59  3.61           0.146808        False        True           0   \n",
       "\n",
       "   time_encoded size_category  \n",
       "0             0         small  \n",
       "1             0        medium  \n",
       "2             0        medium  \n",
       "3             0         small  \n",
       "4             0        medium  "
      ]
     },
     "execution_count": 47,
     "metadata": {},
     "output_type": "execute_result"
    }
   ],
   "source": [
    "# Rimuovere colonne indesiderate : size size ordinal sez time day\n",
    "tips_cleaned = tips_encoded.drop(columns=['size', 'size_ordinal', 'sex', 'time', 'day_Thur', 'day_Fri', 'day_Sat', 'day_Sun'])\n",
    "\n",
    "# Controllo il risultato\n",
    "tips_cleaned.head()"
   ]
  }
 ],
 "metadata": {
  "kernelspec": {
   "display_name": "Python 3",
   "language": "python",
   "name": "python3"
  },
  "language_info": {
   "codemirror_mode": {
    "name": "ipython",
    "version": 3
   },
   "file_extension": ".py",
   "mimetype": "text/x-python",
   "name": "python",
   "nbconvert_exporter": "python",
   "pygments_lexer": "ipython3",
   "version": "3.13.2"
  }
 },
 "nbformat": 4,
 "nbformat_minor": 5
}
